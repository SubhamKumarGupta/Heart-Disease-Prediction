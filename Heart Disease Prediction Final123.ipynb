{
 "cells": [
  {
   "cell_type": "code",
   "execution_count": 1,
   "id": "9dd1e5c3",
   "metadata": {},
   "outputs": [],
   "source": [
    "import numpy as np\n",
    "import pandas as pd\n",
    "import matplotlib.pyplot as plt\n",
    "import seaborn as sns\n",
    "from sklearn.preprocessing import LabelEncoder\n",
    "le=LabelEncoder()\n",
    "import math\n",
    "import warnings\n",
    "warnings.filterwarnings('ignore')\n",
    "import sklearn\n",
    "from sklearn.model_selection import train_test_split\n",
    "from sklearn.metrics import confusion_matrix\n",
    "from sklearn.metrics import classification_report\n",
    "from sklearn.metrics import precision_score, recall_score, f1_score\n",
    "from sklearn.linear_model import LogisticRegression\n",
    "lg = LogisticRegression()\n",
    "from sklearn.tree import DecisionTreeClassifier\n",
    "dt=DecisionTreeClassifier()\n",
    "from sklearn.ensemble import RandomForestClassifier\n",
    "rf = RandomForestClassifier()\n",
    "from sklearn.neighbors import KNeighborsClassifier\n",
    "knn=KNeighborsClassifier(n_neighbors=17)\n",
    "from sklearn.naive_bayes import MultinomialNB\n",
    "nb=MultinomialNB()\n",
    "from xgboost import XGBClassifier\n",
    "xgb=XGBClassifier()"
   ]
  },
  {
   "cell_type": "markdown",
   "id": "649d63ef",
   "metadata": {},
   "source": [
    "# Reading the Data"
   ]
  },
  {
   "cell_type": "code",
   "execution_count": 2,
   "id": "3e0c90cf",
   "metadata": {
    "scrolled": false
   },
   "outputs": [
    {
     "data": {
      "text/html": [
       "<div>\n",
       "<style scoped>\n",
       "    .dataframe tbody tr th:only-of-type {\n",
       "        vertical-align: middle;\n",
       "    }\n",
       "\n",
       "    .dataframe tbody tr th {\n",
       "        vertical-align: top;\n",
       "    }\n",
       "\n",
       "    .dataframe thead th {\n",
       "        text-align: right;\n",
       "    }\n",
       "</style>\n",
       "<table border=\"1\" class=\"dataframe\">\n",
       "  <thead>\n",
       "    <tr style=\"text-align: right;\">\n",
       "      <th></th>\n",
       "      <th>HeartDiseaseorAttack</th>\n",
       "      <th>HighBP</th>\n",
       "      <th>HighChol</th>\n",
       "      <th>CholCheck</th>\n",
       "      <th>BMI</th>\n",
       "      <th>Smoker</th>\n",
       "      <th>Stroke</th>\n",
       "      <th>Diabetes</th>\n",
       "      <th>PhysActivity</th>\n",
       "      <th>Fruits</th>\n",
       "      <th>...</th>\n",
       "      <th>AnyHealthcare</th>\n",
       "      <th>NoDocbcCost</th>\n",
       "      <th>GenHlth</th>\n",
       "      <th>MentHlth</th>\n",
       "      <th>PhysHlth</th>\n",
       "      <th>DiffWalk</th>\n",
       "      <th>Sex</th>\n",
       "      <th>Age</th>\n",
       "      <th>Education</th>\n",
       "      <th>Income</th>\n",
       "    </tr>\n",
       "  </thead>\n",
       "  <tbody>\n",
       "    <tr>\n",
       "      <th>0</th>\n",
       "      <td>0.0</td>\n",
       "      <td>1.0</td>\n",
       "      <td>1.0</td>\n",
       "      <td>1.0</td>\n",
       "      <td>40.0</td>\n",
       "      <td>1.0</td>\n",
       "      <td>0.0</td>\n",
       "      <td>0.0</td>\n",
       "      <td>0.0</td>\n",
       "      <td>0.0</td>\n",
       "      <td>...</td>\n",
       "      <td>1.0</td>\n",
       "      <td>0.0</td>\n",
       "      <td>5.0</td>\n",
       "      <td>18.0</td>\n",
       "      <td>15.0</td>\n",
       "      <td>1.0</td>\n",
       "      <td>0.0</td>\n",
       "      <td>9.0</td>\n",
       "      <td>4.0</td>\n",
       "      <td>3.0</td>\n",
       "    </tr>\n",
       "    <tr>\n",
       "      <th>1</th>\n",
       "      <td>0.0</td>\n",
       "      <td>0.0</td>\n",
       "      <td>0.0</td>\n",
       "      <td>0.0</td>\n",
       "      <td>25.0</td>\n",
       "      <td>1.0</td>\n",
       "      <td>0.0</td>\n",
       "      <td>0.0</td>\n",
       "      <td>1.0</td>\n",
       "      <td>0.0</td>\n",
       "      <td>...</td>\n",
       "      <td>0.0</td>\n",
       "      <td>1.0</td>\n",
       "      <td>3.0</td>\n",
       "      <td>0.0</td>\n",
       "      <td>0.0</td>\n",
       "      <td>0.0</td>\n",
       "      <td>0.0</td>\n",
       "      <td>7.0</td>\n",
       "      <td>6.0</td>\n",
       "      <td>1.0</td>\n",
       "    </tr>\n",
       "    <tr>\n",
       "      <th>2</th>\n",
       "      <td>0.0</td>\n",
       "      <td>1.0</td>\n",
       "      <td>1.0</td>\n",
       "      <td>1.0</td>\n",
       "      <td>28.0</td>\n",
       "      <td>0.0</td>\n",
       "      <td>0.0</td>\n",
       "      <td>0.0</td>\n",
       "      <td>0.0</td>\n",
       "      <td>1.0</td>\n",
       "      <td>...</td>\n",
       "      <td>1.0</td>\n",
       "      <td>1.0</td>\n",
       "      <td>5.0</td>\n",
       "      <td>30.0</td>\n",
       "      <td>30.0</td>\n",
       "      <td>1.0</td>\n",
       "      <td>0.0</td>\n",
       "      <td>9.0</td>\n",
       "      <td>4.0</td>\n",
       "      <td>8.0</td>\n",
       "    </tr>\n",
       "    <tr>\n",
       "      <th>3</th>\n",
       "      <td>0.0</td>\n",
       "      <td>1.0</td>\n",
       "      <td>0.0</td>\n",
       "      <td>1.0</td>\n",
       "      <td>27.0</td>\n",
       "      <td>0.0</td>\n",
       "      <td>0.0</td>\n",
       "      <td>0.0</td>\n",
       "      <td>1.0</td>\n",
       "      <td>1.0</td>\n",
       "      <td>...</td>\n",
       "      <td>1.0</td>\n",
       "      <td>0.0</td>\n",
       "      <td>2.0</td>\n",
       "      <td>0.0</td>\n",
       "      <td>0.0</td>\n",
       "      <td>0.0</td>\n",
       "      <td>0.0</td>\n",
       "      <td>11.0</td>\n",
       "      <td>3.0</td>\n",
       "      <td>6.0</td>\n",
       "    </tr>\n",
       "    <tr>\n",
       "      <th>4</th>\n",
       "      <td>0.0</td>\n",
       "      <td>1.0</td>\n",
       "      <td>1.0</td>\n",
       "      <td>1.0</td>\n",
       "      <td>24.0</td>\n",
       "      <td>0.0</td>\n",
       "      <td>0.0</td>\n",
       "      <td>0.0</td>\n",
       "      <td>1.0</td>\n",
       "      <td>1.0</td>\n",
       "      <td>...</td>\n",
       "      <td>1.0</td>\n",
       "      <td>0.0</td>\n",
       "      <td>2.0</td>\n",
       "      <td>3.0</td>\n",
       "      <td>0.0</td>\n",
       "      <td>0.0</td>\n",
       "      <td>0.0</td>\n",
       "      <td>11.0</td>\n",
       "      <td>5.0</td>\n",
       "      <td>4.0</td>\n",
       "    </tr>\n",
       "    <tr>\n",
       "      <th>...</th>\n",
       "      <td>...</td>\n",
       "      <td>...</td>\n",
       "      <td>...</td>\n",
       "      <td>...</td>\n",
       "      <td>...</td>\n",
       "      <td>...</td>\n",
       "      <td>...</td>\n",
       "      <td>...</td>\n",
       "      <td>...</td>\n",
       "      <td>...</td>\n",
       "      <td>...</td>\n",
       "      <td>...</td>\n",
       "      <td>...</td>\n",
       "      <td>...</td>\n",
       "      <td>...</td>\n",
       "      <td>...</td>\n",
       "      <td>...</td>\n",
       "      <td>...</td>\n",
       "      <td>...</td>\n",
       "      <td>...</td>\n",
       "      <td>...</td>\n",
       "    </tr>\n",
       "    <tr>\n",
       "      <th>253675</th>\n",
       "      <td>0.0</td>\n",
       "      <td>1.0</td>\n",
       "      <td>1.0</td>\n",
       "      <td>1.0</td>\n",
       "      <td>45.0</td>\n",
       "      <td>0.0</td>\n",
       "      <td>0.0</td>\n",
       "      <td>0.0</td>\n",
       "      <td>0.0</td>\n",
       "      <td>1.0</td>\n",
       "      <td>...</td>\n",
       "      <td>1.0</td>\n",
       "      <td>0.0</td>\n",
       "      <td>3.0</td>\n",
       "      <td>0.0</td>\n",
       "      <td>5.0</td>\n",
       "      <td>0.0</td>\n",
       "      <td>1.0</td>\n",
       "      <td>5.0</td>\n",
       "      <td>6.0</td>\n",
       "      <td>7.0</td>\n",
       "    </tr>\n",
       "    <tr>\n",
       "      <th>253676</th>\n",
       "      <td>0.0</td>\n",
       "      <td>1.0</td>\n",
       "      <td>1.0</td>\n",
       "      <td>1.0</td>\n",
       "      <td>18.0</td>\n",
       "      <td>0.0</td>\n",
       "      <td>0.0</td>\n",
       "      <td>2.0</td>\n",
       "      <td>0.0</td>\n",
       "      <td>0.0</td>\n",
       "      <td>...</td>\n",
       "      <td>1.0</td>\n",
       "      <td>0.0</td>\n",
       "      <td>4.0</td>\n",
       "      <td>0.0</td>\n",
       "      <td>0.0</td>\n",
       "      <td>1.0</td>\n",
       "      <td>0.0</td>\n",
       "      <td>11.0</td>\n",
       "      <td>2.0</td>\n",
       "      <td>4.0</td>\n",
       "    </tr>\n",
       "    <tr>\n",
       "      <th>253677</th>\n",
       "      <td>0.0</td>\n",
       "      <td>0.0</td>\n",
       "      <td>0.0</td>\n",
       "      <td>1.0</td>\n",
       "      <td>28.0</td>\n",
       "      <td>0.0</td>\n",
       "      <td>0.0</td>\n",
       "      <td>0.0</td>\n",
       "      <td>1.0</td>\n",
       "      <td>1.0</td>\n",
       "      <td>...</td>\n",
       "      <td>1.0</td>\n",
       "      <td>0.0</td>\n",
       "      <td>1.0</td>\n",
       "      <td>0.0</td>\n",
       "      <td>0.0</td>\n",
       "      <td>0.0</td>\n",
       "      <td>0.0</td>\n",
       "      <td>2.0</td>\n",
       "      <td>5.0</td>\n",
       "      <td>2.0</td>\n",
       "    </tr>\n",
       "    <tr>\n",
       "      <th>253678</th>\n",
       "      <td>0.0</td>\n",
       "      <td>1.0</td>\n",
       "      <td>0.0</td>\n",
       "      <td>1.0</td>\n",
       "      <td>23.0</td>\n",
       "      <td>0.0</td>\n",
       "      <td>0.0</td>\n",
       "      <td>0.0</td>\n",
       "      <td>0.0</td>\n",
       "      <td>1.0</td>\n",
       "      <td>...</td>\n",
       "      <td>1.0</td>\n",
       "      <td>0.0</td>\n",
       "      <td>3.0</td>\n",
       "      <td>0.0</td>\n",
       "      <td>0.0</td>\n",
       "      <td>0.0</td>\n",
       "      <td>1.0</td>\n",
       "      <td>7.0</td>\n",
       "      <td>5.0</td>\n",
       "      <td>1.0</td>\n",
       "    </tr>\n",
       "    <tr>\n",
       "      <th>253679</th>\n",
       "      <td>1.0</td>\n",
       "      <td>1.0</td>\n",
       "      <td>1.0</td>\n",
       "      <td>1.0</td>\n",
       "      <td>25.0</td>\n",
       "      <td>0.0</td>\n",
       "      <td>0.0</td>\n",
       "      <td>2.0</td>\n",
       "      <td>1.0</td>\n",
       "      <td>1.0</td>\n",
       "      <td>...</td>\n",
       "      <td>1.0</td>\n",
       "      <td>0.0</td>\n",
       "      <td>2.0</td>\n",
       "      <td>0.0</td>\n",
       "      <td>0.0</td>\n",
       "      <td>0.0</td>\n",
       "      <td>0.0</td>\n",
       "      <td>9.0</td>\n",
       "      <td>6.0</td>\n",
       "      <td>2.0</td>\n",
       "    </tr>\n",
       "  </tbody>\n",
       "</table>\n",
       "<p>253680 rows × 22 columns</p>\n",
       "</div>"
      ],
      "text/plain": [
       "        HeartDiseaseorAttack  HighBP  HighChol  CholCheck   BMI  Smoker  \\\n",
       "0                        0.0     1.0       1.0        1.0  40.0     1.0   \n",
       "1                        0.0     0.0       0.0        0.0  25.0     1.0   \n",
       "2                        0.0     1.0       1.0        1.0  28.0     0.0   \n",
       "3                        0.0     1.0       0.0        1.0  27.0     0.0   \n",
       "4                        0.0     1.0       1.0        1.0  24.0     0.0   \n",
       "...                      ...     ...       ...        ...   ...     ...   \n",
       "253675                   0.0     1.0       1.0        1.0  45.0     0.0   \n",
       "253676                   0.0     1.0       1.0        1.0  18.0     0.0   \n",
       "253677                   0.0     0.0       0.0        1.0  28.0     0.0   \n",
       "253678                   0.0     1.0       0.0        1.0  23.0     0.0   \n",
       "253679                   1.0     1.0       1.0        1.0  25.0     0.0   \n",
       "\n",
       "        Stroke  Diabetes  PhysActivity  Fruits  ...  AnyHealthcare  \\\n",
       "0          0.0       0.0           0.0     0.0  ...            1.0   \n",
       "1          0.0       0.0           1.0     0.0  ...            0.0   \n",
       "2          0.0       0.0           0.0     1.0  ...            1.0   \n",
       "3          0.0       0.0           1.0     1.0  ...            1.0   \n",
       "4          0.0       0.0           1.0     1.0  ...            1.0   \n",
       "...        ...       ...           ...     ...  ...            ...   \n",
       "253675     0.0       0.0           0.0     1.0  ...            1.0   \n",
       "253676     0.0       2.0           0.0     0.0  ...            1.0   \n",
       "253677     0.0       0.0           1.0     1.0  ...            1.0   \n",
       "253678     0.0       0.0           0.0     1.0  ...            1.0   \n",
       "253679     0.0       2.0           1.0     1.0  ...            1.0   \n",
       "\n",
       "        NoDocbcCost  GenHlth  MentHlth  PhysHlth  DiffWalk  Sex   Age  \\\n",
       "0               0.0      5.0      18.0      15.0       1.0  0.0   9.0   \n",
       "1               1.0      3.0       0.0       0.0       0.0  0.0   7.0   \n",
       "2               1.0      5.0      30.0      30.0       1.0  0.0   9.0   \n",
       "3               0.0      2.0       0.0       0.0       0.0  0.0  11.0   \n",
       "4               0.0      2.0       3.0       0.0       0.0  0.0  11.0   \n",
       "...             ...      ...       ...       ...       ...  ...   ...   \n",
       "253675          0.0      3.0       0.0       5.0       0.0  1.0   5.0   \n",
       "253676          0.0      4.0       0.0       0.0       1.0  0.0  11.0   \n",
       "253677          0.0      1.0       0.0       0.0       0.0  0.0   2.0   \n",
       "253678          0.0      3.0       0.0       0.0       0.0  1.0   7.0   \n",
       "253679          0.0      2.0       0.0       0.0       0.0  0.0   9.0   \n",
       "\n",
       "        Education  Income  \n",
       "0             4.0     3.0  \n",
       "1             6.0     1.0  \n",
       "2             4.0     8.0  \n",
       "3             3.0     6.0  \n",
       "4             5.0     4.0  \n",
       "...           ...     ...  \n",
       "253675        6.0     7.0  \n",
       "253676        2.0     4.0  \n",
       "253677        5.0     2.0  \n",
       "253678        5.0     1.0  \n",
       "253679        6.0     2.0  \n",
       "\n",
       "[253680 rows x 22 columns]"
      ]
     },
     "execution_count": 2,
     "metadata": {},
     "output_type": "execute_result"
    }
   ],
   "source": [
    "hd = pd.read_csv(r\"E:\\DataSets\\archive1\\heart_disease_health_indicators_BRFSS2015.csv\")\n",
    "hd"
   ]
  },
  {
   "cell_type": "code",
   "execution_count": 3,
   "id": "58fa0b34",
   "metadata": {
    "scrolled": true
   },
   "outputs": [
    {
     "data": {
      "text/html": [
       "<div>\n",
       "<style scoped>\n",
       "    .dataframe tbody tr th:only-of-type {\n",
       "        vertical-align: middle;\n",
       "    }\n",
       "\n",
       "    .dataframe tbody tr th {\n",
       "        vertical-align: top;\n",
       "    }\n",
       "\n",
       "    .dataframe thead th {\n",
       "        text-align: right;\n",
       "    }\n",
       "</style>\n",
       "<table border=\"1\" class=\"dataframe\">\n",
       "  <thead>\n",
       "    <tr style=\"text-align: right;\">\n",
       "      <th></th>\n",
       "      <th>HeartDiseaseorAttack</th>\n",
       "      <th>HighBP</th>\n",
       "      <th>HighChol</th>\n",
       "      <th>CholCheck</th>\n",
       "      <th>BMI</th>\n",
       "      <th>Smoker</th>\n",
       "      <th>Stroke</th>\n",
       "      <th>Diabetes</th>\n",
       "      <th>PhysActivity</th>\n",
       "      <th>Fruits</th>\n",
       "      <th>...</th>\n",
       "      <th>AnyHealthcare</th>\n",
       "      <th>NoDocbcCost</th>\n",
       "      <th>GenHlth</th>\n",
       "      <th>MentHlth</th>\n",
       "      <th>PhysHlth</th>\n",
       "      <th>DiffWalk</th>\n",
       "      <th>Sex</th>\n",
       "      <th>Age</th>\n",
       "      <th>Education</th>\n",
       "      <th>Income</th>\n",
       "    </tr>\n",
       "  </thead>\n",
       "  <tbody>\n",
       "    <tr>\n",
       "      <th>0</th>\n",
       "      <td>0.0</td>\n",
       "      <td>1.0</td>\n",
       "      <td>1.0</td>\n",
       "      <td>1.0</td>\n",
       "      <td>40.0</td>\n",
       "      <td>1.0</td>\n",
       "      <td>0.0</td>\n",
       "      <td>0.0</td>\n",
       "      <td>0.0</td>\n",
       "      <td>0.0</td>\n",
       "      <td>...</td>\n",
       "      <td>1.0</td>\n",
       "      <td>0.0</td>\n",
       "      <td>5.0</td>\n",
       "      <td>18.0</td>\n",
       "      <td>15.0</td>\n",
       "      <td>1.0</td>\n",
       "      <td>0.0</td>\n",
       "      <td>9.0</td>\n",
       "      <td>4.0</td>\n",
       "      <td>3.0</td>\n",
       "    </tr>\n",
       "  </tbody>\n",
       "</table>\n",
       "<p>1 rows × 22 columns</p>\n",
       "</div>"
      ],
      "text/plain": [
       "   HeartDiseaseorAttack  HighBP  HighChol  CholCheck   BMI  Smoker  Stroke  \\\n",
       "0                   0.0     1.0       1.0        1.0  40.0     1.0     0.0   \n",
       "\n",
       "   Diabetes  PhysActivity  Fruits  ...  AnyHealthcare  NoDocbcCost  GenHlth  \\\n",
       "0       0.0           0.0     0.0  ...            1.0          0.0      5.0   \n",
       "\n",
       "   MentHlth  PhysHlth  DiffWalk  Sex  Age  Education  Income  \n",
       "0      18.0      15.0       1.0  0.0  9.0        4.0     3.0  \n",
       "\n",
       "[1 rows x 22 columns]"
      ]
     },
     "execution_count": 3,
     "metadata": {},
     "output_type": "execute_result"
    }
   ],
   "source": [
    "hd.head(1)"
   ]
  },
  {
   "cell_type": "code",
   "execution_count": 4,
   "id": "85274f84",
   "metadata": {},
   "outputs": [
    {
     "data": {
      "text/plain": [
       "0.0    229787\n",
       "1.0     23893\n",
       "Name: HeartDiseaseorAttack, dtype: int64"
      ]
     },
     "execution_count": 4,
     "metadata": {},
     "output_type": "execute_result"
    }
   ],
   "source": [
    "hd.HeartDiseaseorAttack.value_counts()"
   ]
  },
  {
   "cell_type": "code",
   "execution_count": 5,
   "id": "b9709992",
   "metadata": {},
   "outputs": [
    {
     "data": {
      "text/html": [
       "<div>\n",
       "<style scoped>\n",
       "    .dataframe tbody tr th:only-of-type {\n",
       "        vertical-align: middle;\n",
       "    }\n",
       "\n",
       "    .dataframe tbody tr th {\n",
       "        vertical-align: top;\n",
       "    }\n",
       "\n",
       "    .dataframe thead th {\n",
       "        text-align: right;\n",
       "    }\n",
       "</style>\n",
       "<table border=\"1\" class=\"dataframe\">\n",
       "  <thead>\n",
       "    <tr style=\"text-align: right;\">\n",
       "      <th></th>\n",
       "      <th>HeartDiseaseorAttack</th>\n",
       "      <th>HighBP</th>\n",
       "      <th>HighChol</th>\n",
       "      <th>CholCheck</th>\n",
       "      <th>BMI</th>\n",
       "      <th>Smoker</th>\n",
       "      <th>Stroke</th>\n",
       "      <th>Diabetes</th>\n",
       "      <th>PhysActivity</th>\n",
       "      <th>Fruits</th>\n",
       "      <th>...</th>\n",
       "      <th>AnyHealthcare</th>\n",
       "      <th>NoDocbcCost</th>\n",
       "      <th>GenHlth</th>\n",
       "      <th>MentHlth</th>\n",
       "      <th>PhysHlth</th>\n",
       "      <th>DiffWalk</th>\n",
       "      <th>Sex</th>\n",
       "      <th>Age</th>\n",
       "      <th>Education</th>\n",
       "      <th>Income</th>\n",
       "    </tr>\n",
       "  </thead>\n",
       "  <tbody>\n",
       "    <tr>\n",
       "      <th>253679</th>\n",
       "      <td>1.0</td>\n",
       "      <td>1.0</td>\n",
       "      <td>1.0</td>\n",
       "      <td>1.0</td>\n",
       "      <td>25.0</td>\n",
       "      <td>0.0</td>\n",
       "      <td>0.0</td>\n",
       "      <td>2.0</td>\n",
       "      <td>1.0</td>\n",
       "      <td>1.0</td>\n",
       "      <td>...</td>\n",
       "      <td>1.0</td>\n",
       "      <td>0.0</td>\n",
       "      <td>2.0</td>\n",
       "      <td>0.0</td>\n",
       "      <td>0.0</td>\n",
       "      <td>0.0</td>\n",
       "      <td>0.0</td>\n",
       "      <td>9.0</td>\n",
       "      <td>6.0</td>\n",
       "      <td>2.0</td>\n",
       "    </tr>\n",
       "  </tbody>\n",
       "</table>\n",
       "<p>1 rows × 22 columns</p>\n",
       "</div>"
      ],
      "text/plain": [
       "        HeartDiseaseorAttack  HighBP  HighChol  CholCheck   BMI  Smoker  \\\n",
       "253679                   1.0     1.0       1.0        1.0  25.0     0.0   \n",
       "\n",
       "        Stroke  Diabetes  PhysActivity  Fruits  ...  AnyHealthcare  \\\n",
       "253679     0.0       2.0           1.0     1.0  ...            1.0   \n",
       "\n",
       "        NoDocbcCost  GenHlth  MentHlth  PhysHlth  DiffWalk  Sex  Age  \\\n",
       "253679          0.0      2.0       0.0       0.0       0.0  0.0  9.0   \n",
       "\n",
       "        Education  Income  \n",
       "253679        6.0     2.0  \n",
       "\n",
       "[1 rows x 22 columns]"
      ]
     },
     "execution_count": 5,
     "metadata": {},
     "output_type": "execute_result"
    }
   ],
   "source": [
    "hd.tail(1)"
   ]
  },
  {
   "cell_type": "code",
   "execution_count": 6,
   "id": "3a94b24c",
   "metadata": {
    "scrolled": true
   },
   "outputs": [
    {
     "data": {
      "text/plain": [
       "(253680, 22)"
      ]
     },
     "execution_count": 6,
     "metadata": {},
     "output_type": "execute_result"
    }
   ],
   "source": [
    "hd.shape"
   ]
  },
  {
   "cell_type": "code",
   "execution_count": 7,
   "id": "6702c9ab",
   "metadata": {},
   "outputs": [
    {
     "data": {
      "text/html": [
       "<div>\n",
       "<style scoped>\n",
       "    .dataframe tbody tr th:only-of-type {\n",
       "        vertical-align: middle;\n",
       "    }\n",
       "\n",
       "    .dataframe tbody tr th {\n",
       "        vertical-align: top;\n",
       "    }\n",
       "\n",
       "    .dataframe thead th {\n",
       "        text-align: right;\n",
       "    }\n",
       "</style>\n",
       "<table border=\"1\" class=\"dataframe\">\n",
       "  <thead>\n",
       "    <tr style=\"text-align: right;\">\n",
       "      <th></th>\n",
       "      <th>HeartDiseaseorAttack</th>\n",
       "      <th>HighBP</th>\n",
       "      <th>HighChol</th>\n",
       "      <th>CholCheck</th>\n",
       "      <th>BMI</th>\n",
       "      <th>Smoker</th>\n",
       "      <th>Stroke</th>\n",
       "      <th>Diabetes</th>\n",
       "      <th>PhysActivity</th>\n",
       "      <th>Fruits</th>\n",
       "      <th>...</th>\n",
       "      <th>AnyHealthcare</th>\n",
       "      <th>NoDocbcCost</th>\n",
       "      <th>GenHlth</th>\n",
       "      <th>MentHlth</th>\n",
       "      <th>PhysHlth</th>\n",
       "      <th>DiffWalk</th>\n",
       "      <th>Sex</th>\n",
       "      <th>Age</th>\n",
       "      <th>Education</th>\n",
       "      <th>Income</th>\n",
       "    </tr>\n",
       "  </thead>\n",
       "  <tbody>\n",
       "    <tr>\n",
       "      <th>count</th>\n",
       "      <td>253680.000000</td>\n",
       "      <td>253680.000000</td>\n",
       "      <td>253680.000000</td>\n",
       "      <td>253680.000000</td>\n",
       "      <td>253680.000000</td>\n",
       "      <td>253680.000000</td>\n",
       "      <td>253680.000000</td>\n",
       "      <td>253680.000000</td>\n",
       "      <td>253680.000000</td>\n",
       "      <td>253680.000000</td>\n",
       "      <td>...</td>\n",
       "      <td>253680.000000</td>\n",
       "      <td>253680.000000</td>\n",
       "      <td>253680.000000</td>\n",
       "      <td>253680.000000</td>\n",
       "      <td>253680.000000</td>\n",
       "      <td>253680.000000</td>\n",
       "      <td>253680.000000</td>\n",
       "      <td>253680.000000</td>\n",
       "      <td>253680.000000</td>\n",
       "      <td>253680.000000</td>\n",
       "    </tr>\n",
       "    <tr>\n",
       "      <th>mean</th>\n",
       "      <td>0.094186</td>\n",
       "      <td>0.429001</td>\n",
       "      <td>0.424121</td>\n",
       "      <td>0.962670</td>\n",
       "      <td>28.382364</td>\n",
       "      <td>0.443169</td>\n",
       "      <td>0.040571</td>\n",
       "      <td>0.296921</td>\n",
       "      <td>0.756544</td>\n",
       "      <td>0.634256</td>\n",
       "      <td>...</td>\n",
       "      <td>0.951053</td>\n",
       "      <td>0.084177</td>\n",
       "      <td>2.511392</td>\n",
       "      <td>3.184772</td>\n",
       "      <td>4.242081</td>\n",
       "      <td>0.168224</td>\n",
       "      <td>0.440342</td>\n",
       "      <td>8.032119</td>\n",
       "      <td>5.050434</td>\n",
       "      <td>6.053875</td>\n",
       "    </tr>\n",
       "    <tr>\n",
       "      <th>std</th>\n",
       "      <td>0.292087</td>\n",
       "      <td>0.494934</td>\n",
       "      <td>0.494210</td>\n",
       "      <td>0.189571</td>\n",
       "      <td>6.608694</td>\n",
       "      <td>0.496761</td>\n",
       "      <td>0.197294</td>\n",
       "      <td>0.698160</td>\n",
       "      <td>0.429169</td>\n",
       "      <td>0.481639</td>\n",
       "      <td>...</td>\n",
       "      <td>0.215759</td>\n",
       "      <td>0.277654</td>\n",
       "      <td>1.068477</td>\n",
       "      <td>7.412847</td>\n",
       "      <td>8.717951</td>\n",
       "      <td>0.374066</td>\n",
       "      <td>0.496429</td>\n",
       "      <td>3.054220</td>\n",
       "      <td>0.985774</td>\n",
       "      <td>2.071148</td>\n",
       "    </tr>\n",
       "    <tr>\n",
       "      <th>min</th>\n",
       "      <td>0.000000</td>\n",
       "      <td>0.000000</td>\n",
       "      <td>0.000000</td>\n",
       "      <td>0.000000</td>\n",
       "      <td>12.000000</td>\n",
       "      <td>0.000000</td>\n",
       "      <td>0.000000</td>\n",
       "      <td>0.000000</td>\n",
       "      <td>0.000000</td>\n",
       "      <td>0.000000</td>\n",
       "      <td>...</td>\n",
       "      <td>0.000000</td>\n",
       "      <td>0.000000</td>\n",
       "      <td>1.000000</td>\n",
       "      <td>0.000000</td>\n",
       "      <td>0.000000</td>\n",
       "      <td>0.000000</td>\n",
       "      <td>0.000000</td>\n",
       "      <td>1.000000</td>\n",
       "      <td>1.000000</td>\n",
       "      <td>1.000000</td>\n",
       "    </tr>\n",
       "    <tr>\n",
       "      <th>25%</th>\n",
       "      <td>0.000000</td>\n",
       "      <td>0.000000</td>\n",
       "      <td>0.000000</td>\n",
       "      <td>1.000000</td>\n",
       "      <td>24.000000</td>\n",
       "      <td>0.000000</td>\n",
       "      <td>0.000000</td>\n",
       "      <td>0.000000</td>\n",
       "      <td>1.000000</td>\n",
       "      <td>0.000000</td>\n",
       "      <td>...</td>\n",
       "      <td>1.000000</td>\n",
       "      <td>0.000000</td>\n",
       "      <td>2.000000</td>\n",
       "      <td>0.000000</td>\n",
       "      <td>0.000000</td>\n",
       "      <td>0.000000</td>\n",
       "      <td>0.000000</td>\n",
       "      <td>6.000000</td>\n",
       "      <td>4.000000</td>\n",
       "      <td>5.000000</td>\n",
       "    </tr>\n",
       "    <tr>\n",
       "      <th>50%</th>\n",
       "      <td>0.000000</td>\n",
       "      <td>0.000000</td>\n",
       "      <td>0.000000</td>\n",
       "      <td>1.000000</td>\n",
       "      <td>27.000000</td>\n",
       "      <td>0.000000</td>\n",
       "      <td>0.000000</td>\n",
       "      <td>0.000000</td>\n",
       "      <td>1.000000</td>\n",
       "      <td>1.000000</td>\n",
       "      <td>...</td>\n",
       "      <td>1.000000</td>\n",
       "      <td>0.000000</td>\n",
       "      <td>2.000000</td>\n",
       "      <td>0.000000</td>\n",
       "      <td>0.000000</td>\n",
       "      <td>0.000000</td>\n",
       "      <td>0.000000</td>\n",
       "      <td>8.000000</td>\n",
       "      <td>5.000000</td>\n",
       "      <td>7.000000</td>\n",
       "    </tr>\n",
       "    <tr>\n",
       "      <th>75%</th>\n",
       "      <td>0.000000</td>\n",
       "      <td>1.000000</td>\n",
       "      <td>1.000000</td>\n",
       "      <td>1.000000</td>\n",
       "      <td>31.000000</td>\n",
       "      <td>1.000000</td>\n",
       "      <td>0.000000</td>\n",
       "      <td>0.000000</td>\n",
       "      <td>1.000000</td>\n",
       "      <td>1.000000</td>\n",
       "      <td>...</td>\n",
       "      <td>1.000000</td>\n",
       "      <td>0.000000</td>\n",
       "      <td>3.000000</td>\n",
       "      <td>2.000000</td>\n",
       "      <td>3.000000</td>\n",
       "      <td>0.000000</td>\n",
       "      <td>1.000000</td>\n",
       "      <td>10.000000</td>\n",
       "      <td>6.000000</td>\n",
       "      <td>8.000000</td>\n",
       "    </tr>\n",
       "    <tr>\n",
       "      <th>max</th>\n",
       "      <td>1.000000</td>\n",
       "      <td>1.000000</td>\n",
       "      <td>1.000000</td>\n",
       "      <td>1.000000</td>\n",
       "      <td>98.000000</td>\n",
       "      <td>1.000000</td>\n",
       "      <td>1.000000</td>\n",
       "      <td>2.000000</td>\n",
       "      <td>1.000000</td>\n",
       "      <td>1.000000</td>\n",
       "      <td>...</td>\n",
       "      <td>1.000000</td>\n",
       "      <td>1.000000</td>\n",
       "      <td>5.000000</td>\n",
       "      <td>30.000000</td>\n",
       "      <td>30.000000</td>\n",
       "      <td>1.000000</td>\n",
       "      <td>1.000000</td>\n",
       "      <td>13.000000</td>\n",
       "      <td>6.000000</td>\n",
       "      <td>8.000000</td>\n",
       "    </tr>\n",
       "  </tbody>\n",
       "</table>\n",
       "<p>8 rows × 22 columns</p>\n",
       "</div>"
      ],
      "text/plain": [
       "       HeartDiseaseorAttack         HighBP       HighChol      CholCheck  \\\n",
       "count         253680.000000  253680.000000  253680.000000  253680.000000   \n",
       "mean               0.094186       0.429001       0.424121       0.962670   \n",
       "std                0.292087       0.494934       0.494210       0.189571   \n",
       "min                0.000000       0.000000       0.000000       0.000000   \n",
       "25%                0.000000       0.000000       0.000000       1.000000   \n",
       "50%                0.000000       0.000000       0.000000       1.000000   \n",
       "75%                0.000000       1.000000       1.000000       1.000000   \n",
       "max                1.000000       1.000000       1.000000       1.000000   \n",
       "\n",
       "                 BMI         Smoker         Stroke       Diabetes  \\\n",
       "count  253680.000000  253680.000000  253680.000000  253680.000000   \n",
       "mean       28.382364       0.443169       0.040571       0.296921   \n",
       "std         6.608694       0.496761       0.197294       0.698160   \n",
       "min        12.000000       0.000000       0.000000       0.000000   \n",
       "25%        24.000000       0.000000       0.000000       0.000000   \n",
       "50%        27.000000       0.000000       0.000000       0.000000   \n",
       "75%        31.000000       1.000000       0.000000       0.000000   \n",
       "max        98.000000       1.000000       1.000000       2.000000   \n",
       "\n",
       "        PhysActivity         Fruits  ...  AnyHealthcare    NoDocbcCost  \\\n",
       "count  253680.000000  253680.000000  ...  253680.000000  253680.000000   \n",
       "mean        0.756544       0.634256  ...       0.951053       0.084177   \n",
       "std         0.429169       0.481639  ...       0.215759       0.277654   \n",
       "min         0.000000       0.000000  ...       0.000000       0.000000   \n",
       "25%         1.000000       0.000000  ...       1.000000       0.000000   \n",
       "50%         1.000000       1.000000  ...       1.000000       0.000000   \n",
       "75%         1.000000       1.000000  ...       1.000000       0.000000   \n",
       "max         1.000000       1.000000  ...       1.000000       1.000000   \n",
       "\n",
       "             GenHlth       MentHlth       PhysHlth       DiffWalk  \\\n",
       "count  253680.000000  253680.000000  253680.000000  253680.000000   \n",
       "mean        2.511392       3.184772       4.242081       0.168224   \n",
       "std         1.068477       7.412847       8.717951       0.374066   \n",
       "min         1.000000       0.000000       0.000000       0.000000   \n",
       "25%         2.000000       0.000000       0.000000       0.000000   \n",
       "50%         2.000000       0.000000       0.000000       0.000000   \n",
       "75%         3.000000       2.000000       3.000000       0.000000   \n",
       "max         5.000000      30.000000      30.000000       1.000000   \n",
       "\n",
       "                 Sex            Age      Education         Income  \n",
       "count  253680.000000  253680.000000  253680.000000  253680.000000  \n",
       "mean        0.440342       8.032119       5.050434       6.053875  \n",
       "std         0.496429       3.054220       0.985774       2.071148  \n",
       "min         0.000000       1.000000       1.000000       1.000000  \n",
       "25%         0.000000       6.000000       4.000000       5.000000  \n",
       "50%         0.000000       8.000000       5.000000       7.000000  \n",
       "75%         1.000000      10.000000       6.000000       8.000000  \n",
       "max         1.000000      13.000000       6.000000       8.000000  \n",
       "\n",
       "[8 rows x 22 columns]"
      ]
     },
     "execution_count": 7,
     "metadata": {},
     "output_type": "execute_result"
    }
   ],
   "source": [
    "hd.describe()"
   ]
  },
  {
   "cell_type": "code",
   "execution_count": 8,
   "id": "16500430",
   "metadata": {},
   "outputs": [
    {
     "name": "stdout",
     "output_type": "stream",
     "text": [
      "<class 'pandas.core.frame.DataFrame'>\n",
      "RangeIndex: 253680 entries, 0 to 253679\n",
      "Data columns (total 22 columns):\n",
      " #   Column                Non-Null Count   Dtype  \n",
      "---  ------                --------------   -----  \n",
      " 0   HeartDiseaseorAttack  253680 non-null  float64\n",
      " 1   HighBP                253680 non-null  float64\n",
      " 2   HighChol              253680 non-null  float64\n",
      " 3   CholCheck             253680 non-null  float64\n",
      " 4   BMI                   253680 non-null  float64\n",
      " 5   Smoker                253680 non-null  float64\n",
      " 6   Stroke                253680 non-null  float64\n",
      " 7   Diabetes              253680 non-null  float64\n",
      " 8   PhysActivity          253680 non-null  float64\n",
      " 9   Fruits                253680 non-null  float64\n",
      " 10  Veggies               253680 non-null  float64\n",
      " 11  HvyAlcoholConsump     253680 non-null  float64\n",
      " 12  AnyHealthcare         253680 non-null  float64\n",
      " 13  NoDocbcCost           253680 non-null  float64\n",
      " 14  GenHlth               253680 non-null  float64\n",
      " 15  MentHlth              253680 non-null  float64\n",
      " 16  PhysHlth              253680 non-null  float64\n",
      " 17  DiffWalk              253680 non-null  float64\n",
      " 18  Sex                   253680 non-null  float64\n",
      " 19  Age                   253680 non-null  float64\n",
      " 20  Education             253680 non-null  float64\n",
      " 21  Income                253680 non-null  float64\n",
      "dtypes: float64(22)\n",
      "memory usage: 42.6 MB\n"
     ]
    }
   ],
   "source": [
    "hd.info()"
   ]
  },
  {
   "cell_type": "markdown",
   "id": "a6f17f2d",
   "metadata": {},
   "source": [
    "# Cleaning the data"
   ]
  },
  {
   "cell_type": "markdown",
   "id": "a1e42710",
   "metadata": {},
   "source": [
    "# 1. Checking for dtypes"
   ]
  },
  {
   "cell_type": "code",
   "execution_count": 9,
   "id": "ff6aba05",
   "metadata": {
    "scrolled": false
   },
   "outputs": [
    {
     "data": {
      "text/plain": [
       "HeartDiseaseorAttack    float64\n",
       "HighBP                  float64\n",
       "HighChol                float64\n",
       "CholCheck               float64\n",
       "BMI                     float64\n",
       "Smoker                  float64\n",
       "Stroke                  float64\n",
       "Diabetes                float64\n",
       "PhysActivity            float64\n",
       "Fruits                  float64\n",
       "Veggies                 float64\n",
       "HvyAlcoholConsump       float64\n",
       "AnyHealthcare           float64\n",
       "NoDocbcCost             float64\n",
       "GenHlth                 float64\n",
       "MentHlth                float64\n",
       "PhysHlth                float64\n",
       "DiffWalk                float64\n",
       "Sex                     float64\n",
       "Age                     float64\n",
       "Education               float64\n",
       "Income                  float64\n",
       "dtype: object"
      ]
     },
     "execution_count": 9,
     "metadata": {},
     "output_type": "execute_result"
    }
   ],
   "source": [
    "hd.dtypes"
   ]
  },
  {
   "cell_type": "markdown",
   "id": "db26bf5d",
   "metadata": {},
   "source": [
    "# 2.Checkikng for null values"
   ]
  },
  {
   "cell_type": "code",
   "execution_count": 10,
   "id": "754f5d2a",
   "metadata": {
    "scrolled": false
   },
   "outputs": [
    {
     "data": {
      "text/plain": [
       "HeartDiseaseorAttack    0\n",
       "HighBP                  0\n",
       "HighChol                0\n",
       "CholCheck               0\n",
       "BMI                     0\n",
       "Smoker                  0\n",
       "Stroke                  0\n",
       "Diabetes                0\n",
       "PhysActivity            0\n",
       "Fruits                  0\n",
       "Veggies                 0\n",
       "HvyAlcoholConsump       0\n",
       "AnyHealthcare           0\n",
       "NoDocbcCost             0\n",
       "GenHlth                 0\n",
       "MentHlth                0\n",
       "PhysHlth                0\n",
       "DiffWalk                0\n",
       "Sex                     0\n",
       "Age                     0\n",
       "Education               0\n",
       "Income                  0\n",
       "dtype: int64"
      ]
     },
     "execution_count": 10,
     "metadata": {},
     "output_type": "execute_result"
    }
   ],
   "source": [
    "hd.isnull().sum()"
   ]
  },
  {
   "cell_type": "markdown",
   "id": "08d366b3",
   "metadata": {},
   "source": [
    "# Checking for duplicate Values"
   ]
  },
  {
   "cell_type": "code",
   "execution_count": 11,
   "id": "7060a779",
   "metadata": {
    "scrolled": true
   },
   "outputs": [
    {
     "name": "stdout",
     "output_type": "stream",
     "text": [
      "Duplicate Values = 23899\n"
     ]
    }
   ],
   "source": [
    "print(\"Duplicate Values =\", hd.duplicated().sum())"
   ]
  },
  {
   "cell_type": "raw",
   "id": "42925c66",
   "metadata": {},
   "source": [
    "Removing duplicate Values"
   ]
  },
  {
   "cell_type": "code",
   "execution_count": 12,
   "id": "13cb6a7b",
   "metadata": {},
   "outputs": [],
   "source": [
    "hd.drop_duplicates(inplace=True)"
   ]
  },
  {
   "cell_type": "raw",
   "id": "92d76a24",
   "metadata": {},
   "source": [
    "Checking the number of duplicate values after removing them"
   ]
  },
  {
   "cell_type": "code",
   "execution_count": 13,
   "id": "80dca258",
   "metadata": {
    "scrolled": false
   },
   "outputs": [
    {
     "name": "stdout",
     "output_type": "stream",
     "text": [
      "Duplicate Values = 0\n"
     ]
    }
   ],
   "source": [
    "print(\"Duplicate Values =\", hd.duplicated().sum())"
   ]
  },
  {
   "cell_type": "markdown",
   "id": "e75bd607",
   "metadata": {},
   "source": [
    "# checking the value count of target variable"
   ]
  },
  {
   "cell_type": "code",
   "execution_count": 14,
   "id": "922210ed",
   "metadata": {},
   "outputs": [
    {
     "data": {
      "text/plain": [
       "0.0    206064\n",
       "1.0     23717\n",
       "Name: HeartDiseaseorAttack, dtype: int64"
      ]
     },
     "execution_count": 14,
     "metadata": {},
     "output_type": "execute_result"
    }
   ],
   "source": [
    "hd.HeartDiseaseorAttack.value_counts()"
   ]
  },
  {
   "cell_type": "markdown",
   "id": "b62cae88",
   "metadata": {},
   "source": [
    "# Base Models"
   ]
  },
  {
   "cell_type": "raw",
   "id": "576c0709",
   "metadata": {},
   "source": [
    "Splitting the data"
   ]
  },
  {
   "cell_type": "code",
   "execution_count": 15,
   "id": "0573edf4",
   "metadata": {},
   "outputs": [
    {
     "data": {
      "text/plain": [
       "0    0.0\n",
       "1    0.0\n",
       "Name: HeartDiseaseorAttack, dtype: float64"
      ]
     },
     "execution_count": 15,
     "metadata": {},
     "output_type": "execute_result"
    }
   ],
   "source": [
    "x=hd.iloc[:,1:22]\n",
    "x.head(1)\n",
    "y=hd.iloc[:,0]\n",
    "y.head(2)"
   ]
  },
  {
   "cell_type": "code",
   "execution_count": 16,
   "id": "c3568c84",
   "metadata": {},
   "outputs": [
    {
     "data": {
      "text/plain": [
       "((183824, 21), (183824,), (45957, 21), (45957,))"
      ]
     },
     "execution_count": 16,
     "metadata": {},
     "output_type": "execute_result"
    }
   ],
   "source": [
    "import sklearn\n",
    "from sklearn.model_selection import train_test_split\n",
    "xtrain,xtest,ytrain,ytest=train_test_split(x,y,test_size=0.2,random_state=101)\n",
    "xtrain.shape,ytrain.shape,xtest.shape,ytest.shape"
   ]
  },
  {
   "cell_type": "markdown",
   "id": "869c15b4",
   "metadata": {},
   "source": [
    "# 1. LogisticRegression"
   ]
  },
  {
   "cell_type": "code",
   "execution_count": 17,
   "id": "afb3847b",
   "metadata": {},
   "outputs": [
    {
     "data": {
      "text/plain": [
       "array([0., 0., 0., ..., 0., 0., 0.])"
      ]
     },
     "execution_count": 17,
     "metadata": {},
     "output_type": "execute_result"
    }
   ],
   "source": [
    "from sklearn.linear_model import LogisticRegression\n",
    "lg = LogisticRegression()\n",
    "lg.fit(xtrain,ytrain)\n",
    "p_lg=lg.predict(xtest)\n",
    "p_lg"
   ]
  },
  {
   "cell_type": "code",
   "execution_count": 18,
   "id": "651665a3",
   "metadata": {},
   "outputs": [
    {
     "data": {
      "text/plain": [
       "(array([[40625,  4208],\n",
       "        [  520,   604]], dtype=int64),\n",
       " 89.71212220118807)"
      ]
     },
     "execution_count": 18,
     "metadata": {},
     "output_type": "execute_result"
    }
   ],
   "source": [
    "from sklearn.metrics import confusion_matrix\n",
    "m1=confusion_matrix(p_lg,ytest)\n",
    "acc=m1.diagonal().sum()/m1.sum()*100\n",
    "m1,acc"
   ]
  },
  {
   "cell_type": "code",
   "execution_count": 19,
   "id": "a8499218",
   "metadata": {
    "scrolled": false
   },
   "outputs": [
    {
     "name": "stdout",
     "output_type": "stream",
     "text": [
      "              precision    recall  f1-score   support\n",
      "\n",
      "         0.0       0.99      0.91      0.95     44833\n",
      "         1.0       0.13      0.54      0.20      1124\n",
      "\n",
      "    accuracy                           0.90     45957\n",
      "   macro avg       0.56      0.72      0.57     45957\n",
      "weighted avg       0.97      0.90      0.93     45957\n",
      "\n"
     ]
    }
   ],
   "source": [
    "from sklearn.metrics import classification_report\n",
    "print(classification_report(p_lg,ytest))"
   ]
  },
  {
   "cell_type": "code",
   "execution_count": 20,
   "id": "606278fe",
   "metadata": {},
   "outputs": [
    {
     "data": {
      "text/plain": [
       "(0.5373665480427047, 0.1255195344970906, 0.20350404312668463)"
      ]
     },
     "execution_count": 20,
     "metadata": {},
     "output_type": "execute_result"
    }
   ],
   "source": [
    "precision_lg = precision_score(ytest, p_lg)\n",
    "recall_lg = recall_score(ytest, p_lg)\n",
    "f1_lg = f1_score(ytest, p_lg)\n",
    "precision_lg,recall_lg,f1_lg"
   ]
  },
  {
   "cell_type": "markdown",
   "id": "47f539a3",
   "metadata": {},
   "source": [
    "# 2.Decision Tree"
   ]
  },
  {
   "cell_type": "code",
   "execution_count": 21,
   "id": "e69678f4",
   "metadata": {},
   "outputs": [
    {
     "data": {
      "text/plain": [
       "array([1., 1., 0., ..., 0., 0., 0.])"
      ]
     },
     "execution_count": 21,
     "metadata": {},
     "output_type": "execute_result"
    }
   ],
   "source": [
    "from sklearn.tree import DecisionTreeClassifier\n",
    "dt=DecisionTreeClassifier()\n",
    "dt.fit(xtrain,ytrain)\n",
    "dt_p=dt.predict(xtest)\n",
    "dt_p"
   ]
  },
  {
   "cell_type": "code",
   "execution_count": 22,
   "id": "a8c63214",
   "metadata": {
    "scrolled": true
   },
   "outputs": [
    {
     "data": {
      "text/plain": [
       "array([0.01916728, 0.01551304, 0.00385234, 0.19406143, 0.02858067,\n",
       "       0.02273506, 0.03036491, 0.03285744, 0.03929794, 0.03040513,\n",
       "       0.0108776 , 0.00844666, 0.01532358, 0.07266445, 0.06383726,\n",
       "       0.09049317, 0.02380455, 0.01982327, 0.09097361, 0.07752882,\n",
       "       0.10939179])"
      ]
     },
     "execution_count": 22,
     "metadata": {},
     "output_type": "execute_result"
    }
   ],
   "source": [
    "dt.feature_importances_"
   ]
  },
  {
   "cell_type": "code",
   "execution_count": 23,
   "id": "2975f65c",
   "metadata": {},
   "outputs": [
    {
     "data": {
      "text/plain": [
       "(array([[36955,  3475],\n",
       "        [ 4190,  1337]], dtype=int64),\n",
       " 83.32136562438801)"
      ]
     },
     "execution_count": 23,
     "metadata": {},
     "output_type": "execute_result"
    }
   ],
   "source": [
    "dt_cf=confusion_matrix(dt_p,ytest)\n",
    "dt_acc=dt_cf.diagonal().sum()/dt_cf.sum()*100\n",
    "dt_cf,dt_acc"
   ]
  },
  {
   "cell_type": "code",
   "execution_count": 24,
   "id": "f6fb9c39",
   "metadata": {
    "scrolled": false
   },
   "outputs": [
    {
     "name": "stdout",
     "output_type": "stream",
     "text": [
      "              precision    recall  f1-score   support\n",
      "\n",
      "         0.0       0.90      0.91      0.91     40430\n",
      "         1.0       0.28      0.24      0.26      5527\n",
      "\n",
      "    accuracy                           0.83     45957\n",
      "   macro avg       0.59      0.58      0.58     45957\n",
      "weighted avg       0.82      0.83      0.83     45957\n",
      "\n"
     ]
    }
   ],
   "source": [
    "print(classification_report(dt_p,ytest))"
   ]
  },
  {
   "cell_type": "code",
   "execution_count": 25,
   "id": "7b87ebe5",
   "metadata": {},
   "outputs": [
    {
     "data": {
      "text/plain": [
       "(0.24190338339062784, 0.27784704904405655, 0.25863236289776576)"
      ]
     },
     "execution_count": 25,
     "metadata": {},
     "output_type": "execute_result"
    }
   ],
   "source": [
    "precision_dt = precision_score(ytest,dt_p)\n",
    "recall_dt = recall_score(ytest,dt_p)\n",
    "f1_dt = f1_score(ytest,dt_p)\n",
    "precision_dt, recall_dt, f1_dt"
   ]
  },
  {
   "cell_type": "markdown",
   "id": "99838767",
   "metadata": {},
   "source": [
    "# 3.Random Forest"
   ]
  },
  {
   "cell_type": "code",
   "execution_count": 26,
   "id": "deaedd1d",
   "metadata": {},
   "outputs": [
    {
     "data": {
      "text/plain": [
       "array([0., 1., 0., ..., 0., 0., 0.])"
      ]
     },
     "execution_count": 26,
     "metadata": {},
     "output_type": "execute_result"
    }
   ],
   "source": [
    "from sklearn.ensemble import RandomForestClassifier\n",
    "rf = RandomForestClassifier()\n",
    "rf.fit(xtrain,ytrain)\n",
    "rf_p=rf.predict(xtest)\n",
    "rf_p"
   ]
  },
  {
   "cell_type": "code",
   "execution_count": 27,
   "id": "ca801da7",
   "metadata": {},
   "outputs": [
    {
     "data": {
      "text/plain": [
       "(array([[40358,  4315],\n",
       "        [  787,   497]], dtype=int64),\n",
       " 88.89831799290641)"
      ]
     },
     "execution_count": 27,
     "metadata": {},
     "output_type": "execute_result"
    }
   ],
   "source": [
    "rf_cf=confusion_matrix(rf_p,ytest)\n",
    "rf_acc=rf_cf.diagonal().sum()/rf_cf.sum()*100\n",
    "rf_cf,rf_acc"
   ]
  },
  {
   "cell_type": "code",
   "execution_count": 28,
   "id": "22df6046",
   "metadata": {
    "scrolled": false
   },
   "outputs": [
    {
     "name": "stdout",
     "output_type": "stream",
     "text": [
      "              precision    recall  f1-score   support\n",
      "\n",
      "         0.0       0.98      0.90      0.94     44673\n",
      "         1.0       0.10      0.39      0.16      1284\n",
      "\n",
      "    accuracy                           0.89     45957\n",
      "   macro avg       0.54      0.65      0.55     45957\n",
      "weighted avg       0.96      0.89      0.92     45957\n",
      "\n"
     ]
    }
   ],
   "source": [
    "print(classification_report(rf_p,ytest))"
   ]
  },
  {
   "cell_type": "code",
   "execution_count": 29,
   "id": "6efa5ef9",
   "metadata": {},
   "outputs": [
    {
     "data": {
      "text/plain": [
       "(0.3870716510903427, 0.10328345802161264, 0.1630577427821522)"
      ]
     },
     "execution_count": 29,
     "metadata": {},
     "output_type": "execute_result"
    }
   ],
   "source": [
    "precision_rf = precision_score(ytest,rf_p)\n",
    "recall_rf = recall_score(ytest,rf_p)\n",
    "f1_rf = f1_score(ytest,rf_p)\n",
    "precision_rf,recall_rf,f1_rf"
   ]
  },
  {
   "cell_type": "markdown",
   "id": "de7c89f2",
   "metadata": {},
   "source": [
    "# 4. KNN"
   ]
  },
  {
   "cell_type": "code",
   "execution_count": 30,
   "id": "1f1326b4",
   "metadata": {},
   "outputs": [
    {
     "data": {
      "text/plain": [
       "array([0., 0., 0., ..., 0., 0., 0.])"
      ]
     },
     "execution_count": 30,
     "metadata": {},
     "output_type": "execute_result"
    }
   ],
   "source": [
    "from sklearn.neighbors import KNeighborsClassifier\n",
    "knn=KNeighborsClassifier(n_neighbors=17)\n",
    "knn.fit(xtrain,ytrain)\n",
    "knn_p=knn.predict(xtest)\n",
    "knn_p"
   ]
  },
  {
   "cell_type": "code",
   "execution_count": 31,
   "id": "06710bfb",
   "metadata": {
    "scrolled": true
   },
   "outputs": [
    {
     "data": {
      "text/plain": [
       "(array([[40938,  4622],\n",
       "        [  207,   190]], dtype=int64),\n",
       " 89.4923515460104)"
      ]
     },
     "execution_count": 31,
     "metadata": {},
     "output_type": "execute_result"
    }
   ],
   "source": [
    "knn_cf=confusion_matrix(knn_p,ytest)\n",
    "knn_ac=knn_cf.diagonal().sum()/knn_cf.sum()*100\n",
    "knn_cf,knn_ac"
   ]
  },
  {
   "cell_type": "code",
   "execution_count": 32,
   "id": "ed17de53",
   "metadata": {
    "scrolled": true
   },
   "outputs": [
    {
     "name": "stdout",
     "output_type": "stream",
     "text": [
      "              precision    recall  f1-score   support\n",
      "\n",
      "         0.0       0.99      0.90      0.94     45560\n",
      "         1.0       0.04      0.48      0.07       397\n",
      "\n",
      "    accuracy                           0.89     45957\n",
      "   macro avg       0.52      0.69      0.51     45957\n",
      "weighted avg       0.99      0.89      0.94     45957\n",
      "\n"
     ]
    }
   ],
   "source": [
    "print(classification_report(knn_p,ytest))"
   ]
  },
  {
   "cell_type": "code",
   "execution_count": 33,
   "id": "ec7f0040",
   "metadata": {},
   "outputs": [
    {
     "data": {
      "text/plain": [
       "(0.47858942065491183, 0.03948462177888612, 0.07295066231522365)"
      ]
     },
     "execution_count": 33,
     "metadata": {},
     "output_type": "execute_result"
    }
   ],
   "source": [
    "precision_knn = precision_score(ytest,knn_p)\n",
    "recall_knn = recall_score(ytest,knn_p)\n",
    "f1_knn = f1_score(ytest,knn_p)\n",
    "precision_knn, recall_knn, f1_knn"
   ]
  },
  {
   "cell_type": "markdown",
   "id": "30d05556",
   "metadata": {},
   "source": [
    "# 5. Naive Bayes"
   ]
  },
  {
   "cell_type": "code",
   "execution_count": 34,
   "id": "0853a4fd",
   "metadata": {},
   "outputs": [
    {
     "data": {
      "text/plain": [
       "array([0., 1., 1., ..., 1., 0., 0.])"
      ]
     },
     "execution_count": 34,
     "metadata": {},
     "output_type": "execute_result"
    }
   ],
   "source": [
    "from sklearn.naive_bayes import MultinomialNB\n",
    "nb=MultinomialNB()\n",
    "nb.fit(xtrain,ytrain)\n",
    "nb_p=nb.predict(xtest)\n",
    "nb_p"
   ]
  },
  {
   "cell_type": "code",
   "execution_count": 35,
   "id": "047f82b5",
   "metadata": {},
   "outputs": [
    {
     "data": {
      "text/plain": [
       "(array([[34957,  2941],\n",
       "        [ 6188,  1871]], dtype=int64),\n",
       " 80.13577909785235)"
      ]
     },
     "execution_count": 35,
     "metadata": {},
     "output_type": "execute_result"
    }
   ],
   "source": [
    "nb_m=confusion_matrix(nb_p,ytest)\n",
    "nb_ac=nb_m.diagonal().sum()/nb_m.sum()*100\n",
    "nb_m,nb_ac"
   ]
  },
  {
   "cell_type": "code",
   "execution_count": 36,
   "id": "d8296103",
   "metadata": {
    "scrolled": true
   },
   "outputs": [
    {
     "name": "stdout",
     "output_type": "stream",
     "text": [
      "              precision    recall  f1-score   support\n",
      "\n",
      "         0.0       0.85      0.92      0.88     37898\n",
      "         1.0       0.39      0.23      0.29      8059\n",
      "\n",
      "    accuracy                           0.80     45957\n",
      "   macro avg       0.62      0.58      0.59     45957\n",
      "weighted avg       0.77      0.80      0.78     45957\n",
      "\n"
     ]
    }
   ],
   "source": [
    "print(classification_report(nb_p,ytest))"
   ]
  },
  {
   "cell_type": "code",
   "execution_count": 37,
   "id": "5d09aab8",
   "metadata": {},
   "outputs": [
    {
     "data": {
      "text/plain": [
       "(0.23216279935475864, 0.38881961762261014, 0.29073110092455906)"
      ]
     },
     "execution_count": 37,
     "metadata": {},
     "output_type": "execute_result"
    }
   ],
   "source": [
    "precision_nb = precision_score(ytest,nb_p)\n",
    "recall_nb = recall_score(ytest,nb_p)\n",
    "f1_nb = f1_score(ytest,nb_p)\n",
    "precision_nb,recall_nb,f1_nb"
   ]
  },
  {
   "cell_type": "markdown",
   "id": "f1ac5e9e",
   "metadata": {},
   "source": [
    "# 6. XGBoost"
   ]
  },
  {
   "cell_type": "code",
   "execution_count": 38,
   "id": "a260bc4b",
   "metadata": {},
   "outputs": [
    {
     "data": {
      "text/plain": [
       "array([0, 1, 0, ..., 0, 0, 0])"
      ]
     },
     "execution_count": 38,
     "metadata": {},
     "output_type": "execute_result"
    }
   ],
   "source": [
    "from xgboost import XGBClassifier\n",
    "xgb=XGBClassifier()\n",
    "xgb.fit(xtrain,ytrain)\n",
    "xgb_p=xgb.predict(xtest)\n",
    "xgb_p"
   ]
  },
  {
   "cell_type": "code",
   "execution_count": 39,
   "id": "8d4d0559",
   "metadata": {
    "scrolled": true
   },
   "outputs": [
    {
     "data": {
      "text/plain": [
       "(array([[40689,  4263],\n",
       "        [  456,   549]], dtype=int64),\n",
       " 89.73170572491676)"
      ]
     },
     "execution_count": 39,
     "metadata": {},
     "output_type": "execute_result"
    }
   ],
   "source": [
    "xgb_m=confusion_matrix(xgb_p,ytest)\n",
    "xgb_acc=xgb_m.diagonal().sum()/xgb_m.sum()*100\n",
    "xgb_m,xgb_acc\n"
   ]
  },
  {
   "cell_type": "code",
   "execution_count": 40,
   "id": "13f5f45c",
   "metadata": {
    "scrolled": false
   },
   "outputs": [
    {
     "name": "stdout",
     "output_type": "stream",
     "text": [
      "              precision    recall  f1-score   support\n",
      "\n",
      "           0       0.99      0.91      0.95     44952\n",
      "           1       0.11      0.55      0.19      1005\n",
      "\n",
      "    accuracy                           0.90     45957\n",
      "   macro avg       0.55      0.73      0.57     45957\n",
      "weighted avg       0.97      0.90      0.93     45957\n",
      "\n"
     ]
    }
   ],
   "source": [
    "print(classification_report(xgb_p,ytest))"
   ]
  },
  {
   "cell_type": "code",
   "execution_count": 41,
   "id": "948b18f5",
   "metadata": {},
   "outputs": [
    {
     "data": {
      "text/plain": [
       "(0.5462686567164179, 0.11408977556109726, 0.1887570912841671)"
      ]
     },
     "execution_count": 41,
     "metadata": {},
     "output_type": "execute_result"
    }
   ],
   "source": [
    "precision_xgb = precision_score(ytest, xgb_p)\n",
    "recall_xgb = recall_score(ytest, xgb_p)\n",
    "f1_xgb = f1_score(ytest, xgb_p)\n",
    "precision_xgb,recall_xgb,f1_xgb"
   ]
  },
  {
   "cell_type": "markdown",
   "id": "0daa70d9",
   "metadata": {},
   "source": [
    "# BASEMODEL DATAFRAME"
   ]
  },
  {
   "cell_type": "code",
   "execution_count": 42,
   "id": "aed8be87",
   "metadata": {},
   "outputs": [],
   "source": [
    "l1=[\"LG\",\"DT\",\"RF\",\"KNN\",\"NB\",\"XGB\"]\n",
    "l2=[acc,dt_acc,rf_acc,knn_ac,nb_ac,xgb_acc]\n",
    "l3=[precision_lg,precision_dt,precision_rf,precision_knn,precision_nb,precision_xgb]\n",
    "l4=[recall_lg,recall_dt,recall_dt,recall_rf,recall_nb,recall_xgb]\n",
    "l5=[f1_lg,f1_dt,f1_rf,f1_knn,f1_nb,f1_xgb]"
   ]
  },
  {
   "cell_type": "code",
   "execution_count": 43,
   "id": "d6751d25",
   "metadata": {
    "scrolled": false
   },
   "outputs": [
    {
     "data": {
      "text/html": [
       "<div>\n",
       "<style scoped>\n",
       "    .dataframe tbody tr th:only-of-type {\n",
       "        vertical-align: middle;\n",
       "    }\n",
       "\n",
       "    .dataframe tbody tr th {\n",
       "        vertical-align: top;\n",
       "    }\n",
       "\n",
       "    .dataframe thead th {\n",
       "        text-align: right;\n",
       "    }\n",
       "</style>\n",
       "<table border=\"1\" class=\"dataframe\">\n",
       "  <thead>\n",
       "    <tr style=\"text-align: right;\">\n",
       "      <th></th>\n",
       "      <th>Model Name</th>\n",
       "      <th>Accuracy</th>\n",
       "      <th>Precision</th>\n",
       "      <th>Recall</th>\n",
       "      <th>F1-Score</th>\n",
       "    </tr>\n",
       "  </thead>\n",
       "  <tbody>\n",
       "    <tr>\n",
       "      <th>0</th>\n",
       "      <td>LG</td>\n",
       "      <td>89.712122</td>\n",
       "      <td>0.537367</td>\n",
       "      <td>0.125520</td>\n",
       "      <td>0.203504</td>\n",
       "    </tr>\n",
       "    <tr>\n",
       "      <th>1</th>\n",
       "      <td>DT</td>\n",
       "      <td>83.321366</td>\n",
       "      <td>0.241903</td>\n",
       "      <td>0.277847</td>\n",
       "      <td>0.258632</td>\n",
       "    </tr>\n",
       "    <tr>\n",
       "      <th>2</th>\n",
       "      <td>RF</td>\n",
       "      <td>88.898318</td>\n",
       "      <td>0.387072</td>\n",
       "      <td>0.277847</td>\n",
       "      <td>0.163058</td>\n",
       "    </tr>\n",
       "    <tr>\n",
       "      <th>3</th>\n",
       "      <td>KNN</td>\n",
       "      <td>89.492352</td>\n",
       "      <td>0.478589</td>\n",
       "      <td>0.103283</td>\n",
       "      <td>0.072951</td>\n",
       "    </tr>\n",
       "    <tr>\n",
       "      <th>4</th>\n",
       "      <td>NB</td>\n",
       "      <td>80.135779</td>\n",
       "      <td>0.232163</td>\n",
       "      <td>0.388820</td>\n",
       "      <td>0.290731</td>\n",
       "    </tr>\n",
       "    <tr>\n",
       "      <th>5</th>\n",
       "      <td>XGB</td>\n",
       "      <td>89.731706</td>\n",
       "      <td>0.546269</td>\n",
       "      <td>0.114090</td>\n",
       "      <td>0.188757</td>\n",
       "    </tr>\n",
       "  </tbody>\n",
       "</table>\n",
       "</div>"
      ],
      "text/plain": [
       "  Model Name   Accuracy  Precision    Recall  F1-Score\n",
       "0         LG  89.712122   0.537367  0.125520  0.203504\n",
       "1         DT  83.321366   0.241903  0.277847  0.258632\n",
       "2         RF  88.898318   0.387072  0.277847  0.163058\n",
       "3        KNN  89.492352   0.478589  0.103283  0.072951\n",
       "4         NB  80.135779   0.232163  0.388820  0.290731\n",
       "5        XGB  89.731706   0.546269  0.114090  0.188757"
      ]
     },
     "execution_count": 43,
     "metadata": {},
     "output_type": "execute_result"
    }
   ],
   "source": [
    "BaseModels=pd.DataFrame({\"Model Name\":l1,\"Accuracy\":l2,\"Precision\":l3,\"Recall\":l4,\"F1-Score\":l5})\n",
    "BaseModels"
   ]
  },
  {
   "cell_type": "markdown",
   "id": "930873b2",
   "metadata": {},
   "source": [
    "# BASEMODEL CONCLUSION: \n",
    "   Out of these models,LogisticRegression And XGB is better compared to others though every models are having low precision,recall and f1 score\n",
    "This is due to the Class Imbalance problem in this Dataset."
   ]
  },
  {
   "cell_type": "markdown",
   "id": "3039618e",
   "metadata": {},
   "source": [
    "# Class Imbalance"
   ]
  },
  {
   "cell_type": "raw",
   "id": "93c3d850",
   "metadata": {},
   "source": [
    "Checking for class imbalance"
   ]
  },
  {
   "cell_type": "code",
   "execution_count": 44,
   "id": "d68ebda7",
   "metadata": {},
   "outputs": [
    {
     "data": {
      "text/plain": [
       "0.0    206064\n",
       "1.0     23717\n",
       "Name: HeartDiseaseorAttack, dtype: int64"
      ]
     },
     "execution_count": 44,
     "metadata": {},
     "output_type": "execute_result"
    }
   ],
   "source": [
    "hd['HeartDiseaseorAttack'].value_counts()"
   ]
  },
  {
   "cell_type": "code",
   "execution_count": 45,
   "id": "c25d9521",
   "metadata": {},
   "outputs": [
    {
     "data": {
      "text/plain": [
       "<Axes: xlabel='HeartDiseaseorAttack', ylabel='count'>"
      ]
     },
     "execution_count": 45,
     "metadata": {},
     "output_type": "execute_result"
    },
    {
     "data": {
      "image/png": "[encoded data removed]",
      "text/plain": [
       "<Figure size 640x480 with 1 Axes>"
      ]
     },
     "metadata": {},
     "output_type": "display_data"
    }
   ],
   "source": [
    "sns.set_style('whitegrid')\n",
    "sns.countplot(x='HeartDiseaseorAttack',data=hd,palette='RdBu_r')"
   ]
  },
  {
   "cell_type": "raw",
   "id": "092bff33",
   "metadata": {},
   "source": [
    "This data has strong class imbalance Problem"
   ]
  },
  {
   "cell_type": "markdown",
   "id": "c1673057",
   "metadata": {},
   "source": [
    "# SMOTE - Synthetic Minority Oversampling Technique"
   ]
  },
  {
   "cell_type": "code",
   "execution_count": 46,
   "id": "bd14589f",
   "metadata": {},
   "outputs": [
    {
     "data": {
      "text/plain": [
       "((229781, 21), (229781,))"
      ]
     },
     "execution_count": 46,
     "metadata": {},
     "output_type": "execute_result"
    }
   ],
   "source": [
    "sx=hd.iloc[:,1:22]\n",
    "sy=hd.iloc[:,0]\n",
    "sx.shape,sy.shape"
   ]
  },
  {
   "cell_type": "code",
   "execution_count": 47,
   "id": "eceb83bb",
   "metadata": {},
   "outputs": [],
   "source": [
    "from imblearn.over_sampling import SMOTE\n",
    "smote=SMOTE()\n",
    "x_smote,y_smote=smote.fit_resample(sx,sy)"
   ]
  },
  {
   "cell_type": "code",
   "execution_count": 48,
   "id": "03eba5a7",
   "metadata": {},
   "outputs": [
    {
     "data": {
      "text/plain": [
       "((412128, 21), (412128,))"
      ]
     },
     "execution_count": 48,
     "metadata": {},
     "output_type": "execute_result"
    }
   ],
   "source": [
    "x_smote.shape,y_smote.shape"
   ]
  },
  {
   "cell_type": "code",
   "execution_count": 49,
   "id": "2ffce164",
   "metadata": {},
   "outputs": [
    {
     "data": {
      "text/plain": [
       "0.0    206064\n",
       "1.0    206064\n",
       "Name: HeartDiseaseorAttack, dtype: int64"
      ]
     },
     "execution_count": 49,
     "metadata": {},
     "output_type": "execute_result"
    }
   ],
   "source": [
    "y_smote.value_counts()"
   ]
  },
  {
   "cell_type": "markdown",
   "id": "88e88fdd",
   "metadata": {},
   "source": [
    "# Exploratory Data Analysis"
   ]
  },
  {
   "cell_type": "markdown",
   "id": "0101c7c1",
   "metadata": {},
   "source": [
    "# 1.OUTLIER TREATMENT"
   ]
  },
  {
   "cell_type": "code",
   "execution_count": 50,
   "id": "92c91704",
   "metadata": {},
   "outputs": [
    {
     "data": {
      "image/png": "[encoded data removed]",
      "text/plain": [
       "<Figure size 2000x1000 with 1 Axes>"
      ]
     },
     "metadata": {},
     "output_type": "display_data"
    }
   ],
   "source": [
    "x_smote.boxplot(figsize=(20,10))\n",
    "plt.show()"
   ]
  },
  {
   "cell_type": "code",
   "execution_count": 51,
   "id": "c529814c",
   "metadata": {},
   "outputs": [
    {
     "data": {
      "text/plain": [
       "Index(['HighBP', 'HighChol', 'CholCheck', 'BMI', 'Smoker', 'Stroke',\n",
       "       'Diabetes', 'PhysActivity', 'Fruits', 'Veggies', 'HvyAlcoholConsump',\n",
       "       'AnyHealthcare', 'NoDocbcCost', 'GenHlth', 'MentHlth', 'PhysHlth',\n",
       "       'DiffWalk', 'Sex', 'Age', 'Education', 'Income'],\n",
       "      dtype='object')"
      ]
     },
     "execution_count": 51,
     "metadata": {},
     "output_type": "execute_result"
    }
   ],
   "source": [
    "x_smote.columns"
   ]
  },
  {
   "cell_type": "code",
   "execution_count": 52,
   "id": "92bbe801",
   "metadata": {},
   "outputs": [
    {
     "data": {
      "text/plain": [
       "27.000000    31110\n",
       "26.000000    25141\n",
       "24.000000    23022\n",
       "28.000000    21084\n",
       "25.000000    20394\n",
       "             ...  \n",
       "30.599984        1\n",
       "35.499098        1\n",
       "39.579398        1\n",
       "44.667439        1\n",
       "25.648140        1\n",
       "Name: BMI, Length: 97278, dtype: int64"
      ]
     },
     "execution_count": 52,
     "metadata": {},
     "output_type": "execute_result"
    }
   ],
   "source": [
    "x_smote.BMI.value_counts()"
   ]
  },
  {
   "cell_type": "code",
   "execution_count": 53,
   "id": "a4b0ac46",
   "metadata": {},
   "outputs": [
    {
     "data": {
      "image/png": "[encoded data removed]",
      "text/plain": [
       "<Figure size 1500x500 with 2 Axes>"
      ]
     },
     "metadata": {},
     "output_type": "display_data"
    }
   ],
   "source": [
    "fig, ax = plt.subplots(1, 2, figsize=(15,5))\n",
    "sns.distplot(x_smote['BMI'], ax=ax[0], bins=10)\n",
    "sns.boxplot(x_smote['BMI'], ax=ax[1])\n",
    "ax[1].set_title(\"Box plot of 'BMI' Feature\")\n",
    "ax[0].set_title(\"Distribution plot of 'BMI' Feature\")\n",
    "plt.show()"
   ]
  },
  {
   "cell_type": "code",
   "execution_count": 54,
   "id": "b5d4fdaa",
   "metadata": {},
   "outputs": [
    {
     "data": {
      "text/plain": [
       "(25.0, 32.0, 7.0, 42.5, 14.5)"
      ]
     },
     "execution_count": 54,
     "metadata": {},
     "output_type": "execute_result"
    }
   ],
   "source": [
    "q25,q75=np.percentile(x_smote.BMI,(25,75))\n",
    "qr=q75-q25\n",
    "max=q75+qr*1.5\n",
    "min=q25-qr*1.5\n",
    "x_smote.BMI[x_smote.BMI>max]=max\n",
    "x_smote.BMI[x_smote.BMI<min]=min\n",
    "q25,q75,qr,max,min"
   ]
  },
  {
   "cell_type": "code",
   "execution_count": 55,
   "id": "f0664916",
   "metadata": {},
   "outputs": [
    {
     "data": {
      "image/png": "[encoded data removed]",
      "text/plain": [
       "<Figure size 1500x500 with 2 Axes>"
      ]
     },
     "metadata": {},
     "output_type": "display_data"
    }
   ],
   "source": [
    "fig, ax = plt.subplots(1, 2, figsize=(15,5))\n",
    "sns.distplot(x_smote['BMI'], ax=ax[0], bins=10)\n",
    "sns.boxplot(x_smote['BMI'], ax=ax[1])\n",
    "ax[1].set_title(\"Box plot of 'BMI' Feature\")\n",
    "ax[0].set_title(\"Distribution plot of 'BMI' Feature\")\n",
    "plt.show()"
   ]
  },
  {
   "cell_type": "markdown",
   "id": "efa6880b",
   "metadata": {},
   "source": [
    "# 2.SKEWNESS TREATMENT"
   ]
  },
  {
   "cell_type": "raw",
   "id": "5401ed8c",
   "metadata": {},
   "source": [
    "There are three methods to treat skewness: 1.sqrt , 2.cbrt, 3.log"
   ]
  },
  {
   "cell_type": "code",
   "execution_count": 56,
   "id": "acd1d7a5",
   "metadata": {},
   "outputs": [
    {
     "data": {
      "text/plain": [
       "HighBP              -0.383241\n",
       "HighChol            -0.268331\n",
       "CholCheck           -5.903163\n",
       "BMI                  0.579082\n",
       "Smoker              -0.156608\n",
       "Stroke               2.823903\n",
       "Diabetes             1.204104\n",
       "PhysActivity        -0.863134\n",
       "Fruits              -0.469410\n",
       "Veggies             -1.417080\n",
       "HvyAlcoholConsump    4.315421\n",
       "AnyHealthcare       -4.479053\n",
       "NoDocbcCost          2.738601\n",
       "GenHlth              0.093805\n",
       "MentHlth             2.263780\n",
       "PhysHlth             1.433516\n",
       "DiffWalk             0.962175\n",
       "Sex                 -0.008890\n",
       "Age                 -0.691927\n",
       "Education           -0.567299\n",
       "Income              -0.542789\n",
       "dtype: float64"
      ]
     },
     "execution_count": 56,
     "metadata": {},
     "output_type": "execute_result"
    }
   ],
   "source": [
    "x_smote.skew()"
   ]
  },
  {
   "cell_type": "raw",
   "id": "b4ecddb3",
   "metadata": {},
   "source": [
    "the data dont have any skewness in the numerical columns"
   ]
  },
  {
   "cell_type": "markdown",
   "id": "88923724",
   "metadata": {},
   "source": [
    "# 3.VISUALIZATION"
   ]
  },
  {
   "cell_type": "code",
   "execution_count": 57,
   "id": "4a7fc794",
   "metadata": {},
   "outputs": [
    {
     "data": {
      "text/html": [
       "<div>\n",
       "<style scoped>\n",
       "    .dataframe tbody tr th:only-of-type {\n",
       "        vertical-align: middle;\n",
       "    }\n",
       "\n",
       "    .dataframe tbody tr th {\n",
       "        vertical-align: top;\n",
       "    }\n",
       "\n",
       "    .dataframe thead th {\n",
       "        text-align: right;\n",
       "    }\n",
       "</style>\n",
       "<table border=\"1\" class=\"dataframe\">\n",
       "  <thead>\n",
       "    <tr style=\"text-align: right;\">\n",
       "      <th></th>\n",
       "      <th>HighBP</th>\n",
       "      <th>HighChol</th>\n",
       "      <th>CholCheck</th>\n",
       "      <th>BMI</th>\n",
       "      <th>Smoker</th>\n",
       "      <th>Stroke</th>\n",
       "      <th>Diabetes</th>\n",
       "      <th>PhysActivity</th>\n",
       "      <th>Fruits</th>\n",
       "      <th>Veggies</th>\n",
       "      <th>...</th>\n",
       "      <th>NoDocbcCost</th>\n",
       "      <th>GenHlth</th>\n",
       "      <th>MentHlth</th>\n",
       "      <th>PhysHlth</th>\n",
       "      <th>DiffWalk</th>\n",
       "      <th>Sex</th>\n",
       "      <th>Age</th>\n",
       "      <th>Education</th>\n",
       "      <th>Income</th>\n",
       "      <th>HeartDiseaseorAttack</th>\n",
       "    </tr>\n",
       "  </thead>\n",
       "  <tbody>\n",
       "    <tr>\n",
       "      <th>0</th>\n",
       "      <td>1.000000</td>\n",
       "      <td>1.0</td>\n",
       "      <td>1.0</td>\n",
       "      <td>40.0</td>\n",
       "      <td>1.000000</td>\n",
       "      <td>0.000000</td>\n",
       "      <td>0.0</td>\n",
       "      <td>0.000000</td>\n",
       "      <td>0.000000</td>\n",
       "      <td>1.0</td>\n",
       "      <td>...</td>\n",
       "      <td>0.000000</td>\n",
       "      <td>5.0</td>\n",
       "      <td>18.000000</td>\n",
       "      <td>15.0</td>\n",
       "      <td>1.000000</td>\n",
       "      <td>0.000000</td>\n",
       "      <td>9.000000</td>\n",
       "      <td>4.000000</td>\n",
       "      <td>3.000000</td>\n",
       "      <td>0.0</td>\n",
       "    </tr>\n",
       "    <tr>\n",
       "      <th>1</th>\n",
       "      <td>0.000000</td>\n",
       "      <td>0.0</td>\n",
       "      <td>0.0</td>\n",
       "      <td>25.0</td>\n",
       "      <td>1.000000</td>\n",
       "      <td>0.000000</td>\n",
       "      <td>0.0</td>\n",
       "      <td>1.000000</td>\n",
       "      <td>0.000000</td>\n",
       "      <td>0.0</td>\n",
       "      <td>...</td>\n",
       "      <td>1.000000</td>\n",
       "      <td>3.0</td>\n",
       "      <td>0.000000</td>\n",
       "      <td>0.0</td>\n",
       "      <td>0.000000</td>\n",
       "      <td>0.000000</td>\n",
       "      <td>7.000000</td>\n",
       "      <td>6.000000</td>\n",
       "      <td>1.000000</td>\n",
       "      <td>0.0</td>\n",
       "    </tr>\n",
       "    <tr>\n",
       "      <th>2</th>\n",
       "      <td>1.000000</td>\n",
       "      <td>1.0</td>\n",
       "      <td>1.0</td>\n",
       "      <td>28.0</td>\n",
       "      <td>0.000000</td>\n",
       "      <td>0.000000</td>\n",
       "      <td>0.0</td>\n",
       "      <td>0.000000</td>\n",
       "      <td>1.000000</td>\n",
       "      <td>0.0</td>\n",
       "      <td>...</td>\n",
       "      <td>1.000000</td>\n",
       "      <td>5.0</td>\n",
       "      <td>30.000000</td>\n",
       "      <td>30.0</td>\n",
       "      <td>1.000000</td>\n",
       "      <td>0.000000</td>\n",
       "      <td>9.000000</td>\n",
       "      <td>4.000000</td>\n",
       "      <td>8.000000</td>\n",
       "      <td>0.0</td>\n",
       "    </tr>\n",
       "    <tr>\n",
       "      <th>3</th>\n",
       "      <td>1.000000</td>\n",
       "      <td>0.0</td>\n",
       "      <td>1.0</td>\n",
       "      <td>27.0</td>\n",
       "      <td>0.000000</td>\n",
       "      <td>0.000000</td>\n",
       "      <td>0.0</td>\n",
       "      <td>1.000000</td>\n",
       "      <td>1.000000</td>\n",
       "      <td>1.0</td>\n",
       "      <td>...</td>\n",
       "      <td>0.000000</td>\n",
       "      <td>2.0</td>\n",
       "      <td>0.000000</td>\n",
       "      <td>0.0</td>\n",
       "      <td>0.000000</td>\n",
       "      <td>0.000000</td>\n",
       "      <td>11.000000</td>\n",
       "      <td>3.000000</td>\n",
       "      <td>6.000000</td>\n",
       "      <td>0.0</td>\n",
       "    </tr>\n",
       "    <tr>\n",
       "      <th>4</th>\n",
       "      <td>1.000000</td>\n",
       "      <td>1.0</td>\n",
       "      <td>1.0</td>\n",
       "      <td>24.0</td>\n",
       "      <td>0.000000</td>\n",
       "      <td>0.000000</td>\n",
       "      <td>0.0</td>\n",
       "      <td>1.000000</td>\n",
       "      <td>1.000000</td>\n",
       "      <td>1.0</td>\n",
       "      <td>...</td>\n",
       "      <td>0.000000</td>\n",
       "      <td>2.0</td>\n",
       "      <td>3.000000</td>\n",
       "      <td>0.0</td>\n",
       "      <td>0.000000</td>\n",
       "      <td>0.000000</td>\n",
       "      <td>11.000000</td>\n",
       "      <td>5.000000</td>\n",
       "      <td>4.000000</td>\n",
       "      <td>0.0</td>\n",
       "    </tr>\n",
       "    <tr>\n",
       "      <th>...</th>\n",
       "      <td>...</td>\n",
       "      <td>...</td>\n",
       "      <td>...</td>\n",
       "      <td>...</td>\n",
       "      <td>...</td>\n",
       "      <td>...</td>\n",
       "      <td>...</td>\n",
       "      <td>...</td>\n",
       "      <td>...</td>\n",
       "      <td>...</td>\n",
       "      <td>...</td>\n",
       "      <td>...</td>\n",
       "      <td>...</td>\n",
       "      <td>...</td>\n",
       "      <td>...</td>\n",
       "      <td>...</td>\n",
       "      <td>...</td>\n",
       "      <td>...</td>\n",
       "      <td>...</td>\n",
       "      <td>...</td>\n",
       "      <td>...</td>\n",
       "    </tr>\n",
       "    <tr>\n",
       "      <th>412123</th>\n",
       "      <td>1.000000</td>\n",
       "      <td>1.0</td>\n",
       "      <td>1.0</td>\n",
       "      <td>30.0</td>\n",
       "      <td>0.109547</td>\n",
       "      <td>0.000000</td>\n",
       "      <td>0.0</td>\n",
       "      <td>1.000000</td>\n",
       "      <td>1.000000</td>\n",
       "      <td>1.0</td>\n",
       "      <td>...</td>\n",
       "      <td>0.890453</td>\n",
       "      <td>3.0</td>\n",
       "      <td>0.000000</td>\n",
       "      <td>2.0</td>\n",
       "      <td>0.890453</td>\n",
       "      <td>0.109547</td>\n",
       "      <td>7.780905</td>\n",
       "      <td>2.109547</td>\n",
       "      <td>4.109547</td>\n",
       "      <td>1.0</td>\n",
       "    </tr>\n",
       "    <tr>\n",
       "      <th>412124</th>\n",
       "      <td>0.808067</td>\n",
       "      <td>1.0</td>\n",
       "      <td>1.0</td>\n",
       "      <td>28.0</td>\n",
       "      <td>1.000000</td>\n",
       "      <td>0.191933</td>\n",
       "      <td>0.0</td>\n",
       "      <td>1.000000</td>\n",
       "      <td>1.000000</td>\n",
       "      <td>1.0</td>\n",
       "      <td>...</td>\n",
       "      <td>0.000000</td>\n",
       "      <td>4.0</td>\n",
       "      <td>0.808067</td>\n",
       "      <td>5.0</td>\n",
       "      <td>0.191933</td>\n",
       "      <td>1.000000</td>\n",
       "      <td>13.000000</td>\n",
       "      <td>4.808067</td>\n",
       "      <td>6.000000</td>\n",
       "      <td>1.0</td>\n",
       "    </tr>\n",
       "    <tr>\n",
       "      <th>412125</th>\n",
       "      <td>0.697669</td>\n",
       "      <td>1.0</td>\n",
       "      <td>1.0</td>\n",
       "      <td>26.0</td>\n",
       "      <td>0.302331</td>\n",
       "      <td>0.000000</td>\n",
       "      <td>0.0</td>\n",
       "      <td>1.000000</td>\n",
       "      <td>0.000000</td>\n",
       "      <td>0.0</td>\n",
       "      <td>...</td>\n",
       "      <td>0.000000</td>\n",
       "      <td>3.0</td>\n",
       "      <td>0.000000</td>\n",
       "      <td>2.0</td>\n",
       "      <td>0.000000</td>\n",
       "      <td>1.000000</td>\n",
       "      <td>10.000000</td>\n",
       "      <td>5.000000</td>\n",
       "      <td>5.302331</td>\n",
       "      <td>1.0</td>\n",
       "    </tr>\n",
       "    <tr>\n",
       "      <th>412126</th>\n",
       "      <td>1.000000</td>\n",
       "      <td>0.0</td>\n",
       "      <td>1.0</td>\n",
       "      <td>24.0</td>\n",
       "      <td>0.029282</td>\n",
       "      <td>0.000000</td>\n",
       "      <td>0.0</td>\n",
       "      <td>0.970718</td>\n",
       "      <td>0.970718</td>\n",
       "      <td>0.0</td>\n",
       "      <td>...</td>\n",
       "      <td>0.000000</td>\n",
       "      <td>2.0</td>\n",
       "      <td>2.970718</td>\n",
       "      <td>0.0</td>\n",
       "      <td>0.029282</td>\n",
       "      <td>1.000000</td>\n",
       "      <td>11.000000</td>\n",
       "      <td>6.000000</td>\n",
       "      <td>5.029282</td>\n",
       "      <td>1.0</td>\n",
       "    </tr>\n",
       "    <tr>\n",
       "      <th>412127</th>\n",
       "      <td>0.643720</td>\n",
       "      <td>1.0</td>\n",
       "      <td>1.0</td>\n",
       "      <td>26.0</td>\n",
       "      <td>0.356280</td>\n",
       "      <td>0.000000</td>\n",
       "      <td>2.0</td>\n",
       "      <td>0.643720</td>\n",
       "      <td>1.000000</td>\n",
       "      <td>1.0</td>\n",
       "      <td>...</td>\n",
       "      <td>0.000000</td>\n",
       "      <td>3.0</td>\n",
       "      <td>0.000000</td>\n",
       "      <td>0.0</td>\n",
       "      <td>0.000000</td>\n",
       "      <td>0.000000</td>\n",
       "      <td>13.000000</td>\n",
       "      <td>4.000000</td>\n",
       "      <td>4.356280</td>\n",
       "      <td>1.0</td>\n",
       "    </tr>\n",
       "  </tbody>\n",
       "</table>\n",
       "<p>412128 rows × 22 columns</p>\n",
       "</div>"
      ],
      "text/plain": [
       "          HighBP  HighChol  CholCheck   BMI    Smoker    Stroke  Diabetes  \\\n",
       "0       1.000000       1.0        1.0  40.0  1.000000  0.000000       0.0   \n",
       "1       0.000000       0.0        0.0  25.0  1.000000  0.000000       0.0   \n",
       "2       1.000000       1.0        1.0  28.0  0.000000  0.000000       0.0   \n",
       "3       1.000000       0.0        1.0  27.0  0.000000  0.000000       0.0   \n",
       "4       1.000000       1.0        1.0  24.0  0.000000  0.000000       0.0   \n",
       "...          ...       ...        ...   ...       ...       ...       ...   \n",
       "412123  1.000000       1.0        1.0  30.0  0.109547  0.000000       0.0   \n",
       "412124  0.808067       1.0        1.0  28.0  1.000000  0.191933       0.0   \n",
       "412125  0.697669       1.0        1.0  26.0  0.302331  0.000000       0.0   \n",
       "412126  1.000000       0.0        1.0  24.0  0.029282  0.000000       0.0   \n",
       "412127  0.643720       1.0        1.0  26.0  0.356280  0.000000       2.0   \n",
       "\n",
       "        PhysActivity    Fruits  Veggies  ...  NoDocbcCost  GenHlth   MentHlth  \\\n",
       "0           0.000000  0.000000      1.0  ...     0.000000      5.0  18.000000   \n",
       "1           1.000000  0.000000      0.0  ...     1.000000      3.0   0.000000   \n",
       "2           0.000000  1.000000      0.0  ...     1.000000      5.0  30.000000   \n",
       "3           1.000000  1.000000      1.0  ...     0.000000      2.0   0.000000   \n",
       "4           1.000000  1.000000      1.0  ...     0.000000      2.0   3.000000   \n",
       "...              ...       ...      ...  ...          ...      ...        ...   \n",
       "412123      1.000000  1.000000      1.0  ...     0.890453      3.0   0.000000   \n",
       "412124      1.000000  1.000000      1.0  ...     0.000000      4.0   0.808067   \n",
       "412125      1.000000  0.000000      0.0  ...     0.000000      3.0   0.000000   \n",
       "412126      0.970718  0.970718      0.0  ...     0.000000      2.0   2.970718   \n",
       "412127      0.643720  1.000000      1.0  ...     0.000000      3.0   0.000000   \n",
       "\n",
       "        PhysHlth  DiffWalk       Sex        Age  Education    Income  \\\n",
       "0           15.0  1.000000  0.000000   9.000000   4.000000  3.000000   \n",
       "1            0.0  0.000000  0.000000   7.000000   6.000000  1.000000   \n",
       "2           30.0  1.000000  0.000000   9.000000   4.000000  8.000000   \n",
       "3            0.0  0.000000  0.000000  11.000000   3.000000  6.000000   \n",
       "4            0.0  0.000000  0.000000  11.000000   5.000000  4.000000   \n",
       "...          ...       ...       ...        ...        ...       ...   \n",
       "412123       2.0  0.890453  0.109547   7.780905   2.109547  4.109547   \n",
       "412124       5.0  0.191933  1.000000  13.000000   4.808067  6.000000   \n",
       "412125       2.0  0.000000  1.000000  10.000000   5.000000  5.302331   \n",
       "412126       0.0  0.029282  1.000000  11.000000   6.000000  5.029282   \n",
       "412127       0.0  0.000000  0.000000  13.000000   4.000000  4.356280   \n",
       "\n",
       "        HeartDiseaseorAttack  \n",
       "0                        0.0  \n",
       "1                        0.0  \n",
       "2                        0.0  \n",
       "3                        0.0  \n",
       "4                        0.0  \n",
       "...                      ...  \n",
       "412123                   1.0  \n",
       "412124                   1.0  \n",
       "412125                   1.0  \n",
       "412126                   1.0  \n",
       "412127                   1.0  \n",
       "\n",
       "[412128 rows x 22 columns]"
      ]
     },
     "execution_count": 57,
     "metadata": {},
     "output_type": "execute_result"
    }
   ],
   "source": [
    "v=pd.concat([x_smote,y_smote],axis=1)\n",
    "v"
   ]
  },
  {
   "cell_type": "markdown",
   "id": "d243de03",
   "metadata": {},
   "source": [
    "# Correlation matrix"
   ]
  },
  {
   "cell_type": "code",
   "execution_count": 58,
   "id": "2ced0cc3",
   "metadata": {
    "scrolled": false
   },
   "outputs": [
    {
     "data": {
      "text/html": [
       "<div>\n",
       "<style scoped>\n",
       "    .dataframe tbody tr th:only-of-type {\n",
       "        vertical-align: middle;\n",
       "    }\n",
       "\n",
       "    .dataframe tbody tr th {\n",
       "        vertical-align: top;\n",
       "    }\n",
       "\n",
       "    .dataframe thead th {\n",
       "        text-align: right;\n",
       "    }\n",
       "</style>\n",
       "<table border=\"1\" class=\"dataframe\">\n",
       "  <thead>\n",
       "    <tr style=\"text-align: right;\">\n",
       "      <th></th>\n",
       "      <th>HighBP</th>\n",
       "      <th>HighChol</th>\n",
       "      <th>CholCheck</th>\n",
       "      <th>BMI</th>\n",
       "      <th>Smoker</th>\n",
       "      <th>Stroke</th>\n",
       "      <th>Diabetes</th>\n",
       "      <th>PhysActivity</th>\n",
       "      <th>Fruits</th>\n",
       "      <th>Veggies</th>\n",
       "      <th>...</th>\n",
       "      <th>NoDocbcCost</th>\n",
       "      <th>GenHlth</th>\n",
       "      <th>MentHlth</th>\n",
       "      <th>PhysHlth</th>\n",
       "      <th>DiffWalk</th>\n",
       "      <th>Sex</th>\n",
       "      <th>Age</th>\n",
       "      <th>Education</th>\n",
       "      <th>Income</th>\n",
       "      <th>HeartDiseaseorAttack</th>\n",
       "    </tr>\n",
       "  </thead>\n",
       "  <tbody>\n",
       "    <tr>\n",
       "      <th>HighBP</th>\n",
       "      <td>1.000000</td>\n",
       "      <td>0.344026</td>\n",
       "      <td>0.121818</td>\n",
       "      <td>0.216519</td>\n",
       "      <td>0.106808</td>\n",
       "      <td>0.152052</td>\n",
       "      <td>0.277255</td>\n",
       "      <td>-0.114484</td>\n",
       "      <td>-0.020909</td>\n",
       "      <td>-0.039116</td>\n",
       "      <td>...</td>\n",
       "      <td>0.009676</td>\n",
       "      <td>0.321905</td>\n",
       "      <td>0.055042</td>\n",
       "      <td>0.175245</td>\n",
       "      <td>0.245510</td>\n",
       "      <td>0.06496</td>\n",
       "      <td>0.355903</td>\n",
       "      <td>-0.130907</td>\n",
       "      <td>-0.174014</td>\n",
       "      <td>0.366781</td>\n",
       "    </tr>\n",
       "    <tr>\n",
       "      <th>HighChol</th>\n",
       "      <td>0.344026</td>\n",
       "      <td>1.000000</td>\n",
       "      <td>0.107676</td>\n",
       "      <td>0.111336</td>\n",
       "      <td>0.111998</td>\n",
       "      <td>0.106208</td>\n",
       "      <td>0.212406</td>\n",
       "      <td>-0.068279</td>\n",
       "      <td>-0.027539</td>\n",
       "      <td>-0.021163</td>\n",
       "      <td>...</td>\n",
       "      <td>0.007028</td>\n",
       "      <td>0.233321</td>\n",
       "      <td>0.059538</td>\n",
       "      <td>0.130168</td>\n",
       "      <td>0.161035</td>\n",
       "      <td>0.06081</td>\n",
       "      <td>0.275965</td>\n",
       "      <td>-0.064073</td>\n",
       "      <td>-0.082527</td>\n",
       "      <td>0.325252</td>\n",
       "    </tr>\n",
       "  </tbody>\n",
       "</table>\n",
       "<p>2 rows × 22 columns</p>\n",
       "</div>"
      ],
      "text/plain": [
       "            HighBP  HighChol  CholCheck       BMI    Smoker    Stroke  \\\n",
       "HighBP    1.000000  0.344026   0.121818  0.216519  0.106808  0.152052   \n",
       "HighChol  0.344026  1.000000   0.107676  0.111336  0.111998  0.106208   \n",
       "\n",
       "          Diabetes  PhysActivity    Fruits   Veggies  ...  NoDocbcCost  \\\n",
       "HighBP    0.277255     -0.114484 -0.020909 -0.039116  ...     0.009676   \n",
       "HighChol  0.212406     -0.068279 -0.027539 -0.021163  ...     0.007028   \n",
       "\n",
       "           GenHlth  MentHlth  PhysHlth  DiffWalk      Sex       Age  \\\n",
       "HighBP    0.321905  0.055042  0.175245  0.245510  0.06496  0.355903   \n",
       "HighChol  0.233321  0.059538  0.130168  0.161035  0.06081  0.275965   \n",
       "\n",
       "          Education    Income  HeartDiseaseorAttack  \n",
       "HighBP    -0.130907 -0.174014              0.366781  \n",
       "HighChol  -0.064073 -0.082527              0.325252  \n",
       "\n",
       "[2 rows x 22 columns]"
      ]
     },
     "execution_count": 58,
     "metadata": {},
     "output_type": "execute_result"
    }
   ],
   "source": [
    "pp = v.corr() \n",
    "pp.head(2)"
   ]
  },
  {
   "cell_type": "markdown",
   "id": "0fe22e94",
   "metadata": {},
   "source": [
    "# HeatMap - Correlation Plot"
   ]
  },
  {
   "cell_type": "code",
   "execution_count": 59,
   "id": "636d8e93",
   "metadata": {
    "scrolled": false
   },
   "outputs": [
    {
     "data": {
      "image/png": "[encoded data removed]",
      "text/plain": [
       "<Figure size 1500x1000 with 2 Axes>"
      ]
     },
     "metadata": {},
     "output_type": "display_data"
    }
   ],
   "source": [
    "plt.figure(figsize = (15,10))\n",
    "heatmap = sns.heatmap(pp,linewidth = 1,annot = True,cmap = 'cividis')\n",
    "plt.title(\"Correlation Between Features\")\n",
    "plt.show()"
   ]
  },
  {
   "cell_type": "raw",
   "id": "4f301ffe",
   "metadata": {},
   "source": [
    "We can see that certain columns such as Income & Education have a strong negative correlation with our target (HeartDiseaseorAttack) column"
   ]
  },
  {
   "cell_type": "code",
   "execution_count": 60,
   "id": "b14f5085",
   "metadata": {},
   "outputs": [
    {
     "data": {
      "text/plain": [
       "Index(['HeartDiseaseorAttack', 'HighBP', 'HighChol', 'CholCheck', 'BMI',\n",
       "       'Smoker', 'Stroke', 'Diabetes', 'PhysActivity', 'Fruits', 'Veggies',\n",
       "       'HvyAlcoholConsump', 'AnyHealthcare', 'NoDocbcCost', 'GenHlth',\n",
       "       'MentHlth', 'PhysHlth', 'DiffWalk', 'Sex', 'Age', 'Education',\n",
       "       'Income'],\n",
       "      dtype='object')"
      ]
     },
     "execution_count": 60,
     "metadata": {},
     "output_type": "execute_result"
    }
   ],
   "source": [
    "hd.columns"
   ]
  },
  {
   "cell_type": "code",
   "execution_count": 61,
   "id": "66796d7c",
   "metadata": {
    "scrolled": false
   },
   "outputs": [
    {
     "data": {
      "image/png": "[encoded data removed]",
      "text/plain": [
       "<Figure size 1000x500 with 2 Axes>"
      ]
     },
     "metadata": {},
     "output_type": "display_data"
    }
   ],
   "source": [
    "sns.displot(data=v, x=\"Age\", col=\"HeartDiseaseorAttack\",kde=True,color=\"red\",facecolor=\"blue\",edgecolor=\"black\").set(title='Having Heart disease or not corresponding to the age')\n",
    "plt.show()"
   ]
  },
  {
   "cell_type": "markdown",
   "id": "d8508c80",
   "metadata": {},
   "source": [
    "Having Heart disease or not corresponding to the age"
   ]
  },
  {
   "cell_type": "code",
   "execution_count": 62,
   "id": "7b82622c",
   "metadata": {
    "scrolled": false
   },
   "outputs": [
    {
     "data": {
      "image/png": "[encoded data removed]",
      "text/plain": [
       "<Figure size 640x480 with 1 Axes>"
      ]
     },
     "metadata": {},
     "output_type": "display_data"
    }
   ],
   "source": [
    "sns.histplot(data=v,x=\"BMI\",hue=\"HeartDiseaseorAttack\",multiple=\"stack\")\n",
    "plt.show()"
   ]
  },
  {
   "cell_type": "markdown",
   "id": "2c69ee41",
   "metadata": {},
   "source": [
    "Having heart disease or not with respect to bmi"
   ]
  },
  {
   "cell_type": "code",
   "execution_count": 63,
   "id": "860b12cb",
   "metadata": {
    "scrolled": false
   },
   "outputs": [
    {
     "data": {
      "image/png": "[encoded data removed]",
      "text/plain": [
       "<Figure size 640x480 with 1 Axes>"
      ]
     },
     "metadata": {},
     "output_type": "display_data"
    }
   ],
   "source": [
    "sns.histplot(data=v, x='MentHlth')\n",
    "fig.show()"
   ]
  },
  {
   "cell_type": "code",
   "execution_count": 64,
   "id": "250f6a58",
   "metadata": {
    "scrolled": false
   },
   "outputs": [
    {
     "data": {
      "text/plain": [
       "<Axes: xlabel='PhysHlth', ylabel='Count'>"
      ]
     },
     "execution_count": 64,
     "metadata": {},
     "output_type": "execute_result"
    },
    {
     "data": {
      "image/png": "[encoded data removed]",
      "text/plain": [
       "<Figure size 640x480 with 1 Axes>"
      ]
     },
     "metadata": {},
     "output_type": "display_data"
    }
   ],
   "source": [
    "sns.histplot(data=v, x=\"PhysHlth\")"
   ]
  },
  {
   "cell_type": "code",
   "execution_count": 65,
   "id": "47e606fb",
   "metadata": {
    "scrolled": false
   },
   "outputs": [
    {
     "data": {
      "text/plain": [
       "<Axes: xlabel='Income'>"
      ]
     },
     "execution_count": 65,
     "metadata": {},
     "output_type": "execute_result"
    },
    {
     "data": {
      "image/png": "[encoded data removed]",
      "text/plain": [
       "<Figure size 640x480 with 1 Axes>"
      ]
     },
     "metadata": {},
     "output_type": "display_data"
    }
   ],
   "source": [
    "sns.distplot(v['Income'], kde=False, color='Green')"
   ]
  },
  {
   "cell_type": "markdown",
   "id": "56089850",
   "metadata": {},
   "source": [
    "# SPLITTING OF DATA"
   ]
  },
  {
   "cell_type": "code",
   "execution_count": 66,
   "id": "faf63a40",
   "metadata": {},
   "outputs": [],
   "source": [
    "xs_tr,xs_te,ys_tr,ys_te=train_test_split(x_smote,y_smote,test_size=0.2,random_state=100)"
   ]
  },
  {
   "cell_type": "code",
   "execution_count": 67,
   "id": "b5aacf2d",
   "metadata": {},
   "outputs": [
    {
     "data": {
      "text/plain": [
       "((329702, 21), (82426, 21), (329702,), (82426,))"
      ]
     },
     "execution_count": 67,
     "metadata": {},
     "output_type": "execute_result"
    }
   ],
   "source": [
    "xs_tr.shape,xs_te.shape,ys_tr.shape,ys_te.shape"
   ]
  },
  {
   "cell_type": "markdown",
   "id": "0a777627",
   "metadata": {},
   "source": [
    "# 1.Logistic Regression"
   ]
  },
  {
   "cell_type": "code",
   "execution_count": 68,
   "id": "ea3e8ae9",
   "metadata": {},
   "outputs": [
    {
     "data": {
      "text/plain": [
       "array([1., 1., 1., ..., 0., 0., 1.])"
      ]
     },
     "execution_count": 68,
     "metadata": {},
     "output_type": "execute_result"
    }
   ],
   "source": [
    "lg.fit(xs_tr,ys_tr)\n",
    "sm_p1=lg.predict(xs_te)\n",
    "sm_p1"
   ]
  },
  {
   "cell_type": "code",
   "execution_count": 69,
   "id": "ac88fac3",
   "metadata": {},
   "outputs": [
    {
     "data": {
      "text/plain": [
       "(76.49042777764298,\n",
       " array([[30312,  8380],\n",
       "        [10998, 32736]], dtype=int64))"
      ]
     },
     "execution_count": 69,
     "metadata": {},
     "output_type": "execute_result"
    }
   ],
   "source": [
    "sm_cf1=confusion_matrix(sm_p1,ys_te)\n",
    "sm_ac1=sm_cf1.diagonal().sum()/sm_cf1.sum()*100\n",
    "sm_ac1,sm_cf1"
   ]
  },
  {
   "cell_type": "code",
   "execution_count": 70,
   "id": "b7369067",
   "metadata": {},
   "outputs": [
    {
     "name": "stdout",
     "output_type": "stream",
     "text": [
      "              precision    recall  f1-score   support\n",
      "\n",
      "         0.0       0.73      0.78      0.76     38692\n",
      "         1.0       0.80      0.75      0.77     43734\n",
      "\n",
      "    accuracy                           0.76     82426\n",
      "   macro avg       0.76      0.77      0.76     82426\n",
      "weighted avg       0.77      0.76      0.77     82426\n",
      "\n"
     ]
    }
   ],
   "source": [
    "print(classification_report(sm_p1,ys_te))"
   ]
  },
  {
   "cell_type": "code",
   "execution_count": 71,
   "id": "2268fb35",
   "metadata": {},
   "outputs": [
    {
     "data": {
      "text/plain": [
       "(0.748525174921114, 0.7961863994551999, 0.7716205067766647)"
      ]
     },
     "execution_count": 71,
     "metadata": {},
     "output_type": "execute_result"
    }
   ],
   "source": [
    "precision_smlg = precision_score(ys_te, sm_p1)\n",
    "recall_smlg = recall_score(ys_te, sm_p1)\n",
    "f1_smlg = f1_score(ys_te, sm_p1)\n",
    "precision_smlg, recall_smlg, f1_smlg"
   ]
  },
  {
   "cell_type": "markdown",
   "id": "586072e4",
   "metadata": {},
   "source": [
    "# 2. DT"
   ]
  },
  {
   "cell_type": "code",
   "execution_count": 72,
   "id": "89e0a37c",
   "metadata": {},
   "outputs": [
    {
     "data": {
      "text/plain": [
       "array([0., 1., 1., ..., 0., 0., 1.])"
      ]
     },
     "execution_count": 72,
     "metadata": {},
     "output_type": "execute_result"
    }
   ],
   "source": [
    "dt.fit(xs_tr,ys_tr)\n",
    "sm_p2=dt.predict(xs_te)\n",
    "sm_p2"
   ]
  },
  {
   "cell_type": "code",
   "execution_count": 73,
   "id": "4a9c8473",
   "metadata": {},
   "outputs": [
    {
     "data": {
      "text/plain": [
       "array([0.26997416, 0.12322572, 0.00129902, 0.05775715, 0.05530285,\n",
       "       0.03362431, 0.01128789, 0.0155468 , 0.01762331, 0.01333885,\n",
       "       0.00437253, 0.00290695, 0.00585077, 0.08331178, 0.01828008,\n",
       "       0.02608688, 0.01234304, 0.0733781 , 0.11088179, 0.02726225,\n",
       "       0.03634578])"
      ]
     },
     "execution_count": 73,
     "metadata": {},
     "output_type": "execute_result"
    }
   ],
   "source": [
    "dt.feature_importances_"
   ]
  },
  {
   "cell_type": "code",
   "execution_count": 74,
   "id": "d761b8ca",
   "metadata": {},
   "outputs": [
    {
     "data": {
      "text/plain": [
       "(90.39502098852303,\n",
       " array([[36907,  3514],\n",
       "        [ 4403, 37602]], dtype=int64))"
      ]
     },
     "execution_count": 74,
     "metadata": {},
     "output_type": "execute_result"
    }
   ],
   "source": [
    "sm_cf2=confusion_matrix(sm_p2,ys_te)\n",
    "dt_acc3=sm_cf2.diagonal().sum()/sm_cf2.sum()*100\n",
    "dt_acc3,sm_cf2"
   ]
  },
  {
   "cell_type": "code",
   "execution_count": 75,
   "id": "3babf899",
   "metadata": {},
   "outputs": [
    {
     "name": "stdout",
     "output_type": "stream",
     "text": [
      "              precision    recall  f1-score   support\n",
      "\n",
      "         0.0       0.89      0.91      0.90     40421\n",
      "         1.0       0.91      0.90      0.90     42005\n",
      "\n",
      "    accuracy                           0.90     82426\n",
      "   macro avg       0.90      0.90      0.90     82426\n",
      "weighted avg       0.90      0.90      0.90     82426\n",
      "\n"
     ]
    }
   ],
   "source": [
    "print(classification_report(sm_p2,ys_te))"
   ]
  },
  {
   "cell_type": "code",
   "execution_count": 76,
   "id": "80d65302",
   "metadata": {},
   "outputs": [
    {
     "data": {
      "text/plain": [
       "(0.8951791453398404, 0.9145344877906411, 0.9047533114375428)"
      ]
     },
     "execution_count": 76,
     "metadata": {},
     "output_type": "execute_result"
    }
   ],
   "source": [
    "sm_dt_pre_score= precision_score(ys_te,sm_p2)\n",
    "sm_dt_re_score= recall_score(ys_te,sm_p2)\n",
    "sm_dt_f1_score= f1_score(ys_te,sm_p2)\n",
    "sm_dt_pre_score,sm_dt_re_score,sm_dt_f1_score"
   ]
  },
  {
   "cell_type": "markdown",
   "id": "d61b8459",
   "metadata": {},
   "source": [
    "# 3. Random Forest"
   ]
  },
  {
   "cell_type": "code",
   "execution_count": 77,
   "id": "210a42f7",
   "metadata": {},
   "outputs": [
    {
     "data": {
      "text/plain": [
       "array([0., 1., 1., ..., 0., 0., 1.])"
      ]
     },
     "execution_count": 77,
     "metadata": {},
     "output_type": "execute_result"
    }
   ],
   "source": [
    "rf.fit(xs_tr,ys_tr)\n",
    "sm_p3=rf.predict(xs_te)\n",
    "sm_p3"
   ]
  },
  {
   "cell_type": "code",
   "execution_count": 78,
   "id": "da798128",
   "metadata": {},
   "outputs": [
    {
     "data": {
      "text/plain": [
       "(94.07589838157863,\n",
       " array([[40266,  3839],\n",
       "        [ 1044, 37277]], dtype=int64))"
      ]
     },
     "execution_count": 78,
     "metadata": {},
     "output_type": "execute_result"
    }
   ],
   "source": [
    "sm_cf3=confusion_matrix(sm_p3,ys_te)\n",
    "sm_ac3=sm_cf3.diagonal().sum()/sm_cf3.sum()*100\n",
    "sm_ac3,sm_cf3"
   ]
  },
  {
   "cell_type": "code",
   "execution_count": 79,
   "id": "95254799",
   "metadata": {},
   "outputs": [
    {
     "data": {
      "text/plain": [
       "array([0.11842512, 0.1382162 , 0.00203904, 0.05990019, 0.0623084 ,\n",
       "       0.03584152, 0.01720508, 0.02992791, 0.02861437, 0.02135413,\n",
       "       0.00775329, 0.00395769, 0.0080597 , 0.10481193, 0.02078081,\n",
       "       0.03229407, 0.05308544, 0.06765035, 0.11134453, 0.03383078,\n",
       "       0.04259946])"
      ]
     },
     "execution_count": 79,
     "metadata": {},
     "output_type": "execute_result"
    }
   ],
   "source": [
    "rf.feature_importances_"
   ]
  },
  {
   "cell_type": "code",
   "execution_count": 80,
   "id": "f5d3d9c2",
   "metadata": {},
   "outputs": [
    {
     "name": "stdout",
     "output_type": "stream",
     "text": [
      "              precision    recall  f1-score   support\n",
      "\n",
      "         0.0       0.97      0.91      0.94     44105\n",
      "         1.0       0.91      0.97      0.94     38321\n",
      "\n",
      "    accuracy                           0.94     82426\n",
      "   macro avg       0.94      0.94      0.94     82426\n",
      "weighted avg       0.94      0.94      0.94     82426\n",
      "\n"
     ]
    }
   ],
   "source": [
    "print(classification_report(sm_p3,ys_te))"
   ]
  },
  {
   "cell_type": "code",
   "execution_count": 81,
   "id": "0945efa8",
   "metadata": {
    "scrolled": true
   },
   "outputs": [
    {
     "data": {
      "text/plain": [
       "(0.9727564520758852, 0.9066300223757174, 0.9385299042008132)"
      ]
     },
     "execution_count": 81,
     "metadata": {},
     "output_type": "execute_result"
    }
   ],
   "source": [
    "precision_smrf = precision_score(ys_te, sm_p3)\n",
    "recall_smrf = recall_score(ys_te, sm_p3)\n",
    "f1_smrf = f1_score(ys_te, sm_p3)\n",
    "precision_smrf, recall_smrf, f1_smrf"
   ]
  },
  {
   "cell_type": "markdown",
   "id": "ba7a2ba1",
   "metadata": {},
   "source": [
    "# 4. KNN"
   ]
  },
  {
   "cell_type": "code",
   "execution_count": 82,
   "id": "f66e3a56",
   "metadata": {},
   "outputs": [
    {
     "data": {
      "text/plain": [
       "array([0., 1., 1., ..., 0., 0., 1.])"
      ]
     },
     "execution_count": 82,
     "metadata": {},
     "output_type": "execute_result"
    }
   ],
   "source": [
    "knn.fit(xs_tr,ys_tr)\n",
    "sm_p5=knn.predict(xs_te)\n",
    "sm_p5"
   ]
  },
  {
   "cell_type": "code",
   "execution_count": 83,
   "id": "f35e72a4",
   "metadata": {},
   "outputs": [
    {
     "data": {
      "text/plain": [
       "(80.47218110790286,\n",
       " array([[26259,  1045],\n",
       "        [15051, 40071]], dtype=int64))"
      ]
     },
     "execution_count": 83,
     "metadata": {},
     "output_type": "execute_result"
    }
   ],
   "source": [
    "knn_cf8=confusion_matrix(sm_p5,ys_te)\n",
    "knn_acc3=knn_cf8.diagonal().sum()/knn_cf8.sum()*100\n",
    "knn_acc3,knn_cf8"
   ]
  },
  {
   "cell_type": "code",
   "execution_count": 84,
   "id": "39a0ea2c",
   "metadata": {},
   "outputs": [
    {
     "name": "stdout",
     "output_type": "stream",
     "text": [
      "              precision    recall  f1-score   support\n",
      "\n",
      "         0.0       0.64      0.96      0.77     27304\n",
      "         1.0       0.97      0.73      0.83     55122\n",
      "\n",
      "    accuracy                           0.80     82426\n",
      "   macro avg       0.81      0.84      0.80     82426\n",
      "weighted avg       0.86      0.80      0.81     82426\n",
      "\n"
     ]
    }
   ],
   "source": [
    "print(classification_report(sm_p5,ys_te))"
   ]
  },
  {
   "cell_type": "code",
   "execution_count": 85,
   "id": "cbeff114",
   "metadata": {},
   "outputs": [
    {
     "data": {
      "text/plain": [
       "(0.7269511265919234, 0.9745841035120147, 0.8327479789688065)"
      ]
     },
     "execution_count": 85,
     "metadata": {},
     "output_type": "execute_result"
    }
   ],
   "source": [
    "sm_knn_pre_score= precision_score(ys_te,sm_p5)\n",
    "sm_knn_re_score= recall_score(ys_te,sm_p5)\n",
    "sm_knn_f1_score= f1_score(ys_te,sm_p5)\n",
    "sm_knn_pre_score,sm_knn_re_score,sm_knn_f1_score"
   ]
  },
  {
   "cell_type": "markdown",
   "id": "822be5cc",
   "metadata": {},
   "source": [
    "# 5. NB"
   ]
  },
  {
   "cell_type": "code",
   "execution_count": 86,
   "id": "47972fed",
   "metadata": {},
   "outputs": [
    {
     "data": {
      "text/plain": [
       "array([0., 0., 0., ..., 0., 1., 1.])"
      ]
     },
     "execution_count": 86,
     "metadata": {},
     "output_type": "execute_result"
    }
   ],
   "source": [
    "nb.fit(xs_tr,ys_tr)\n",
    "sm_p6=nb.predict(xs_te)\n",
    "sm_p6"
   ]
  },
  {
   "cell_type": "code",
   "execution_count": 87,
   "id": "d5951ce6",
   "metadata": {},
   "outputs": [
    {
     "data": {
      "text/plain": [
       "(62.25584160337757,\n",
       " array([[33423, 23224],\n",
       "        [ 7887, 17892]], dtype=int64))"
      ]
     },
     "execution_count": 87,
     "metadata": {},
     "output_type": "execute_result"
    }
   ],
   "source": [
    "nb_cf8=confusion_matrix(sm_p6,ys_te)\n",
    "nb_acc3=nb_cf8.diagonal().sum()/nb_cf8.sum()*100\n",
    "nb_acc3,nb_cf8"
   ]
  },
  {
   "cell_type": "code",
   "execution_count": 88,
   "id": "aafd69e6",
   "metadata": {},
   "outputs": [
    {
     "name": "stdout",
     "output_type": "stream",
     "text": [
      "              precision    recall  f1-score   support\n",
      "\n",
      "         0.0       0.81      0.59      0.68     56647\n",
      "         1.0       0.44      0.69      0.53     25779\n",
      "\n",
      "    accuracy                           0.62     82426\n",
      "   macro avg       0.62      0.64      0.61     82426\n",
      "weighted avg       0.69      0.62      0.64     82426\n",
      "\n"
     ]
    }
   ],
   "source": [
    "print(classification_report(sm_p6,ys_te))"
   ]
  },
  {
   "cell_type": "code",
   "execution_count": 89,
   "id": "39e9ae94",
   "metadata": {},
   "outputs": [
    {
     "data": {
      "text/plain": [
       "(0.6940532991970209, 0.4351590621655803, 0.534927872038269)"
      ]
     },
     "execution_count": 89,
     "metadata": {},
     "output_type": "execute_result"
    }
   ],
   "source": [
    "sm_nb_pre_score= precision_score(ys_te,sm_p6)\n",
    "sm_nb_re_score= recall_score(ys_te,sm_p6)\n",
    "sm_nb_f1_score= f1_score(ys_te,sm_p6)\n",
    "sm_nb_pre_score,sm_nb_re_score,sm_nb_f1_score"
   ]
  },
  {
   "cell_type": "markdown",
   "id": "f23187a2",
   "metadata": {},
   "source": [
    "# 6. XGB"
   ]
  },
  {
   "cell_type": "code",
   "execution_count": 90,
   "id": "bcc86de2",
   "metadata": {},
   "outputs": [
    {
     "data": {
      "text/plain": [
       "array([0, 1, 1, ..., 0, 0, 1])"
      ]
     },
     "execution_count": 90,
     "metadata": {},
     "output_type": "execute_result"
    }
   ],
   "source": [
    "xgb.fit(xs_tr,ys_tr)\n",
    "sm_p4=xgb.predict(xs_te)\n",
    "sm_p4"
   ]
  },
  {
   "cell_type": "code",
   "execution_count": 91,
   "id": "04ef8a7e",
   "metadata": {},
   "outputs": [
    {
     "data": {
      "text/plain": [
       "(94.29670249678499,\n",
       " array([[40782,  4173],\n",
       "        [  528, 36943]], dtype=int64))"
      ]
     },
     "execution_count": 91,
     "metadata": {},
     "output_type": "execute_result"
    }
   ],
   "source": [
    "sm_cf4=confusion_matrix(sm_p4,ys_te)\n",
    "sm_ac4=sm_cf4.diagonal().sum()/sm_cf4.sum()*100\n",
    "sm_ac4,sm_cf4"
   ]
  },
  {
   "cell_type": "code",
   "execution_count": 92,
   "id": "c747d579",
   "metadata": {},
   "outputs": [
    {
     "name": "stdout",
     "output_type": "stream",
     "text": [
      "              precision    recall  f1-score   support\n",
      "\n",
      "           0       0.99      0.91      0.95     44955\n",
      "           1       0.90      0.99      0.94     37471\n",
      "\n",
      "    accuracy                           0.94     82426\n",
      "   macro avg       0.94      0.95      0.94     82426\n",
      "weighted avg       0.95      0.94      0.94     82426\n",
      "\n"
     ]
    }
   ],
   "source": [
    "print(classification_report(sm_p4,ys_te))"
   ]
  },
  {
   "cell_type": "code",
   "execution_count": 93,
   "id": "b85535b7",
   "metadata": {},
   "outputs": [
    {
     "data": {
      "text/plain": [
       "(0.985909103039684, 0.8985066640723806, 0.9401809459579827)"
      ]
     },
     "execution_count": 93,
     "metadata": {},
     "output_type": "execute_result"
    }
   ],
   "source": [
    "precision_smxgb = precision_score(ys_te, sm_p4)\n",
    "recall_smxgb = recall_score(ys_te, sm_p4)\n",
    "f1_smxgb = f1_score(ys_te, sm_p4)\n",
    "precision_smxgb, recall_smxgb, f1_smxgb"
   ]
  },
  {
   "cell_type": "markdown",
   "id": "93906284",
   "metadata": {},
   "source": [
    "# Smote DataFrame"
   ]
  },
  {
   "cell_type": "code",
   "execution_count": 94,
   "id": "e0caea61",
   "metadata": {},
   "outputs": [],
   "source": [
    "l13=[\"LG\",\"DT\",\"RF\",\"KNN\",\"NB\",\"XGB\"]\n",
    "l14=[sm_ac1,dt_acc3,sm_ac3,knn_acc3,nb_acc3,sm_ac4]\n",
    "l15=[precision_smlg,sm_dt_pre_score,precision_smrf,sm_knn_pre_score,sm_nb_pre_score,precision_smxgb]\n",
    "l16=[recall_smlg,sm_dt_re_score,recall_smrf,sm_knn_re_score,sm_nb_re_score,recall_smxgb]\n",
    "l17=[f1_smlg,sm_dt_f1_score,f1_smrf,sm_knn_f1_score,sm_nb_f1_score,f1_smxgb]"
   ]
  },
  {
   "cell_type": "code",
   "execution_count": 95,
   "id": "6406a4fd",
   "metadata": {
    "scrolled": true
   },
   "outputs": [
    {
     "data": {
      "text/html": [
       "<div>\n",
       "<style scoped>\n",
       "    .dataframe tbody tr th:only-of-type {\n",
       "        vertical-align: middle;\n",
       "    }\n",
       "\n",
       "    .dataframe tbody tr th {\n",
       "        vertical-align: top;\n",
       "    }\n",
       "\n",
       "    .dataframe thead th {\n",
       "        text-align: right;\n",
       "    }\n",
       "</style>\n",
       "<table border=\"1\" class=\"dataframe\">\n",
       "  <thead>\n",
       "    <tr style=\"text-align: right;\">\n",
       "      <th></th>\n",
       "      <th>Model Name</th>\n",
       "      <th>Accuracy</th>\n",
       "      <th>Precision</th>\n",
       "      <th>Recall</th>\n",
       "      <th>F1-Score</th>\n",
       "    </tr>\n",
       "  </thead>\n",
       "  <tbody>\n",
       "    <tr>\n",
       "      <th>0</th>\n",
       "      <td>LG</td>\n",
       "      <td>76.490428</td>\n",
       "      <td>0.748525</td>\n",
       "      <td>0.796186</td>\n",
       "      <td>0.771621</td>\n",
       "    </tr>\n",
       "    <tr>\n",
       "      <th>1</th>\n",
       "      <td>DT</td>\n",
       "      <td>90.395021</td>\n",
       "      <td>0.895179</td>\n",
       "      <td>0.914534</td>\n",
       "      <td>0.904753</td>\n",
       "    </tr>\n",
       "    <tr>\n",
       "      <th>2</th>\n",
       "      <td>RF</td>\n",
       "      <td>94.075898</td>\n",
       "      <td>0.972756</td>\n",
       "      <td>0.906630</td>\n",
       "      <td>0.938530</td>\n",
       "    </tr>\n",
       "    <tr>\n",
       "      <th>3</th>\n",
       "      <td>KNN</td>\n",
       "      <td>80.472181</td>\n",
       "      <td>0.726951</td>\n",
       "      <td>0.974584</td>\n",
       "      <td>0.832748</td>\n",
       "    </tr>\n",
       "    <tr>\n",
       "      <th>4</th>\n",
       "      <td>NB</td>\n",
       "      <td>62.255842</td>\n",
       "      <td>0.694053</td>\n",
       "      <td>0.435159</td>\n",
       "      <td>0.534928</td>\n",
       "    </tr>\n",
       "    <tr>\n",
       "      <th>5</th>\n",
       "      <td>XGB</td>\n",
       "      <td>94.296702</td>\n",
       "      <td>0.985909</td>\n",
       "      <td>0.898507</td>\n",
       "      <td>0.940181</td>\n",
       "    </tr>\n",
       "  </tbody>\n",
       "</table>\n",
       "</div>"
      ],
      "text/plain": [
       "  Model Name   Accuracy  Precision    Recall  F1-Score\n",
       "0         LG  76.490428   0.748525  0.796186  0.771621\n",
       "1         DT  90.395021   0.895179  0.914534  0.904753\n",
       "2         RF  94.075898   0.972756  0.906630  0.938530\n",
       "3        KNN  80.472181   0.726951  0.974584  0.832748\n",
       "4         NB  62.255842   0.694053  0.435159  0.534928\n",
       "5        XGB  94.296702   0.985909  0.898507  0.940181"
      ]
     },
     "execution_count": 95,
     "metadata": {},
     "output_type": "execute_result"
    }
   ],
   "source": [
    "Finall=pd.DataFrame({\"Model Name\":l13,\"Accuracy\":l14,\"Precision\":l15,\"Recall\":l16,\"F1-Score\":l17})\n",
    "Finall"
   ]
  },
  {
   "cell_type": "markdown",
   "id": "bfb3208d",
   "metadata": {},
   "source": [
    "# SMOTE MODELS CONCLUSION:\n",
    " Out of these models,after treating class imbalance with smote oversampling XGBoost is better with good accuracy,precision,recall and f1 score compared to others."
   ]
  },
  {
   "cell_type": "markdown",
   "id": "8e845bdd",
   "metadata": {},
   "source": [
    "# FEATURE SELECTION "
   ]
  },
  {
   "cell_type": "markdown",
   "id": "77b6260e",
   "metadata": {},
   "source": [
    "# Random Forest"
   ]
  },
  {
   "cell_type": "code",
   "execution_count": 96,
   "id": "33bbe3fa",
   "metadata": {
    "scrolled": false
   },
   "outputs": [
    {
     "data": {
      "text/html": [
       "<div>\n",
       "<style scoped>\n",
       "    .dataframe tbody tr th:only-of-type {\n",
       "        vertical-align: middle;\n",
       "    }\n",
       "\n",
       "    .dataframe tbody tr th {\n",
       "        vertical-align: top;\n",
       "    }\n",
       "\n",
       "    .dataframe thead th {\n",
       "        text-align: right;\n",
       "    }\n",
       "</style>\n",
       "<table border=\"1\" class=\"dataframe\">\n",
       "  <thead>\n",
       "    <tr style=\"text-align: right;\">\n",
       "      <th></th>\n",
       "      <th>importances</th>\n",
       "      <th>columns</th>\n",
       "    </tr>\n",
       "  </thead>\n",
       "  <tbody>\n",
       "    <tr>\n",
       "      <th>0</th>\n",
       "      <td>0.118425</td>\n",
       "      <td>HighBP</td>\n",
       "    </tr>\n",
       "    <tr>\n",
       "      <th>1</th>\n",
       "      <td>0.138216</td>\n",
       "      <td>HighChol</td>\n",
       "    </tr>\n",
       "    <tr>\n",
       "      <th>2</th>\n",
       "      <td>0.002039</td>\n",
       "      <td>CholCheck</td>\n",
       "    </tr>\n",
       "    <tr>\n",
       "      <th>3</th>\n",
       "      <td>0.059900</td>\n",
       "      <td>BMI</td>\n",
       "    </tr>\n",
       "    <tr>\n",
       "      <th>4</th>\n",
       "      <td>0.062308</td>\n",
       "      <td>Smoker</td>\n",
       "    </tr>\n",
       "    <tr>\n",
       "      <th>5</th>\n",
       "      <td>0.035842</td>\n",
       "      <td>Stroke</td>\n",
       "    </tr>\n",
       "    <tr>\n",
       "      <th>6</th>\n",
       "      <td>0.017205</td>\n",
       "      <td>Diabetes</td>\n",
       "    </tr>\n",
       "    <tr>\n",
       "      <th>7</th>\n",
       "      <td>0.029928</td>\n",
       "      <td>PhysActivity</td>\n",
       "    </tr>\n",
       "    <tr>\n",
       "      <th>8</th>\n",
       "      <td>0.028614</td>\n",
       "      <td>Fruits</td>\n",
       "    </tr>\n",
       "    <tr>\n",
       "      <th>9</th>\n",
       "      <td>0.021354</td>\n",
       "      <td>Veggies</td>\n",
       "    </tr>\n",
       "    <tr>\n",
       "      <th>10</th>\n",
       "      <td>0.007753</td>\n",
       "      <td>HvyAlcoholConsump</td>\n",
       "    </tr>\n",
       "    <tr>\n",
       "      <th>11</th>\n",
       "      <td>0.003958</td>\n",
       "      <td>AnyHealthcare</td>\n",
       "    </tr>\n",
       "    <tr>\n",
       "      <th>12</th>\n",
       "      <td>0.008060</td>\n",
       "      <td>NoDocbcCost</td>\n",
       "    </tr>\n",
       "    <tr>\n",
       "      <th>13</th>\n",
       "      <td>0.104812</td>\n",
       "      <td>GenHlth</td>\n",
       "    </tr>\n",
       "    <tr>\n",
       "      <th>14</th>\n",
       "      <td>0.020781</td>\n",
       "      <td>MentHlth</td>\n",
       "    </tr>\n",
       "    <tr>\n",
       "      <th>15</th>\n",
       "      <td>0.032294</td>\n",
       "      <td>PhysHlth</td>\n",
       "    </tr>\n",
       "    <tr>\n",
       "      <th>16</th>\n",
       "      <td>0.053085</td>\n",
       "      <td>DiffWalk</td>\n",
       "    </tr>\n",
       "    <tr>\n",
       "      <th>17</th>\n",
       "      <td>0.067650</td>\n",
       "      <td>Sex</td>\n",
       "    </tr>\n",
       "    <tr>\n",
       "      <th>18</th>\n",
       "      <td>0.111345</td>\n",
       "      <td>Age</td>\n",
       "    </tr>\n",
       "    <tr>\n",
       "      <th>19</th>\n",
       "      <td>0.033831</td>\n",
       "      <td>Education</td>\n",
       "    </tr>\n",
       "    <tr>\n",
       "      <th>20</th>\n",
       "      <td>0.042599</td>\n",
       "      <td>Income</td>\n",
       "    </tr>\n",
       "  </tbody>\n",
       "</table>\n",
       "</div>"
      ],
      "text/plain": [
       "    importances            columns\n",
       "0      0.118425             HighBP\n",
       "1      0.138216           HighChol\n",
       "2      0.002039          CholCheck\n",
       "3      0.059900                BMI\n",
       "4      0.062308             Smoker\n",
       "5      0.035842             Stroke\n",
       "6      0.017205           Diabetes\n",
       "7      0.029928       PhysActivity\n",
       "8      0.028614             Fruits\n",
       "9      0.021354            Veggies\n",
       "10     0.007753  HvyAlcoholConsump\n",
       "11     0.003958      AnyHealthcare\n",
       "12     0.008060        NoDocbcCost\n",
       "13     0.104812            GenHlth\n",
       "14     0.020781           MentHlth\n",
       "15     0.032294           PhysHlth\n",
       "16     0.053085           DiffWalk\n",
       "17     0.067650                Sex\n",
       "18     0.111345                Age\n",
       "19     0.033831          Education\n",
       "20     0.042599             Income"
      ]
     },
     "execution_count": 96,
     "metadata": {},
     "output_type": "execute_result"
    }
   ],
   "source": [
    "df=pd.DataFrame({\"importances\":list(rf.feature_importances_),\"columns\":list(x_smote)})\n",
    "df"
   ]
  },
  {
   "cell_type": "code",
   "execution_count": 97,
   "id": "865b4fd2",
   "metadata": {},
   "outputs": [
    {
     "data": {
      "text/html": [
       "<div>\n",
       "<style scoped>\n",
       "    .dataframe tbody tr th:only-of-type {\n",
       "        vertical-align: middle;\n",
       "    }\n",
       "\n",
       "    .dataframe tbody tr th {\n",
       "        vertical-align: top;\n",
       "    }\n",
       "\n",
       "    .dataframe thead th {\n",
       "        text-align: right;\n",
       "    }\n",
       "</style>\n",
       "<table border=\"1\" class=\"dataframe\">\n",
       "  <thead>\n",
       "    <tr style=\"text-align: right;\">\n",
       "      <th></th>\n",
       "      <th>HighBP</th>\n",
       "      <th>HighChol</th>\n",
       "      <th>BMI</th>\n",
       "      <th>Smoker</th>\n",
       "      <th>Stroke</th>\n",
       "      <th>Diabetes</th>\n",
       "      <th>PhysActivity</th>\n",
       "      <th>Fruits</th>\n",
       "      <th>Veggies</th>\n",
       "      <th>GenHlth</th>\n",
       "      <th>MentHlth</th>\n",
       "      <th>PhysHlth</th>\n",
       "      <th>DiffWalk</th>\n",
       "      <th>Sex</th>\n",
       "      <th>Age</th>\n",
       "      <th>Education</th>\n",
       "      <th>Income</th>\n",
       "    </tr>\n",
       "  </thead>\n",
       "  <tbody>\n",
       "    <tr>\n",
       "      <th>0</th>\n",
       "      <td>1.0</td>\n",
       "      <td>1.0</td>\n",
       "      <td>40.0</td>\n",
       "      <td>1.0</td>\n",
       "      <td>0.0</td>\n",
       "      <td>0.0</td>\n",
       "      <td>0.0</td>\n",
       "      <td>0.0</td>\n",
       "      <td>1.0</td>\n",
       "      <td>5.0</td>\n",
       "      <td>18.0</td>\n",
       "      <td>15.0</td>\n",
       "      <td>1.0</td>\n",
       "      <td>0.0</td>\n",
       "      <td>9.0</td>\n",
       "      <td>4.0</td>\n",
       "      <td>3.0</td>\n",
       "    </tr>\n",
       "    <tr>\n",
       "      <th>1</th>\n",
       "      <td>0.0</td>\n",
       "      <td>0.0</td>\n",
       "      <td>25.0</td>\n",
       "      <td>1.0</td>\n",
       "      <td>0.0</td>\n",
       "      <td>0.0</td>\n",
       "      <td>1.0</td>\n",
       "      <td>0.0</td>\n",
       "      <td>0.0</td>\n",
       "      <td>3.0</td>\n",
       "      <td>0.0</td>\n",
       "      <td>0.0</td>\n",
       "      <td>0.0</td>\n",
       "      <td>0.0</td>\n",
       "      <td>7.0</td>\n",
       "      <td>6.0</td>\n",
       "      <td>1.0</td>\n",
       "    </tr>\n",
       "  </tbody>\n",
       "</table>\n",
       "</div>"
      ],
      "text/plain": [
       "   HighBP  HighChol   BMI  Smoker  Stroke  Diabetes  PhysActivity  Fruits  \\\n",
       "0     1.0       1.0  40.0     1.0     0.0       0.0           0.0     0.0   \n",
       "1     0.0       0.0  25.0     1.0     0.0       0.0           1.0     0.0   \n",
       "\n",
       "   Veggies  GenHlth  MentHlth  PhysHlth  DiffWalk  Sex  Age  Education  Income  \n",
       "0      1.0      5.0      18.0      15.0       1.0  0.0  9.0        4.0     3.0  \n",
       "1      0.0      3.0       0.0       0.0       0.0  0.0  7.0        6.0     1.0  "
      ]
     },
     "execution_count": 97,
     "metadata": {},
     "output_type": "execute_result"
    }
   ],
   "source": [
    "newx=x_smote.drop([\"NoDocbcCost\",\"AnyHealthcare\",\"HvyAlcoholConsump\",\"CholCheck\"],axis=1)\n",
    "newx.head(2)"
   ]
  },
  {
   "cell_type": "code",
   "execution_count": 98,
   "id": "3b60be21",
   "metadata": {},
   "outputs": [
    {
     "data": {
      "text/plain": [
       "0.0    206064\n",
       "1.0    206064\n",
       "Name: HeartDiseaseorAttack, dtype: int64"
      ]
     },
     "execution_count": 98,
     "metadata": {},
     "output_type": "execute_result"
    }
   ],
   "source": [
    "y_smote.value_counts()"
   ]
  },
  {
   "cell_type": "code",
   "execution_count": 99,
   "id": "e1f256ff",
   "metadata": {},
   "outputs": [
    {
     "data": {
      "text/plain": [
       "((412128, 17), (412128,))"
      ]
     },
     "execution_count": 99,
     "metadata": {},
     "output_type": "execute_result"
    }
   ],
   "source": [
    "newx.shape,y_smote.shape"
   ]
  },
  {
   "cell_type": "code",
   "execution_count": 100,
   "id": "880da0ff",
   "metadata": {},
   "outputs": [],
   "source": [
    "nsx_train,nsx_test,nsy_train,nsy_test=train_test_split(newx,y_smote,test_size=0.2,random_state=43)"
   ]
  },
  {
   "cell_type": "code",
   "execution_count": 101,
   "id": "82ee0c6f",
   "metadata": {},
   "outputs": [
    {
     "data": {
      "text/plain": [
       "((329702, 17), (82426, 17), (329702,), (82426,))"
      ]
     },
     "execution_count": 101,
     "metadata": {},
     "output_type": "execute_result"
    }
   ],
   "source": [
    "nsx_train.shape,nsx_test.shape,nsy_train.shape,nsy_test.shape"
   ]
  },
  {
   "cell_type": "markdown",
   "id": "2f36ec87",
   "metadata": {},
   "source": [
    "# 1.Logistic Regression"
   ]
  },
  {
   "cell_type": "code",
   "execution_count": 102,
   "id": "fef0c2ac",
   "metadata": {},
   "outputs": [
    {
     "data": {
      "text/plain": [
       "array([0., 0., 0., ..., 1., 0., 1.])"
      ]
     },
     "execution_count": 102,
     "metadata": {},
     "output_type": "execute_result"
    }
   ],
   "source": [
    "lg.fit(nsx_train,nsy_train)\n",
    "lg_pred = lg.predict(nsx_test)\n",
    "lg_pred"
   ]
  },
  {
   "cell_type": "code",
   "execution_count": 103,
   "id": "67145ea5",
   "metadata": {},
   "outputs": [
    {
     "data": {
      "text/plain": [
       "(77.1103777934147,\n",
       " array([[30874,  8490],\n",
       "        [10377, 32685]], dtype=int64))"
      ]
     },
     "execution_count": 103,
     "metadata": {},
     "output_type": "execute_result"
    }
   ],
   "source": [
    "fs_lg_cm= confusion_matrix(lg_pred,nsy_test)\n",
    "fs_lg_acc=fs_lg_cm.diagonal().sum()/fs_lg_cm.sum()*100\n",
    "fs_lg_acc,fs_lg_cm"
   ]
  },
  {
   "cell_type": "code",
   "execution_count": 104,
   "id": "2cbea292",
   "metadata": {},
   "outputs": [
    {
     "name": "stdout",
     "output_type": "stream",
     "text": [
      "              precision    recall  f1-score   support\n",
      "\n",
      "         0.0       0.75      0.78      0.77     39364\n",
      "         1.0       0.79      0.76      0.78     43062\n",
      "\n",
      "    accuracy                           0.77     82426\n",
      "   macro avg       0.77      0.77      0.77     82426\n",
      "weighted avg       0.77      0.77      0.77     82426\n",
      "\n"
     ]
    }
   ],
   "source": [
    "print(classification_report(lg_pred,nsy_test))"
   ]
  },
  {
   "cell_type": "code",
   "execution_count": 105,
   "id": "0cdb5265",
   "metadata": {},
   "outputs": [
    {
     "data": {
      "text/plain": [
       "(0.7590218754354187, 0.7938069216757742, 0.7760247872075215)"
      ]
     },
     "execution_count": 105,
     "metadata": {},
     "output_type": "execute_result"
    }
   ],
   "source": [
    "fs_lg_pre_score= precision_score(nsy_test,lg_pred)\n",
    "fs_lg_re_score= recall_score(nsy_test,lg_pred)\n",
    "fs_lg_f1_score= f1_score(nsy_test,lg_pred)\n",
    "fs_lg_pre_score,fs_lg_re_score,fs_lg_f1_score"
   ]
  },
  {
   "cell_type": "markdown",
   "id": "731c21bc",
   "metadata": {},
   "source": [
    "# 2.DT"
   ]
  },
  {
   "cell_type": "code",
   "execution_count": 106,
   "id": "ad194c37",
   "metadata": {},
   "outputs": [
    {
     "data": {
      "text/plain": [
       "array([0., 1., 1., ..., 1., 1., 1.])"
      ]
     },
     "execution_count": 106,
     "metadata": {},
     "output_type": "execute_result"
    }
   ],
   "source": [
    "dt.fit(nsx_train,nsy_train)\n",
    "dt_pred = dt.predict(nsx_test)\n",
    "dt_pred"
   ]
  },
  {
   "cell_type": "code",
   "execution_count": 107,
   "id": "0c41454c",
   "metadata": {},
   "outputs": [
    {
     "data": {
      "text/plain": [
       "(90.62431756969889,\n",
       " array([[37107,  3584],\n",
       "        [ 4144, 37591]], dtype=int64))"
      ]
     },
     "execution_count": 107,
     "metadata": {},
     "output_type": "execute_result"
    }
   ],
   "source": [
    "fs_dt_cm=confusion_matrix(dt_pred,nsy_test)\n",
    "fs_dt_acc=fs_dt_cm.diagonal().sum()/fs_dt_cm.sum()*100\n",
    "fs_dt_acc,fs_dt_cm"
   ]
  },
  {
   "cell_type": "code",
   "execution_count": 108,
   "id": "232adc17",
   "metadata": {},
   "outputs": [
    {
     "name": "stdout",
     "output_type": "stream",
     "text": [
      "              precision    recall  f1-score   support\n",
      "\n",
      "         0.0       0.90      0.91      0.91     40691\n",
      "         1.0       0.91      0.90      0.91     41735\n",
      "\n",
      "    accuracy                           0.91     82426\n",
      "   macro avg       0.91      0.91      0.91     82426\n",
      "weighted avg       0.91      0.91      0.91     82426\n",
      "\n"
     ]
    }
   ],
   "source": [
    "print(classification_report(dt_pred,nsy_test))"
   ]
  },
  {
   "cell_type": "code",
   "execution_count": 109,
   "id": "cc60a440",
   "metadata": {},
   "outputs": [
    {
     "data": {
      "text/plain": [
       "(0.900706840781119, 0.9129568913175471, 0.9067904957182487)"
      ]
     },
     "execution_count": 109,
     "metadata": {},
     "output_type": "execute_result"
    }
   ],
   "source": [
    "fs_dt_pre_score= precision_score(nsy_test,dt_pred)\n",
    "fs_dt_re_score= recall_score(nsy_test,dt_pred)\n",
    "fs_dt_f1_score= f1_score(nsy_test,dt_pred)\n",
    "fs_dt_pre_score,fs_dt_re_score,fs_dt_f1_score"
   ]
  },
  {
   "cell_type": "markdown",
   "id": "d2cc913d",
   "metadata": {},
   "source": [
    "# 3.RF"
   ]
  },
  {
   "cell_type": "code",
   "execution_count": 110,
   "id": "ece1748b",
   "metadata": {},
   "outputs": [
    {
     "data": {
      "text/plain": [
       "array([0., 1., 1., ..., 1., 1., 0.])"
      ]
     },
     "execution_count": 110,
     "metadata": {},
     "output_type": "execute_result"
    }
   ],
   "source": [
    "rf.fit(nsx_train,nsy_train)\n",
    "rf_pred = rf.predict(nsx_test)\n",
    "rf_pred"
   ]
  },
  {
   "cell_type": "code",
   "execution_count": 111,
   "id": "2610e96a",
   "metadata": {},
   "outputs": [
    {
     "data": {
      "text/plain": [
       "(94.0067454443986,\n",
       " array([[40195,  3884],\n",
       "        [ 1056, 37291]], dtype=int64))"
      ]
     },
     "execution_count": 111,
     "metadata": {},
     "output_type": "execute_result"
    }
   ],
   "source": [
    "fs_rf_cm = confusion_matrix(rf_pred,nsy_test)\n",
    "fs_rf_acc=fs_rf_cm.diagonal().sum()/fs_rf_cm.sum()*100\n",
    "fs_rf_acc,fs_rf_cm"
   ]
  },
  {
   "cell_type": "code",
   "execution_count": 112,
   "id": "f54bb25c",
   "metadata": {},
   "outputs": [
    {
     "name": "stdout",
     "output_type": "stream",
     "text": [
      "              precision    recall  f1-score   support\n",
      "\n",
      "         0.0       0.97      0.91      0.94     44079\n",
      "         1.0       0.91      0.97      0.94     38347\n",
      "\n",
      "    accuracy                           0.94     82426\n",
      "   macro avg       0.94      0.94      0.94     82426\n",
      "weighted avg       0.94      0.94      0.94     82426\n",
      "\n"
     ]
    }
   ],
   "source": [
    "print(classification_report(rf_pred,nsy_test))"
   ]
  },
  {
   "cell_type": "code",
   "execution_count": 113,
   "id": "e039bbee",
   "metadata": {},
   "outputs": [
    {
     "data": {
      "text/plain": [
       "(0.972461991811615, 0.9056709168184578, 0.9378788259852618)"
      ]
     },
     "execution_count": 113,
     "metadata": {},
     "output_type": "execute_result"
    }
   ],
   "source": [
    "fs_rf_pre_score= precision_score(nsy_test,rf_pred)\n",
    "fs_rf_re_score= recall_score(nsy_test,rf_pred)\n",
    "fs_rf_f1_score= f1_score(nsy_test,rf_pred)\n",
    "fs_rf_pre_score,fs_rf_re_score,fs_rf_f1_score"
   ]
  },
  {
   "cell_type": "markdown",
   "id": "17298256",
   "metadata": {},
   "source": [
    "# 4.Xgb"
   ]
  },
  {
   "cell_type": "code",
   "execution_count": 114,
   "id": "bbf30596",
   "metadata": {},
   "outputs": [
    {
     "data": {
      "text/plain": [
       "array([0, 1, 1, ..., 0, 1, 0])"
      ]
     },
     "execution_count": 114,
     "metadata": {},
     "output_type": "execute_result"
    }
   ],
   "source": [
    "xgb.fit(nsx_train,nsy_train)\n",
    "xgb_pred = xgb.predict(nsx_test)\n",
    "xgb_pred"
   ]
  },
  {
   "cell_type": "code",
   "execution_count": 115,
   "id": "4d6f346a",
   "metadata": {},
   "outputs": [
    {
     "data": {
      "text/plain": [
       "(94.21299104651445,\n",
       " array([[40732,  4251],\n",
       "        [  519, 36924]], dtype=int64))"
      ]
     },
     "execution_count": 115,
     "metadata": {},
     "output_type": "execute_result"
    }
   ],
   "source": [
    "fs_xgb_cm = confusion_matrix(xgb_pred,nsy_test)\n",
    "fs_xgb_acc=fs_xgb_cm.diagonal().sum()/fs_xgb_cm.sum()*100\n",
    "fs_xgb_acc,fs_xgb_cm"
   ]
  },
  {
   "cell_type": "code",
   "execution_count": 116,
   "id": "94d9c18b",
   "metadata": {},
   "outputs": [
    {
     "name": "stdout",
     "output_type": "stream",
     "text": [
      "              precision    recall  f1-score   support\n",
      "\n",
      "           0       0.99      0.91      0.94     44983\n",
      "           1       0.90      0.99      0.94     37443\n",
      "\n",
      "    accuracy                           0.94     82426\n",
      "   macro avg       0.94      0.95      0.94     82426\n",
      "weighted avg       0.95      0.94      0.94     82426\n",
      "\n"
     ]
    }
   ],
   "source": [
    "print(classification_report(xgb_pred,nsy_test))"
   ]
  },
  {
   "cell_type": "code",
   "execution_count": 117,
   "id": "49ebd3a0",
   "metadata": {},
   "outputs": [
    {
     "data": {
      "text/plain": [
       "(0.9861389311753865, 0.8967577413479053, 0.939326871708769)"
      ]
     },
     "execution_count": 117,
     "metadata": {},
     "output_type": "execute_result"
    }
   ],
   "source": [
    "fs_xgb_pre_score= precision_score(nsy_test,xgb_pred)\n",
    "fs_xgb_re_score= recall_score(nsy_test,xgb_pred)\n",
    "fs_xgb_f1_score= f1_score(nsy_test,xgb_pred)\n",
    "fs_xgb_pre_score,fs_xgb_re_score,fs_xgb_f1_score"
   ]
  },
  {
   "cell_type": "markdown",
   "id": "9b521f06",
   "metadata": {},
   "source": [
    "# 5.KNN"
   ]
  },
  {
   "cell_type": "code",
   "execution_count": 118,
   "id": "065d9083",
   "metadata": {},
   "outputs": [
    {
     "data": {
      "text/plain": [
       "array([1., 1., 1., ..., 1., 1., 0.])"
      ]
     },
     "execution_count": 118,
     "metadata": {},
     "output_type": "execute_result"
    }
   ],
   "source": [
    "knn.fit(nsx_train,nsy_train)\n",
    "knn_pred = knn.predict(nsx_test)\n",
    "knn_pred"
   ]
  },
  {
   "cell_type": "code",
   "execution_count": 119,
   "id": "549a1f94",
   "metadata": {},
   "outputs": [
    {
     "data": {
      "text/plain": [
       "(81.07757261058404,\n",
       " array([[26784,  1130],\n",
       "        [14467, 40045]], dtype=int64))"
      ]
     },
     "execution_count": 119,
     "metadata": {},
     "output_type": "execute_result"
    }
   ],
   "source": [
    "fs_knn_cm = confusion_matrix(knn_pred,nsy_test)\n",
    "fs_knn_acc=fs_knn_cm.diagonal().sum()/fs_knn_cm.sum()*100\n",
    "fs_knn_acc,fs_knn_cm"
   ]
  },
  {
   "cell_type": "code",
   "execution_count": 120,
   "id": "ab126f00",
   "metadata": {},
   "outputs": [
    {
     "name": "stdout",
     "output_type": "stream",
     "text": [
      "              precision    recall  f1-score   support\n",
      "\n",
      "         0.0       0.65      0.96      0.77     27914\n",
      "         1.0       0.97      0.73      0.84     54512\n",
      "\n",
      "    accuracy                           0.81     82426\n",
      "   macro avg       0.81      0.85      0.81     82426\n",
      "weighted avg       0.86      0.81      0.82     82426\n",
      "\n"
     ]
    }
   ],
   "source": [
    "print(classification_report(knn_pred,nsy_test))"
   ]
  },
  {
   "cell_type": "code",
   "execution_count": 121,
   "id": "8dfdc51d",
   "metadata": {},
   "outputs": [
    {
     "data": {
      "text/plain": [
       "(0.7346088934546522, 0.9725561627200972, 0.8369998014359317)"
      ]
     },
     "execution_count": 121,
     "metadata": {},
     "output_type": "execute_result"
    }
   ],
   "source": [
    "fs_knn_pre_score= precision_score(nsy_test,knn_pred)\n",
    "fs_knn_re_score= recall_score(nsy_test,knn_pred)\n",
    "fs_knn_f1_score= f1_score(nsy_test,knn_pred)\n",
    "fs_knn_pre_score,fs_knn_re_score,fs_knn_f1_score"
   ]
  },
  {
   "cell_type": "markdown",
   "id": "5181cffb",
   "metadata": {},
   "source": [
    "# 6. NB"
   ]
  },
  {
   "cell_type": "code",
   "execution_count": 122,
   "id": "41244570",
   "metadata": {},
   "outputs": [
    {
     "data": {
      "text/plain": [
       "array([0., 0., 0., ..., 1., 0., 0.])"
      ]
     },
     "execution_count": 122,
     "metadata": {},
     "output_type": "execute_result"
    }
   ],
   "source": [
    "nb.fit(nsx_train,nsy_train)\n",
    "nb_pred = nb.predict(nsx_test)\n",
    "nb_pred"
   ]
  },
  {
   "cell_type": "code",
   "execution_count": 123,
   "id": "3c988be7",
   "metadata": {},
   "outputs": [
    {
     "data": {
      "text/plain": [
       "(62.28374542013443,\n",
       " array([[33437, 23274],\n",
       "        [ 7814, 17901]], dtype=int64))"
      ]
     },
     "execution_count": 123,
     "metadata": {},
     "output_type": "execute_result"
    }
   ],
   "source": [
    "fs_nb_cm = confusion_matrix(nb_pred,nsy_test)\n",
    "fs_nb_acc=fs_nb_cm.diagonal().sum()/fs_nb_cm.sum()*100\n",
    "fs_nb_acc,fs_nb_cm"
   ]
  },
  {
   "cell_type": "code",
   "execution_count": 124,
   "id": "ca5bd1b7",
   "metadata": {},
   "outputs": [
    {
     "name": "stdout",
     "output_type": "stream",
     "text": [
      "              precision    recall  f1-score   support\n",
      "\n",
      "         0.0       0.81      0.59      0.68     56711\n",
      "         1.0       0.43      0.70      0.54     25715\n",
      "\n",
      "    accuracy                           0.62     82426\n",
      "   macro avg       0.62      0.64      0.61     82426\n",
      "weighted avg       0.69      0.62      0.64     82426\n",
      "\n"
     ]
    }
   ],
   "source": [
    "print(classification_report(nb_pred,nsy_test))"
   ]
  },
  {
   "cell_type": "code",
   "execution_count": 125,
   "id": "fe2b3997",
   "metadata": {},
   "outputs": [
    {
     "data": {
      "text/plain": [
       "(0.6961306630371379, 0.43475409836065576, 0.5352369561967408)"
      ]
     },
     "execution_count": 125,
     "metadata": {},
     "output_type": "execute_result"
    }
   ],
   "source": [
    "fs_nb_pre_score= precision_score(nsy_test,nb_pred)\n",
    "fs_nb_re_score= recall_score(nsy_test,nb_pred)\n",
    "fs_nb_f1_score= f1_score(nsy_test,nb_pred)\n",
    "fs_nb_pre_score,fs_nb_re_score,fs_nb_f1_score"
   ]
  },
  {
   "cell_type": "markdown",
   "id": "8c00f190",
   "metadata": {},
   "source": [
    "# Feature Selection DataFrame"
   ]
  },
  {
   "cell_type": "code",
   "execution_count": 126,
   "id": "1dbfaa77",
   "metadata": {},
   "outputs": [],
   "source": [
    "list18=[\"LG\",\"DT\",\"RF\",\"KNN\",\"NB\",\"XGB\"]\n",
    "list19=[fs_lg_acc,fs_dt_acc,fs_rf_acc,fs_knn_acc,fs_nb_acc,fs_xgb_acc]\n",
    "list20=[fs_lg_pre_score,fs_dt_pre_score,fs_rf_pre_score,fs_knn_pre_score,fs_nb_pre_score,fs_xgb_pre_score]\n",
    "list21=[fs_lg_re_score,fs_dt_re_score,fs_rf_re_score,fs_knn_re_score,fs_nb_re_score,fs_xgb_re_score]\n",
    "list23=[fs_lg_f1_score,fs_dt_f1_score,fs_rf_f1_score,fs_knn_f1_score,fs_nb_f1_score,fs_xgb_f1_score]"
   ]
  },
  {
   "cell_type": "code",
   "execution_count": 127,
   "id": "01af1687",
   "metadata": {},
   "outputs": [
    {
     "data": {
      "text/html": [
       "<div>\n",
       "<style scoped>\n",
       "    .dataframe tbody tr th:only-of-type {\n",
       "        vertical-align: middle;\n",
       "    }\n",
       "\n",
       "    .dataframe tbody tr th {\n",
       "        vertical-align: top;\n",
       "    }\n",
       "\n",
       "    .dataframe thead th {\n",
       "        text-align: right;\n",
       "    }\n",
       "</style>\n",
       "<table border=\"1\" class=\"dataframe\">\n",
       "  <thead>\n",
       "    <tr style=\"text-align: right;\">\n",
       "      <th></th>\n",
       "      <th>Model Name</th>\n",
       "      <th>Accuracy</th>\n",
       "      <th>Precision</th>\n",
       "      <th>Recall</th>\n",
       "      <th>F1-Score</th>\n",
       "    </tr>\n",
       "  </thead>\n",
       "  <tbody>\n",
       "    <tr>\n",
       "      <th>0</th>\n",
       "      <td>LG</td>\n",
       "      <td>77.110378</td>\n",
       "      <td>0.759022</td>\n",
       "      <td>0.793807</td>\n",
       "      <td>0.776025</td>\n",
       "    </tr>\n",
       "    <tr>\n",
       "      <th>1</th>\n",
       "      <td>DT</td>\n",
       "      <td>90.624318</td>\n",
       "      <td>0.900707</td>\n",
       "      <td>0.912957</td>\n",
       "      <td>0.906790</td>\n",
       "    </tr>\n",
       "    <tr>\n",
       "      <th>2</th>\n",
       "      <td>RF</td>\n",
       "      <td>94.006745</td>\n",
       "      <td>0.972462</td>\n",
       "      <td>0.905671</td>\n",
       "      <td>0.937879</td>\n",
       "    </tr>\n",
       "    <tr>\n",
       "      <th>3</th>\n",
       "      <td>KNN</td>\n",
       "      <td>81.077573</td>\n",
       "      <td>0.734609</td>\n",
       "      <td>0.972556</td>\n",
       "      <td>0.837000</td>\n",
       "    </tr>\n",
       "    <tr>\n",
       "      <th>4</th>\n",
       "      <td>NB</td>\n",
       "      <td>62.283745</td>\n",
       "      <td>0.696131</td>\n",
       "      <td>0.434754</td>\n",
       "      <td>0.535237</td>\n",
       "    </tr>\n",
       "    <tr>\n",
       "      <th>5</th>\n",
       "      <td>XGB</td>\n",
       "      <td>94.212991</td>\n",
       "      <td>0.986139</td>\n",
       "      <td>0.896758</td>\n",
       "      <td>0.939327</td>\n",
       "    </tr>\n",
       "  </tbody>\n",
       "</table>\n",
       "</div>"
      ],
      "text/plain": [
       "  Model Name   Accuracy  Precision    Recall  F1-Score\n",
       "0         LG  77.110378   0.759022  0.793807  0.776025\n",
       "1         DT  90.624318   0.900707  0.912957  0.906790\n",
       "2         RF  94.006745   0.972462  0.905671  0.937879\n",
       "3        KNN  81.077573   0.734609  0.972556  0.837000\n",
       "4         NB  62.283745   0.696131  0.434754  0.535237\n",
       "5        XGB  94.212991   0.986139  0.896758  0.939327"
      ]
     },
     "execution_count": 127,
     "metadata": {},
     "output_type": "execute_result"
    }
   ],
   "source": [
    "FINAL66= pd.DataFrame({\"Model Name\":list18,\"Accuracy\":list19,\"Precision\":list20,\"Recall\":list21,\"F1-Score\":list23})\n",
    "FINAL66"
   ]
  },
  {
   "cell_type": "markdown",
   "id": "844d1053",
   "metadata": {},
   "source": [
    "# FINAL MODEL CONCLUSION:\n",
    "Out of these models, \"XGBoost\" and \"RF\" are better after feature selection, although there isn't much of a difference after feature selection either."
   ]
  },
  {
   "cell_type": "markdown",
   "id": "5cb92a51",
   "metadata": {},
   "source": [
    "# AUC-ROC CURVE"
   ]
  },
  {
   "cell_type": "code",
   "execution_count": 128,
   "id": "b0161dba",
   "metadata": {},
   "outputs": [
    {
     "data": {
      "text/html": [
       "<div>\n",
       "<style scoped>\n",
       "    .dataframe tbody tr th:only-of-type {\n",
       "        vertical-align: middle;\n",
       "    }\n",
       "\n",
       "    .dataframe tbody tr th {\n",
       "        vertical-align: top;\n",
       "    }\n",
       "\n",
       "    .dataframe thead th {\n",
       "        text-align: right;\n",
       "    }\n",
       "</style>\n",
       "<table border=\"1\" class=\"dataframe\">\n",
       "  <thead>\n",
       "    <tr style=\"text-align: right;\">\n",
       "      <th></th>\n",
       "      <th>0</th>\n",
       "      <th>1</th>\n",
       "    </tr>\n",
       "  </thead>\n",
       "  <tbody>\n",
       "    <tr>\n",
       "      <th>0</th>\n",
       "      <td>8.764095e-01</td>\n",
       "      <td>0.123591</td>\n",
       "    </tr>\n",
       "    <tr>\n",
       "      <th>1</th>\n",
       "      <td>7.176399e-05</td>\n",
       "      <td>0.999928</td>\n",
       "    </tr>\n",
       "    <tr>\n",
       "      <th>2</th>\n",
       "      <td>8.583069e-06</td>\n",
       "      <td>0.999991</td>\n",
       "    </tr>\n",
       "    <tr>\n",
       "      <th>3</th>\n",
       "      <td>2.128482e-04</td>\n",
       "      <td>0.999787</td>\n",
       "    </tr>\n",
       "    <tr>\n",
       "      <th>4</th>\n",
       "      <td>9.894395e-01</td>\n",
       "      <td>0.010561</td>\n",
       "    </tr>\n",
       "    <tr>\n",
       "      <th>...</th>\n",
       "      <td>...</td>\n",
       "      <td>...</td>\n",
       "    </tr>\n",
       "    <tr>\n",
       "      <th>82421</th>\n",
       "      <td>2.384186e-07</td>\n",
       "      <td>1.000000</td>\n",
       "    </tr>\n",
       "    <tr>\n",
       "      <th>82422</th>\n",
       "      <td>8.513918e-01</td>\n",
       "      <td>0.148608</td>\n",
       "    </tr>\n",
       "    <tr>\n",
       "      <th>82423</th>\n",
       "      <td>5.958439e-01</td>\n",
       "      <td>0.404156</td>\n",
       "    </tr>\n",
       "    <tr>\n",
       "      <th>82424</th>\n",
       "      <td>5.805492e-05</td>\n",
       "      <td>0.999942</td>\n",
       "    </tr>\n",
       "    <tr>\n",
       "      <th>82425</th>\n",
       "      <td>8.155357e-01</td>\n",
       "      <td>0.184464</td>\n",
       "    </tr>\n",
       "  </tbody>\n",
       "</table>\n",
       "<p>82426 rows × 2 columns</p>\n",
       "</div>"
      ],
      "text/plain": [
       "                  0         1\n",
       "0      8.764095e-01  0.123591\n",
       "1      7.176399e-05  0.999928\n",
       "2      8.583069e-06  0.999991\n",
       "3      2.128482e-04  0.999787\n",
       "4      9.894395e-01  0.010561\n",
       "...             ...       ...\n",
       "82421  2.384186e-07  1.000000\n",
       "82422  8.513918e-01  0.148608\n",
       "82423  5.958439e-01  0.404156\n",
       "82424  5.805492e-05  0.999942\n",
       "82425  8.155357e-01  0.184464\n",
       "\n",
       "[82426 rows x 2 columns]"
      ]
     },
     "execution_count": 128,
     "metadata": {},
     "output_type": "execute_result"
    }
   ],
   "source": [
    "prob=xgb.predict_proba(nsx_test)\n",
    "df1=pd.DataFrame(prob)\n",
    "df1"
   ]
  },
  {
   "cell_type": "code",
   "execution_count": 129,
   "id": "87e661b6",
   "metadata": {},
   "outputs": [
    {
     "data": {
      "text/plain": [
       "0.9458182818071539"
      ]
     },
     "execution_count": 129,
     "metadata": {},
     "output_type": "execute_result"
    }
   ],
   "source": [
    "from sklearn.metrics import roc_auc_score\n",
    "from sklearn.metrics import roc_curve\n",
    "score=roc_auc_score(xgb_pred,nsy_test)\n",
    "score"
   ]
  },
  {
   "cell_type": "code",
   "execution_count": 130,
   "id": "c4cb7729",
   "metadata": {},
   "outputs": [
    {
     "data": {
      "image/png": "[encoded data removed]",
      "text/plain": [
       "<Figure size 640x480 with 1 Axes>"
      ]
     },
     "metadata": {},
     "output_type": "display_data"
    }
   ],
   "source": [
    "fpr,tpr,threshold=roc_curve(nsy_test,df1.iloc[:,1])\n",
    "plt.plot(fpr,tpr,color=\"blue\")\n",
    "plt.xlabel(\"Fpr\",color=\"black\")\n",
    "plt.ylabel(\"Tpr\",color=\"black\")\n",
    "plt.title(\"AUC-ROC CURVE\",color=\"Green\")\n",
    "plt.show()"
   ]
  },
  {
   "cell_type": "markdown",
   "id": "e262b116",
   "metadata": {},
   "source": [
    "# AUC_ROC CURVE CONCLUSION:\n",
    "The binary classification model performed exceptionally well at differentiating between positive and negative instances, according to a high roc auc score.\n",
    "The model is doing very well and is well suited for the classification, according to a ROC AUC score of 0.95."
   ]
  },
  {
   "cell_type": "markdown",
   "id": "ba6bd2ad",
   "metadata": {},
   "source": [
    "# COMPARISON OF ALL MODELS"
   ]
  },
  {
   "cell_type": "code",
   "execution_count": 131,
   "id": "4ad2c69b",
   "metadata": {},
   "outputs": [
    {
     "data": {
      "text/html": [
       "<div>\n",
       "<style scoped>\n",
       "    .dataframe tbody tr th:only-of-type {\n",
       "        vertical-align: middle;\n",
       "    }\n",
       "\n",
       "    .dataframe tbody tr th {\n",
       "        vertical-align: top;\n",
       "    }\n",
       "\n",
       "    .dataframe thead th {\n",
       "        text-align: right;\n",
       "    }\n",
       "</style>\n",
       "<table border=\"1\" class=\"dataframe\">\n",
       "  <thead>\n",
       "    <tr style=\"text-align: right;\">\n",
       "      <th></th>\n",
       "      <th>Model Name</th>\n",
       "      <th>Accuracy</th>\n",
       "      <th>Precision</th>\n",
       "      <th>Recall</th>\n",
       "      <th>F1-Score</th>\n",
       "    </tr>\n",
       "  </thead>\n",
       "  <tbody>\n",
       "    <tr>\n",
       "      <th>0</th>\n",
       "      <td>LG</td>\n",
       "      <td>89.712122</td>\n",
       "      <td>0.537367</td>\n",
       "      <td>0.125520</td>\n",
       "      <td>0.203504</td>\n",
       "    </tr>\n",
       "    <tr>\n",
       "      <th>1</th>\n",
       "      <td>DT</td>\n",
       "      <td>83.321366</td>\n",
       "      <td>0.241903</td>\n",
       "      <td>0.277847</td>\n",
       "      <td>0.258632</td>\n",
       "    </tr>\n",
       "    <tr>\n",
       "      <th>2</th>\n",
       "      <td>RF</td>\n",
       "      <td>88.898318</td>\n",
       "      <td>0.387072</td>\n",
       "      <td>0.277847</td>\n",
       "      <td>0.163058</td>\n",
       "    </tr>\n",
       "    <tr>\n",
       "      <th>3</th>\n",
       "      <td>KNN</td>\n",
       "      <td>89.492352</td>\n",
       "      <td>0.478589</td>\n",
       "      <td>0.103283</td>\n",
       "      <td>0.072951</td>\n",
       "    </tr>\n",
       "    <tr>\n",
       "      <th>4</th>\n",
       "      <td>NB</td>\n",
       "      <td>80.135779</td>\n",
       "      <td>0.232163</td>\n",
       "      <td>0.388820</td>\n",
       "      <td>0.290731</td>\n",
       "    </tr>\n",
       "    <tr>\n",
       "      <th>5</th>\n",
       "      <td>XGB</td>\n",
       "      <td>89.731706</td>\n",
       "      <td>0.546269</td>\n",
       "      <td>0.114090</td>\n",
       "      <td>0.188757</td>\n",
       "    </tr>\n",
       "  </tbody>\n",
       "</table>\n",
       "</div>"
      ],
      "text/plain": [
       "  Model Name   Accuracy  Precision    Recall  F1-Score\n",
       "0         LG  89.712122   0.537367  0.125520  0.203504\n",
       "1         DT  83.321366   0.241903  0.277847  0.258632\n",
       "2         RF  88.898318   0.387072  0.277847  0.163058\n",
       "3        KNN  89.492352   0.478589  0.103283  0.072951\n",
       "4         NB  80.135779   0.232163  0.388820  0.290731\n",
       "5        XGB  89.731706   0.546269  0.114090  0.188757"
      ]
     },
     "metadata": {},
     "output_type": "display_data"
    },
    {
     "data": {
      "text/html": [
       "<div>\n",
       "<style scoped>\n",
       "    .dataframe tbody tr th:only-of-type {\n",
       "        vertical-align: middle;\n",
       "    }\n",
       "\n",
       "    .dataframe tbody tr th {\n",
       "        vertical-align: top;\n",
       "    }\n",
       "\n",
       "    .dataframe thead th {\n",
       "        text-align: right;\n",
       "    }\n",
       "</style>\n",
       "<table border=\"1\" class=\"dataframe\">\n",
       "  <thead>\n",
       "    <tr style=\"text-align: right;\">\n",
       "      <th></th>\n",
       "      <th>Model Name</th>\n",
       "      <th>Accuracy</th>\n",
       "      <th>Precision</th>\n",
       "      <th>Recall</th>\n",
       "      <th>F1-Score</th>\n",
       "    </tr>\n",
       "  </thead>\n",
       "  <tbody>\n",
       "    <tr>\n",
       "      <th>0</th>\n",
       "      <td>LG</td>\n",
       "      <td>76.490428</td>\n",
       "      <td>0.748525</td>\n",
       "      <td>0.796186</td>\n",
       "      <td>0.771621</td>\n",
       "    </tr>\n",
       "    <tr>\n",
       "      <th>1</th>\n",
       "      <td>DT</td>\n",
       "      <td>90.395021</td>\n",
       "      <td>0.895179</td>\n",
       "      <td>0.914534</td>\n",
       "      <td>0.904753</td>\n",
       "    </tr>\n",
       "    <tr>\n",
       "      <th>2</th>\n",
       "      <td>RF</td>\n",
       "      <td>94.075898</td>\n",
       "      <td>0.972756</td>\n",
       "      <td>0.906630</td>\n",
       "      <td>0.938530</td>\n",
       "    </tr>\n",
       "    <tr>\n",
       "      <th>3</th>\n",
       "      <td>KNN</td>\n",
       "      <td>80.472181</td>\n",
       "      <td>0.726951</td>\n",
       "      <td>0.974584</td>\n",
       "      <td>0.832748</td>\n",
       "    </tr>\n",
       "    <tr>\n",
       "      <th>4</th>\n",
       "      <td>NB</td>\n",
       "      <td>62.255842</td>\n",
       "      <td>0.694053</td>\n",
       "      <td>0.435159</td>\n",
       "      <td>0.534928</td>\n",
       "    </tr>\n",
       "    <tr>\n",
       "      <th>5</th>\n",
       "      <td>XGB</td>\n",
       "      <td>94.296702</td>\n",
       "      <td>0.985909</td>\n",
       "      <td>0.898507</td>\n",
       "      <td>0.940181</td>\n",
       "    </tr>\n",
       "  </tbody>\n",
       "</table>\n",
       "</div>"
      ],
      "text/plain": [
       "  Model Name   Accuracy  Precision    Recall  F1-Score\n",
       "0         LG  76.490428   0.748525  0.796186  0.771621\n",
       "1         DT  90.395021   0.895179  0.914534  0.904753\n",
       "2         RF  94.075898   0.972756  0.906630  0.938530\n",
       "3        KNN  80.472181   0.726951  0.974584  0.832748\n",
       "4         NB  62.255842   0.694053  0.435159  0.534928\n",
       "5        XGB  94.296702   0.985909  0.898507  0.940181"
      ]
     },
     "metadata": {},
     "output_type": "display_data"
    },
    {
     "data": {
      "text/html": [
       "<div>\n",
       "<style scoped>\n",
       "    .dataframe tbody tr th:only-of-type {\n",
       "        vertical-align: middle;\n",
       "    }\n",
       "\n",
       "    .dataframe tbody tr th {\n",
       "        vertical-align: top;\n",
       "    }\n",
       "\n",
       "    .dataframe thead th {\n",
       "        text-align: right;\n",
       "    }\n",
       "</style>\n",
       "<table border=\"1\" class=\"dataframe\">\n",
       "  <thead>\n",
       "    <tr style=\"text-align: right;\">\n",
       "      <th></th>\n",
       "      <th>Model Name</th>\n",
       "      <th>Accuracy</th>\n",
       "      <th>Precision</th>\n",
       "      <th>Recall</th>\n",
       "      <th>F1-Score</th>\n",
       "    </tr>\n",
       "  </thead>\n",
       "  <tbody>\n",
       "    <tr>\n",
       "      <th>0</th>\n",
       "      <td>LG</td>\n",
       "      <td>77.110378</td>\n",
       "      <td>0.759022</td>\n",
       "      <td>0.793807</td>\n",
       "      <td>0.776025</td>\n",
       "    </tr>\n",
       "    <tr>\n",
       "      <th>1</th>\n",
       "      <td>DT</td>\n",
       "      <td>90.624318</td>\n",
       "      <td>0.900707</td>\n",
       "      <td>0.912957</td>\n",
       "      <td>0.906790</td>\n",
       "    </tr>\n",
       "    <tr>\n",
       "      <th>2</th>\n",
       "      <td>RF</td>\n",
       "      <td>94.006745</td>\n",
       "      <td>0.972462</td>\n",
       "      <td>0.905671</td>\n",
       "      <td>0.937879</td>\n",
       "    </tr>\n",
       "    <tr>\n",
       "      <th>3</th>\n",
       "      <td>KNN</td>\n",
       "      <td>81.077573</td>\n",
       "      <td>0.734609</td>\n",
       "      <td>0.972556</td>\n",
       "      <td>0.837000</td>\n",
       "    </tr>\n",
       "    <tr>\n",
       "      <th>4</th>\n",
       "      <td>NB</td>\n",
       "      <td>62.283745</td>\n",
       "      <td>0.696131</td>\n",
       "      <td>0.434754</td>\n",
       "      <td>0.535237</td>\n",
       "    </tr>\n",
       "    <tr>\n",
       "      <th>5</th>\n",
       "      <td>XGB</td>\n",
       "      <td>94.212991</td>\n",
       "      <td>0.986139</td>\n",
       "      <td>0.896758</td>\n",
       "      <td>0.939327</td>\n",
       "    </tr>\n",
       "  </tbody>\n",
       "</table>\n",
       "</div>"
      ],
      "text/plain": [
       "  Model Name   Accuracy  Precision    Recall  F1-Score\n",
       "0         LG  77.110378   0.759022  0.793807  0.776025\n",
       "1         DT  90.624318   0.900707  0.912957  0.906790\n",
       "2         RF  94.006745   0.972462  0.905671  0.937879\n",
       "3        KNN  81.077573   0.734609  0.972556  0.837000\n",
       "4         NB  62.283745   0.696131  0.434754  0.535237\n",
       "5        XGB  94.212991   0.986139  0.896758  0.939327"
      ]
     },
     "metadata": {},
     "output_type": "display_data"
    }
   ],
   "source": [
    "display(BaseModels,Finall,FINAL66)"
   ]
  },
  {
   "cell_type": "markdown",
   "id": "4924ff8e",
   "metadata": {},
   "source": [
    "# CROSS VALIDATION"
   ]
  },
  {
   "cell_type": "code",
   "execution_count": 132,
   "id": "0d3b326a",
   "metadata": {},
   "outputs": [],
   "source": [
    "from sklearn.model_selection import cross_val_score,KFold\n",
    "from sklearn.metrics import  accuracy_score,make_scorer\n",
    "import xgboost as xgb"
   ]
  },
  {
   "cell_type": "code",
   "execution_count": 133,
   "id": "4c8eba28",
   "metadata": {},
   "outputs": [],
   "source": [
    "model=xgb.XGBClassifier()\n",
    "num_folds=5\n",
    "kf=KFold(n_splits=num_folds)\n",
    "scores=cross_val_score(model,newx,y_smote,cv=kf,scoring=\"accuracy\")"
   ]
  },
  {
   "cell_type": "code",
   "execution_count": 134,
   "id": "b19de63c",
   "metadata": {},
   "outputs": [
    {
     "name": "stdout",
     "output_type": "stream",
     "text": [
      "Fold1:Accuracy=0.90\n",
      "Fold2:Accuracy=0.90\n",
      "Fold3:Accuracy=0.92\n",
      "Fold4:Accuracy=1.00\n",
      "Fold5:Accuracy=1.00\n"
     ]
    }
   ],
   "source": [
    "for fold,score in enumerate(scores):\n",
    "    print(f\"Fold{fold+1}:Accuracy={score:.2f}\")"
   ]
  },
  {
   "cell_type": "code",
   "execution_count": 135,
   "id": "d1b073f6",
   "metadata": {},
   "outputs": [
    {
     "name": "stdout",
     "output_type": "stream",
     "text": [
      "Mean Accuracy=0.94\n"
     ]
    }
   ],
   "source": [
    "print(f\"Mean Accuracy={scores.mean():.2f}\")"
   ]
  },
  {
   "cell_type": "code",
   "execution_count": 136,
   "id": "bc9ab54b",
   "metadata": {},
   "outputs": [],
   "source": [
    "from sklearn.model_selection import cross_val_predict\n",
    "predicted_labels=cross_val_predict(model,newx,y_smote,cv=5)"
   ]
  },
  {
   "cell_type": "code",
   "execution_count": 137,
   "id": "7ab64f81",
   "metadata": {},
   "outputs": [],
   "source": [
    "precision=precision_score(y_smote,predicted_labels)\n",
    "recall=recall_score(y_smote,predicted_labels)\n",
    "f1=f1_score(y_smote,predicted_labels)\n",
    "accuracy=accuracy_score(y_smote,predicted_labels)"
   ]
  },
  {
   "cell_type": "code",
   "execution_count": 138,
   "id": "c44149fc",
   "metadata": {},
   "outputs": [],
   "source": [
    "l1=[accuracy]\n",
    "l2=[precision]\n",
    "l3=[recall]\n",
    "l4=[f1]"
   ]
  },
  {
   "cell_type": "code",
   "execution_count": 139,
   "id": "8cb3cd9b",
   "metadata": {},
   "outputs": [
    {
     "name": "stdout",
     "output_type": "stream",
     "text": [
      "Precision: 0.98\n",
      "Recall: 0.88\n",
      "F1-score: 0.93\n"
     ]
    }
   ],
   "source": [
    "print(f\"Precision: {precision:.2f}\")\n",
    "print(f\"Recall: {recall:.2f}\")\n",
    "print(f\"F1-score: {f1:.2f}\")"
   ]
  },
  {
   "cell_type": "code",
   "execution_count": 140,
   "id": "f65d7e37",
   "metadata": {
    "scrolled": true
   },
   "outputs": [
    {
     "data": {
      "text/html": [
       "<div>\n",
       "<style scoped>\n",
       "    .dataframe tbody tr th:only-of-type {\n",
       "        vertical-align: middle;\n",
       "    }\n",
       "\n",
       "    .dataframe tbody tr th {\n",
       "        vertical-align: top;\n",
       "    }\n",
       "\n",
       "    .dataframe thead th {\n",
       "        text-align: right;\n",
       "    }\n",
       "</style>\n",
       "<table border=\"1\" class=\"dataframe\">\n",
       "  <thead>\n",
       "    <tr style=\"text-align: right;\">\n",
       "      <th></th>\n",
       "      <th>ModelName</th>\n",
       "      <th>Accuracy</th>\n",
       "      <th>Precision</th>\n",
       "      <th>Recall</th>\n",
       "      <th>F1-score</th>\n",
       "    </tr>\n",
       "  </thead>\n",
       "  <tbody>\n",
       "    <tr>\n",
       "      <th>0</th>\n",
       "      <td>KFold</td>\n",
       "      <td>0.933877</td>\n",
       "      <td>0.98227</td>\n",
       "      <td>0.883706</td>\n",
       "      <td>0.930385</td>\n",
       "    </tr>\n",
       "  </tbody>\n",
       "</table>\n",
       "</div>"
      ],
      "text/plain": [
       "  ModelName  Accuracy  Precision    Recall  F1-score\n",
       "0     KFold  0.933877    0.98227  0.883706  0.930385"
      ]
     },
     "execution_count": 140,
     "metadata": {},
     "output_type": "execute_result"
    }
   ],
   "source": [
    "cross_val=pd.DataFrame({\"ModelName\":\"KFold\",\"Accuracy\":l1,\"Precision\":l2,\"Recall\":l3,\"F1-score\":l4})\n",
    "cross_val "
   ]
  },
  {
   "cell_type": "markdown",
   "id": "456e80c3",
   "metadata": {},
   "source": [
    "# CONCLUSION:\n",
    "The accuracy, precision, recall, and f1score are good following this cross validation. We can draw the conclusion that the model is dependable and accurate at producing predictions, and it is probably a solid option for dealing with the issue."
   ]
  },
  {
   "cell_type": "code",
   "execution_count": null,
   "id": "825e9f16",
   "metadata": {},
   "outputs": [],
   "source": []
  },
  {
   "cell_type": "code",
   "execution_count": null,
   "id": "77f66c47",
   "metadata": {},
   "outputs": [],
   "source": []
  }
 ],
 "metadata": {
  "kernelspec": {
   "display_name": "Python 3 (ipykernel)",
   "language": "python",
   "name": "python3"
  },
  "language_info": {
   "codemirror_mode": {
    "name": "ipython",
    "version": 3
   },
   "file_extension": ".py",
   "mimetype": "text/x-python",
   "name": "python",
   "nbconvert_exporter": "python",
   "pygments_lexer": "ipython3",
   "version": "3.10.9"
  }
 },
 "nbformat": 4,
 "nbformat_minor": 5
}
