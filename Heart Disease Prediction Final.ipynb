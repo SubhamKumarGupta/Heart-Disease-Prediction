{
 "cells": [
  {
   "cell_type": "code",
   "execution_count": 1,
   "id": "9dd1e5c3",
   "metadata": {},
   "outputs": [],
   "source": [
    "import numpy as np\n",
    "import pandas as pd\n",
    "import matplotlib.pyplot as plt\n",
    "import seaborn as sns\n",
    "from sklearn.preprocessing import LabelEncoder\n",
    "le=LabelEncoder()\n",
    "import math\n",
    "import warnings\n",
    "warnings.filterwarnings('ignore')\n",
    "import sklearn\n",
    "from sklearn.model_selection import train_test_split\n",
    "from sklearn.metrics import confusion_matrix\n",
    "from sklearn.metrics import classification_report\n",
    "from sklearn.metrics import precision_score, recall_score, f1_score\n",
    "from sklearn.linear_model import LogisticRegression\n",
    "lg = LogisticRegression()\n",
    "from sklearn.tree import DecisionTreeClassifier\n",
    "dt=DecisionTreeClassifier()\n",
    "from sklearn.ensemble import RandomForestClassifier\n",
    "rf = RandomForestClassifier()\n",
    "from sklearn.neighbors import KNeighborsClassifier\n",
    "knn=KNeighborsClassifier(n_neighbors=17)\n",
    "from sklearn.naive_bayes import MultinomialNB\n",
    "nb=MultinomialNB()\n",
    "from xgboost import XGBClassifier\n",
    "xgb=XGBClassifier()"
   ]
  },
  {
   "cell_type": "markdown",
   "id": "649d63ef",
   "metadata": {},
   "source": [
    "# Reading the Data"
   ]
  },
  {
   "cell_type": "code",
   "execution_count": 2,
   "id": "3e0c90cf",
   "metadata": {
    "scrolled": false
   },
   "outputs": [
    {
     "data": {
      "text/html": [
       "<div>\n",
       "<style scoped>\n",
       "    .dataframe tbody tr th:only-of-type {\n",
       "        vertical-align: middle;\n",
       "    }\n",
       "\n",
       "    .dataframe tbody tr th {\n",
       "        vertical-align: top;\n",
       "    }\n",
       "\n",
       "    .dataframe thead th {\n",
       "        text-align: right;\n",
       "    }\n",
       "</style>\n",
       "<table border=\"1\" class=\"dataframe\">\n",
       "  <thead>\n",
       "    <tr style=\"text-align: right;\">\n",
       "      <th></th>\n",
       "      <th>HeartDiseaseorAttack</th>\n",
       "      <th>HighBP</th>\n",
       "      <th>HighChol</th>\n",
       "      <th>CholCheck</th>\n",
       "      <th>BMI</th>\n",
       "      <th>Smoker</th>\n",
       "      <th>Stroke</th>\n",
       "      <th>Diabetes</th>\n",
       "      <th>PhysActivity</th>\n",
       "      <th>Fruits</th>\n",
       "      <th>...</th>\n",
       "      <th>AnyHealthcare</th>\n",
       "      <th>NoDocbcCost</th>\n",
       "      <th>GenHlth</th>\n",
       "      <th>MentHlth</th>\n",
       "      <th>PhysHlth</th>\n",
       "      <th>DiffWalk</th>\n",
       "      <th>Sex</th>\n",
       "      <th>Age</th>\n",
       "      <th>Education</th>\n",
       "      <th>Income</th>\n",
       "    </tr>\n",
       "  </thead>\n",
       "  <tbody>\n",
       "    <tr>\n",
       "      <th>0</th>\n",
       "      <td>0.0</td>\n",
       "      <td>1.0</td>\n",
       "      <td>1.0</td>\n",
       "      <td>1.0</td>\n",
       "      <td>40.0</td>\n",
       "      <td>1.0</td>\n",
       "      <td>0.0</td>\n",
       "      <td>0.0</td>\n",
       "      <td>0.0</td>\n",
       "      <td>0.0</td>\n",
       "      <td>...</td>\n",
       "      <td>1.0</td>\n",
       "      <td>0.0</td>\n",
       "      <td>5.0</td>\n",
       "      <td>18.0</td>\n",
       "      <td>15.0</td>\n",
       "      <td>1.0</td>\n",
       "      <td>0.0</td>\n",
       "      <td>9.0</td>\n",
       "      <td>4.0</td>\n",
       "      <td>3.0</td>\n",
       "    </tr>\n",
       "    <tr>\n",
       "      <th>1</th>\n",
       "      <td>0.0</td>\n",
       "      <td>0.0</td>\n",
       "      <td>0.0</td>\n",
       "      <td>0.0</td>\n",
       "      <td>25.0</td>\n",
       "      <td>1.0</td>\n",
       "      <td>0.0</td>\n",
       "      <td>0.0</td>\n",
       "      <td>1.0</td>\n",
       "      <td>0.0</td>\n",
       "      <td>...</td>\n",
       "      <td>0.0</td>\n",
       "      <td>1.0</td>\n",
       "      <td>3.0</td>\n",
       "      <td>0.0</td>\n",
       "      <td>0.0</td>\n",
       "      <td>0.0</td>\n",
       "      <td>0.0</td>\n",
       "      <td>7.0</td>\n",
       "      <td>6.0</td>\n",
       "      <td>1.0</td>\n",
       "    </tr>\n",
       "    <tr>\n",
       "      <th>2</th>\n",
       "      <td>0.0</td>\n",
       "      <td>1.0</td>\n",
       "      <td>1.0</td>\n",
       "      <td>1.0</td>\n",
       "      <td>28.0</td>\n",
       "      <td>0.0</td>\n",
       "      <td>0.0</td>\n",
       "      <td>0.0</td>\n",
       "      <td>0.0</td>\n",
       "      <td>1.0</td>\n",
       "      <td>...</td>\n",
       "      <td>1.0</td>\n",
       "      <td>1.0</td>\n",
       "      <td>5.0</td>\n",
       "      <td>30.0</td>\n",
       "      <td>30.0</td>\n",
       "      <td>1.0</td>\n",
       "      <td>0.0</td>\n",
       "      <td>9.0</td>\n",
       "      <td>4.0</td>\n",
       "      <td>8.0</td>\n",
       "    </tr>\n",
       "    <tr>\n",
       "      <th>3</th>\n",
       "      <td>0.0</td>\n",
       "      <td>1.0</td>\n",
       "      <td>0.0</td>\n",
       "      <td>1.0</td>\n",
       "      <td>27.0</td>\n",
       "      <td>0.0</td>\n",
       "      <td>0.0</td>\n",
       "      <td>0.0</td>\n",
       "      <td>1.0</td>\n",
       "      <td>1.0</td>\n",
       "      <td>...</td>\n",
       "      <td>1.0</td>\n",
       "      <td>0.0</td>\n",
       "      <td>2.0</td>\n",
       "      <td>0.0</td>\n",
       "      <td>0.0</td>\n",
       "      <td>0.0</td>\n",
       "      <td>0.0</td>\n",
       "      <td>11.0</td>\n",
       "      <td>3.0</td>\n",
       "      <td>6.0</td>\n",
       "    </tr>\n",
       "    <tr>\n",
       "      <th>4</th>\n",
       "      <td>0.0</td>\n",
       "      <td>1.0</td>\n",
       "      <td>1.0</td>\n",
       "      <td>1.0</td>\n",
       "      <td>24.0</td>\n",
       "      <td>0.0</td>\n",
       "      <td>0.0</td>\n",
       "      <td>0.0</td>\n",
       "      <td>1.0</td>\n",
       "      <td>1.0</td>\n",
       "      <td>...</td>\n",
       "      <td>1.0</td>\n",
       "      <td>0.0</td>\n",
       "      <td>2.0</td>\n",
       "      <td>3.0</td>\n",
       "      <td>0.0</td>\n",
       "      <td>0.0</td>\n",
       "      <td>0.0</td>\n",
       "      <td>11.0</td>\n",
       "      <td>5.0</td>\n",
       "      <td>4.0</td>\n",
       "    </tr>\n",
       "    <tr>\n",
       "      <th>...</th>\n",
       "      <td>...</td>\n",
       "      <td>...</td>\n",
       "      <td>...</td>\n",
       "      <td>...</td>\n",
       "      <td>...</td>\n",
       "      <td>...</td>\n",
       "      <td>...</td>\n",
       "      <td>...</td>\n",
       "      <td>...</td>\n",
       "      <td>...</td>\n",
       "      <td>...</td>\n",
       "      <td>...</td>\n",
       "      <td>...</td>\n",
       "      <td>...</td>\n",
       "      <td>...</td>\n",
       "      <td>...</td>\n",
       "      <td>...</td>\n",
       "      <td>...</td>\n",
       "      <td>...</td>\n",
       "      <td>...</td>\n",
       "      <td>...</td>\n",
       "    </tr>\n",
       "    <tr>\n",
       "      <th>253675</th>\n",
       "      <td>0.0</td>\n",
       "      <td>1.0</td>\n",
       "      <td>1.0</td>\n",
       "      <td>1.0</td>\n",
       "      <td>45.0</td>\n",
       "      <td>0.0</td>\n",
       "      <td>0.0</td>\n",
       "      <td>0.0</td>\n",
       "      <td>0.0</td>\n",
       "      <td>1.0</td>\n",
       "      <td>...</td>\n",
       "      <td>1.0</td>\n",
       "      <td>0.0</td>\n",
       "      <td>3.0</td>\n",
       "      <td>0.0</td>\n",
       "      <td>5.0</td>\n",
       "      <td>0.0</td>\n",
       "      <td>1.0</td>\n",
       "      <td>5.0</td>\n",
       "      <td>6.0</td>\n",
       "      <td>7.0</td>\n",
       "    </tr>\n",
       "    <tr>\n",
       "      <th>253676</th>\n",
       "      <td>0.0</td>\n",
       "      <td>1.0</td>\n",
       "      <td>1.0</td>\n",
       "      <td>1.0</td>\n",
       "      <td>18.0</td>\n",
       "      <td>0.0</td>\n",
       "      <td>0.0</td>\n",
       "      <td>2.0</td>\n",
       "      <td>0.0</td>\n",
       "      <td>0.0</td>\n",
       "      <td>...</td>\n",
       "      <td>1.0</td>\n",
       "      <td>0.0</td>\n",
       "      <td>4.0</td>\n",
       "      <td>0.0</td>\n",
       "      <td>0.0</td>\n",
       "      <td>1.0</td>\n",
       "      <td>0.0</td>\n",
       "      <td>11.0</td>\n",
       "      <td>2.0</td>\n",
       "      <td>4.0</td>\n",
       "    </tr>\n",
       "    <tr>\n",
       "      <th>253677</th>\n",
       "      <td>0.0</td>\n",
       "      <td>0.0</td>\n",
       "      <td>0.0</td>\n",
       "      <td>1.0</td>\n",
       "      <td>28.0</td>\n",
       "      <td>0.0</td>\n",
       "      <td>0.0</td>\n",
       "      <td>0.0</td>\n",
       "      <td>1.0</td>\n",
       "      <td>1.0</td>\n",
       "      <td>...</td>\n",
       "      <td>1.0</td>\n",
       "      <td>0.0</td>\n",
       "      <td>1.0</td>\n",
       "      <td>0.0</td>\n",
       "      <td>0.0</td>\n",
       "      <td>0.0</td>\n",
       "      <td>0.0</td>\n",
       "      <td>2.0</td>\n",
       "      <td>5.0</td>\n",
       "      <td>2.0</td>\n",
       "    </tr>\n",
       "    <tr>\n",
       "      <th>253678</th>\n",
       "      <td>0.0</td>\n",
       "      <td>1.0</td>\n",
       "      <td>0.0</td>\n",
       "      <td>1.0</td>\n",
       "      <td>23.0</td>\n",
       "      <td>0.0</td>\n",
       "      <td>0.0</td>\n",
       "      <td>0.0</td>\n",
       "      <td>0.0</td>\n",
       "      <td>1.0</td>\n",
       "      <td>...</td>\n",
       "      <td>1.0</td>\n",
       "      <td>0.0</td>\n",
       "      <td>3.0</td>\n",
       "      <td>0.0</td>\n",
       "      <td>0.0</td>\n",
       "      <td>0.0</td>\n",
       "      <td>1.0</td>\n",
       "      <td>7.0</td>\n",
       "      <td>5.0</td>\n",
       "      <td>1.0</td>\n",
       "    </tr>\n",
       "    <tr>\n",
       "      <th>253679</th>\n",
       "      <td>1.0</td>\n",
       "      <td>1.0</td>\n",
       "      <td>1.0</td>\n",
       "      <td>1.0</td>\n",
       "      <td>25.0</td>\n",
       "      <td>0.0</td>\n",
       "      <td>0.0</td>\n",
       "      <td>2.0</td>\n",
       "      <td>1.0</td>\n",
       "      <td>1.0</td>\n",
       "      <td>...</td>\n",
       "      <td>1.0</td>\n",
       "      <td>0.0</td>\n",
       "      <td>2.0</td>\n",
       "      <td>0.0</td>\n",
       "      <td>0.0</td>\n",
       "      <td>0.0</td>\n",
       "      <td>0.0</td>\n",
       "      <td>9.0</td>\n",
       "      <td>6.0</td>\n",
       "      <td>2.0</td>\n",
       "    </tr>\n",
       "  </tbody>\n",
       "</table>\n",
       "<p>253680 rows × 22 columns</p>\n",
       "</div>"
      ],
      "text/plain": [
       "        HeartDiseaseorAttack  HighBP  HighChol  CholCheck   BMI  Smoker  \\\n",
       "0                        0.0     1.0       1.0        1.0  40.0     1.0   \n",
       "1                        0.0     0.0       0.0        0.0  25.0     1.0   \n",
       "2                        0.0     1.0       1.0        1.0  28.0     0.0   \n",
       "3                        0.0     1.0       0.0        1.0  27.0     0.0   \n",
       "4                        0.0     1.0       1.0        1.0  24.0     0.0   \n",
       "...                      ...     ...       ...        ...   ...     ...   \n",
       "253675                   0.0     1.0       1.0        1.0  45.0     0.0   \n",
       "253676                   0.0     1.0       1.0        1.0  18.0     0.0   \n",
       "253677                   0.0     0.0       0.0        1.0  28.0     0.0   \n",
       "253678                   0.0     1.0       0.0        1.0  23.0     0.0   \n",
       "253679                   1.0     1.0       1.0        1.0  25.0     0.0   \n",
       "\n",
       "        Stroke  Diabetes  PhysActivity  Fruits  ...  AnyHealthcare  \\\n",
       "0          0.0       0.0           0.0     0.0  ...            1.0   \n",
       "1          0.0       0.0           1.0     0.0  ...            0.0   \n",
       "2          0.0       0.0           0.0     1.0  ...            1.0   \n",
       "3          0.0       0.0           1.0     1.0  ...            1.0   \n",
       "4          0.0       0.0           1.0     1.0  ...            1.0   \n",
       "...        ...       ...           ...     ...  ...            ...   \n",
       "253675     0.0       0.0           0.0     1.0  ...            1.0   \n",
       "253676     0.0       2.0           0.0     0.0  ...            1.0   \n",
       "253677     0.0       0.0           1.0     1.0  ...            1.0   \n",
       "253678     0.0       0.0           0.0     1.0  ...            1.0   \n",
       "253679     0.0       2.0           1.0     1.0  ...            1.0   \n",
       "\n",
       "        NoDocbcCost  GenHlth  MentHlth  PhysHlth  DiffWalk  Sex   Age  \\\n",
       "0               0.0      5.0      18.0      15.0       1.0  0.0   9.0   \n",
       "1               1.0      3.0       0.0       0.0       0.0  0.0   7.0   \n",
       "2               1.0      5.0      30.0      30.0       1.0  0.0   9.0   \n",
       "3               0.0      2.0       0.0       0.0       0.0  0.0  11.0   \n",
       "4               0.0      2.0       3.0       0.0       0.0  0.0  11.0   \n",
       "...             ...      ...       ...       ...       ...  ...   ...   \n",
       "253675          0.0      3.0       0.0       5.0       0.0  1.0   5.0   \n",
       "253676          0.0      4.0       0.0       0.0       1.0  0.0  11.0   \n",
       "253677          0.0      1.0       0.0       0.0       0.0  0.0   2.0   \n",
       "253678          0.0      3.0       0.0       0.0       0.0  1.0   7.0   \n",
       "253679          0.0      2.0       0.0       0.0       0.0  0.0   9.0   \n",
       "\n",
       "        Education  Income  \n",
       "0             4.0     3.0  \n",
       "1             6.0     1.0  \n",
       "2             4.0     8.0  \n",
       "3             3.0     6.0  \n",
       "4             5.0     4.0  \n",
       "...           ...     ...  \n",
       "253675        6.0     7.0  \n",
       "253676        2.0     4.0  \n",
       "253677        5.0     2.0  \n",
       "253678        5.0     1.0  \n",
       "253679        6.0     2.0  \n",
       "\n",
       "[253680 rows x 22 columns]"
      ]
     },
     "execution_count": 2,
     "metadata": {},
     "output_type": "execute_result"
    }
   ],
   "source": [
    "hd = pd.read_csv(r\"E:\\DataSets\\archive1\\heart_disease_health_indicators_BRFSS2015.csv\")\n",
    "hd"
   ]
  },
  {
   "cell_type": "code",
   "execution_count": 3,
   "id": "58fa0b34",
   "metadata": {
    "scrolled": true
   },
   "outputs": [
    {
     "data": {
      "text/html": [
       "<div>\n",
       "<style scoped>\n",
       "    .dataframe tbody tr th:only-of-type {\n",
       "        vertical-align: middle;\n",
       "    }\n",
       "\n",
       "    .dataframe tbody tr th {\n",
       "        vertical-align: top;\n",
       "    }\n",
       "\n",
       "    .dataframe thead th {\n",
       "        text-align: right;\n",
       "    }\n",
       "</style>\n",
       "<table border=\"1\" class=\"dataframe\">\n",
       "  <thead>\n",
       "    <tr style=\"text-align: right;\">\n",
       "      <th></th>\n",
       "      <th>HeartDiseaseorAttack</th>\n",
       "      <th>HighBP</th>\n",
       "      <th>HighChol</th>\n",
       "      <th>CholCheck</th>\n",
       "      <th>BMI</th>\n",
       "      <th>Smoker</th>\n",
       "      <th>Stroke</th>\n",
       "      <th>Diabetes</th>\n",
       "      <th>PhysActivity</th>\n",
       "      <th>Fruits</th>\n",
       "      <th>...</th>\n",
       "      <th>AnyHealthcare</th>\n",
       "      <th>NoDocbcCost</th>\n",
       "      <th>GenHlth</th>\n",
       "      <th>MentHlth</th>\n",
       "      <th>PhysHlth</th>\n",
       "      <th>DiffWalk</th>\n",
       "      <th>Sex</th>\n",
       "      <th>Age</th>\n",
       "      <th>Education</th>\n",
       "      <th>Income</th>\n",
       "    </tr>\n",
       "  </thead>\n",
       "  <tbody>\n",
       "    <tr>\n",
       "      <th>0</th>\n",
       "      <td>0.0</td>\n",
       "      <td>1.0</td>\n",
       "      <td>1.0</td>\n",
       "      <td>1.0</td>\n",
       "      <td>40.0</td>\n",
       "      <td>1.0</td>\n",
       "      <td>0.0</td>\n",
       "      <td>0.0</td>\n",
       "      <td>0.0</td>\n",
       "      <td>0.0</td>\n",
       "      <td>...</td>\n",
       "      <td>1.0</td>\n",
       "      <td>0.0</td>\n",
       "      <td>5.0</td>\n",
       "      <td>18.0</td>\n",
       "      <td>15.0</td>\n",
       "      <td>1.0</td>\n",
       "      <td>0.0</td>\n",
       "      <td>9.0</td>\n",
       "      <td>4.0</td>\n",
       "      <td>3.0</td>\n",
       "    </tr>\n",
       "  </tbody>\n",
       "</table>\n",
       "<p>1 rows × 22 columns</p>\n",
       "</div>"
      ],
      "text/plain": [
       "   HeartDiseaseorAttack  HighBP  HighChol  CholCheck   BMI  Smoker  Stroke  \\\n",
       "0                   0.0     1.0       1.0        1.0  40.0     1.0     0.0   \n",
       "\n",
       "   Diabetes  PhysActivity  Fruits  ...  AnyHealthcare  NoDocbcCost  GenHlth  \\\n",
       "0       0.0           0.0     0.0  ...            1.0          0.0      5.0   \n",
       "\n",
       "   MentHlth  PhysHlth  DiffWalk  Sex  Age  Education  Income  \n",
       "0      18.0      15.0       1.0  0.0  9.0        4.0     3.0  \n",
       "\n",
       "[1 rows x 22 columns]"
      ]
     },
     "execution_count": 3,
     "metadata": {},
     "output_type": "execute_result"
    }
   ],
   "source": [
    "hd.head(1)"
   ]
  },
  {
   "cell_type": "code",
   "execution_count": 4,
   "id": "9aefe123",
   "metadata": {},
   "outputs": [
    {
     "data": {
      "text/plain": [
       "0.0    229787\n",
       "1.0     23893\n",
       "Name: HeartDiseaseorAttack, dtype: int64"
      ]
     },
     "execution_count": 4,
     "metadata": {},
     "output_type": "execute_result"
    }
   ],
   "source": [
    "hd.HeartDiseaseorAttack.value_counts()"
   ]
  },
  {
   "cell_type": "code",
   "execution_count": 5,
   "id": "b9709992",
   "metadata": {},
   "outputs": [
    {
     "data": {
      "text/html": [
       "<div>\n",
       "<style scoped>\n",
       "    .dataframe tbody tr th:only-of-type {\n",
       "        vertical-align: middle;\n",
       "    }\n",
       "\n",
       "    .dataframe tbody tr th {\n",
       "        vertical-align: top;\n",
       "    }\n",
       "\n",
       "    .dataframe thead th {\n",
       "        text-align: right;\n",
       "    }\n",
       "</style>\n",
       "<table border=\"1\" class=\"dataframe\">\n",
       "  <thead>\n",
       "    <tr style=\"text-align: right;\">\n",
       "      <th></th>\n",
       "      <th>HeartDiseaseorAttack</th>\n",
       "      <th>HighBP</th>\n",
       "      <th>HighChol</th>\n",
       "      <th>CholCheck</th>\n",
       "      <th>BMI</th>\n",
       "      <th>Smoker</th>\n",
       "      <th>Stroke</th>\n",
       "      <th>Diabetes</th>\n",
       "      <th>PhysActivity</th>\n",
       "      <th>Fruits</th>\n",
       "      <th>...</th>\n",
       "      <th>AnyHealthcare</th>\n",
       "      <th>NoDocbcCost</th>\n",
       "      <th>GenHlth</th>\n",
       "      <th>MentHlth</th>\n",
       "      <th>PhysHlth</th>\n",
       "      <th>DiffWalk</th>\n",
       "      <th>Sex</th>\n",
       "      <th>Age</th>\n",
       "      <th>Education</th>\n",
       "      <th>Income</th>\n",
       "    </tr>\n",
       "  </thead>\n",
       "  <tbody>\n",
       "    <tr>\n",
       "      <th>253679</th>\n",
       "      <td>1.0</td>\n",
       "      <td>1.0</td>\n",
       "      <td>1.0</td>\n",
       "      <td>1.0</td>\n",
       "      <td>25.0</td>\n",
       "      <td>0.0</td>\n",
       "      <td>0.0</td>\n",
       "      <td>2.0</td>\n",
       "      <td>1.0</td>\n",
       "      <td>1.0</td>\n",
       "      <td>...</td>\n",
       "      <td>1.0</td>\n",
       "      <td>0.0</td>\n",
       "      <td>2.0</td>\n",
       "      <td>0.0</td>\n",
       "      <td>0.0</td>\n",
       "      <td>0.0</td>\n",
       "      <td>0.0</td>\n",
       "      <td>9.0</td>\n",
       "      <td>6.0</td>\n",
       "      <td>2.0</td>\n",
       "    </tr>\n",
       "  </tbody>\n",
       "</table>\n",
       "<p>1 rows × 22 columns</p>\n",
       "</div>"
      ],
      "text/plain": [
       "        HeartDiseaseorAttack  HighBP  HighChol  CholCheck   BMI  Smoker  \\\n",
       "253679                   1.0     1.0       1.0        1.0  25.0     0.0   \n",
       "\n",
       "        Stroke  Diabetes  PhysActivity  Fruits  ...  AnyHealthcare  \\\n",
       "253679     0.0       2.0           1.0     1.0  ...            1.0   \n",
       "\n",
       "        NoDocbcCost  GenHlth  MentHlth  PhysHlth  DiffWalk  Sex  Age  \\\n",
       "253679          0.0      2.0       0.0       0.0       0.0  0.0  9.0   \n",
       "\n",
       "        Education  Income  \n",
       "253679        6.0     2.0  \n",
       "\n",
       "[1 rows x 22 columns]"
      ]
     },
     "execution_count": 5,
     "metadata": {},
     "output_type": "execute_result"
    }
   ],
   "source": [
    "hd.tail(1)"
   ]
  },
  {
   "cell_type": "code",
   "execution_count": 6,
   "id": "3a94b24c",
   "metadata": {
    "scrolled": true
   },
   "outputs": [
    {
     "data": {
      "text/plain": [
       "(253680, 22)"
      ]
     },
     "execution_count": 6,
     "metadata": {},
     "output_type": "execute_result"
    }
   ],
   "source": [
    "hd.shape"
   ]
  },
  {
   "cell_type": "code",
   "execution_count": 7,
   "id": "6702c9ab",
   "metadata": {},
   "outputs": [
    {
     "data": {
      "text/html": [
       "<div>\n",
       "<style scoped>\n",
       "    .dataframe tbody tr th:only-of-type {\n",
       "        vertical-align: middle;\n",
       "    }\n",
       "\n",
       "    .dataframe tbody tr th {\n",
       "        vertical-align: top;\n",
       "    }\n",
       "\n",
       "    .dataframe thead th {\n",
       "        text-align: right;\n",
       "    }\n",
       "</style>\n",
       "<table border=\"1\" class=\"dataframe\">\n",
       "  <thead>\n",
       "    <tr style=\"text-align: right;\">\n",
       "      <th></th>\n",
       "      <th>HeartDiseaseorAttack</th>\n",
       "      <th>HighBP</th>\n",
       "      <th>HighChol</th>\n",
       "      <th>CholCheck</th>\n",
       "      <th>BMI</th>\n",
       "      <th>Smoker</th>\n",
       "      <th>Stroke</th>\n",
       "      <th>Diabetes</th>\n",
       "      <th>PhysActivity</th>\n",
       "      <th>Fruits</th>\n",
       "      <th>...</th>\n",
       "      <th>AnyHealthcare</th>\n",
       "      <th>NoDocbcCost</th>\n",
       "      <th>GenHlth</th>\n",
       "      <th>MentHlth</th>\n",
       "      <th>PhysHlth</th>\n",
       "      <th>DiffWalk</th>\n",
       "      <th>Sex</th>\n",
       "      <th>Age</th>\n",
       "      <th>Education</th>\n",
       "      <th>Income</th>\n",
       "    </tr>\n",
       "  </thead>\n",
       "  <tbody>\n",
       "    <tr>\n",
       "      <th>count</th>\n",
       "      <td>253680.000000</td>\n",
       "      <td>253680.000000</td>\n",
       "      <td>253680.000000</td>\n",
       "      <td>253680.000000</td>\n",
       "      <td>253680.000000</td>\n",
       "      <td>253680.000000</td>\n",
       "      <td>253680.000000</td>\n",
       "      <td>253680.000000</td>\n",
       "      <td>253680.000000</td>\n",
       "      <td>253680.000000</td>\n",
       "      <td>...</td>\n",
       "      <td>253680.000000</td>\n",
       "      <td>253680.000000</td>\n",
       "      <td>253680.000000</td>\n",
       "      <td>253680.000000</td>\n",
       "      <td>253680.000000</td>\n",
       "      <td>253680.000000</td>\n",
       "      <td>253680.000000</td>\n",
       "      <td>253680.000000</td>\n",
       "      <td>253680.000000</td>\n",
       "      <td>253680.000000</td>\n",
       "    </tr>\n",
       "    <tr>\n",
       "      <th>mean</th>\n",
       "      <td>0.094186</td>\n",
       "      <td>0.429001</td>\n",
       "      <td>0.424121</td>\n",
       "      <td>0.962670</td>\n",
       "      <td>28.382364</td>\n",
       "      <td>0.443169</td>\n",
       "      <td>0.040571</td>\n",
       "      <td>0.296921</td>\n",
       "      <td>0.756544</td>\n",
       "      <td>0.634256</td>\n",
       "      <td>...</td>\n",
       "      <td>0.951053</td>\n",
       "      <td>0.084177</td>\n",
       "      <td>2.511392</td>\n",
       "      <td>3.184772</td>\n",
       "      <td>4.242081</td>\n",
       "      <td>0.168224</td>\n",
       "      <td>0.440342</td>\n",
       "      <td>8.032119</td>\n",
       "      <td>5.050434</td>\n",
       "      <td>6.053875</td>\n",
       "    </tr>\n",
       "    <tr>\n",
       "      <th>std</th>\n",
       "      <td>0.292087</td>\n",
       "      <td>0.494934</td>\n",
       "      <td>0.494210</td>\n",
       "      <td>0.189571</td>\n",
       "      <td>6.608694</td>\n",
       "      <td>0.496761</td>\n",
       "      <td>0.197294</td>\n",
       "      <td>0.698160</td>\n",
       "      <td>0.429169</td>\n",
       "      <td>0.481639</td>\n",
       "      <td>...</td>\n",
       "      <td>0.215759</td>\n",
       "      <td>0.277654</td>\n",
       "      <td>1.068477</td>\n",
       "      <td>7.412847</td>\n",
       "      <td>8.717951</td>\n",
       "      <td>0.374066</td>\n",
       "      <td>0.496429</td>\n",
       "      <td>3.054220</td>\n",
       "      <td>0.985774</td>\n",
       "      <td>2.071148</td>\n",
       "    </tr>\n",
       "    <tr>\n",
       "      <th>min</th>\n",
       "      <td>0.000000</td>\n",
       "      <td>0.000000</td>\n",
       "      <td>0.000000</td>\n",
       "      <td>0.000000</td>\n",
       "      <td>12.000000</td>\n",
       "      <td>0.000000</td>\n",
       "      <td>0.000000</td>\n",
       "      <td>0.000000</td>\n",
       "      <td>0.000000</td>\n",
       "      <td>0.000000</td>\n",
       "      <td>...</td>\n",
       "      <td>0.000000</td>\n",
       "      <td>0.000000</td>\n",
       "      <td>1.000000</td>\n",
       "      <td>0.000000</td>\n",
       "      <td>0.000000</td>\n",
       "      <td>0.000000</td>\n",
       "      <td>0.000000</td>\n",
       "      <td>1.000000</td>\n",
       "      <td>1.000000</td>\n",
       "      <td>1.000000</td>\n",
       "    </tr>\n",
       "    <tr>\n",
       "      <th>25%</th>\n",
       "      <td>0.000000</td>\n",
       "      <td>0.000000</td>\n",
       "      <td>0.000000</td>\n",
       "      <td>1.000000</td>\n",
       "      <td>24.000000</td>\n",
       "      <td>0.000000</td>\n",
       "      <td>0.000000</td>\n",
       "      <td>0.000000</td>\n",
       "      <td>1.000000</td>\n",
       "      <td>0.000000</td>\n",
       "      <td>...</td>\n",
       "      <td>1.000000</td>\n",
       "      <td>0.000000</td>\n",
       "      <td>2.000000</td>\n",
       "      <td>0.000000</td>\n",
       "      <td>0.000000</td>\n",
       "      <td>0.000000</td>\n",
       "      <td>0.000000</td>\n",
       "      <td>6.000000</td>\n",
       "      <td>4.000000</td>\n",
       "      <td>5.000000</td>\n",
       "    </tr>\n",
       "    <tr>\n",
       "      <th>50%</th>\n",
       "      <td>0.000000</td>\n",
       "      <td>0.000000</td>\n",
       "      <td>0.000000</td>\n",
       "      <td>1.000000</td>\n",
       "      <td>27.000000</td>\n",
       "      <td>0.000000</td>\n",
       "      <td>0.000000</td>\n",
       "      <td>0.000000</td>\n",
       "      <td>1.000000</td>\n",
       "      <td>1.000000</td>\n",
       "      <td>...</td>\n",
       "      <td>1.000000</td>\n",
       "      <td>0.000000</td>\n",
       "      <td>2.000000</td>\n",
       "      <td>0.000000</td>\n",
       "      <td>0.000000</td>\n",
       "      <td>0.000000</td>\n",
       "      <td>0.000000</td>\n",
       "      <td>8.000000</td>\n",
       "      <td>5.000000</td>\n",
       "      <td>7.000000</td>\n",
       "    </tr>\n",
       "    <tr>\n",
       "      <th>75%</th>\n",
       "      <td>0.000000</td>\n",
       "      <td>1.000000</td>\n",
       "      <td>1.000000</td>\n",
       "      <td>1.000000</td>\n",
       "      <td>31.000000</td>\n",
       "      <td>1.000000</td>\n",
       "      <td>0.000000</td>\n",
       "      <td>0.000000</td>\n",
       "      <td>1.000000</td>\n",
       "      <td>1.000000</td>\n",
       "      <td>...</td>\n",
       "      <td>1.000000</td>\n",
       "      <td>0.000000</td>\n",
       "      <td>3.000000</td>\n",
       "      <td>2.000000</td>\n",
       "      <td>3.000000</td>\n",
       "      <td>0.000000</td>\n",
       "      <td>1.000000</td>\n",
       "      <td>10.000000</td>\n",
       "      <td>6.000000</td>\n",
       "      <td>8.000000</td>\n",
       "    </tr>\n",
       "    <tr>\n",
       "      <th>max</th>\n",
       "      <td>1.000000</td>\n",
       "      <td>1.000000</td>\n",
       "      <td>1.000000</td>\n",
       "      <td>1.000000</td>\n",
       "      <td>98.000000</td>\n",
       "      <td>1.000000</td>\n",
       "      <td>1.000000</td>\n",
       "      <td>2.000000</td>\n",
       "      <td>1.000000</td>\n",
       "      <td>1.000000</td>\n",
       "      <td>...</td>\n",
       "      <td>1.000000</td>\n",
       "      <td>1.000000</td>\n",
       "      <td>5.000000</td>\n",
       "      <td>30.000000</td>\n",
       "      <td>30.000000</td>\n",
       "      <td>1.000000</td>\n",
       "      <td>1.000000</td>\n",
       "      <td>13.000000</td>\n",
       "      <td>6.000000</td>\n",
       "      <td>8.000000</td>\n",
       "    </tr>\n",
       "  </tbody>\n",
       "</table>\n",
       "<p>8 rows × 22 columns</p>\n",
       "</div>"
      ],
      "text/plain": [
       "       HeartDiseaseorAttack         HighBP       HighChol      CholCheck  \\\n",
       "count         253680.000000  253680.000000  253680.000000  253680.000000   \n",
       "mean               0.094186       0.429001       0.424121       0.962670   \n",
       "std                0.292087       0.494934       0.494210       0.189571   \n",
       "min                0.000000       0.000000       0.000000       0.000000   \n",
       "25%                0.000000       0.000000       0.000000       1.000000   \n",
       "50%                0.000000       0.000000       0.000000       1.000000   \n",
       "75%                0.000000       1.000000       1.000000       1.000000   \n",
       "max                1.000000       1.000000       1.000000       1.000000   \n",
       "\n",
       "                 BMI         Smoker         Stroke       Diabetes  \\\n",
       "count  253680.000000  253680.000000  253680.000000  253680.000000   \n",
       "mean       28.382364       0.443169       0.040571       0.296921   \n",
       "std         6.608694       0.496761       0.197294       0.698160   \n",
       "min        12.000000       0.000000       0.000000       0.000000   \n",
       "25%        24.000000       0.000000       0.000000       0.000000   \n",
       "50%        27.000000       0.000000       0.000000       0.000000   \n",
       "75%        31.000000       1.000000       0.000000       0.000000   \n",
       "max        98.000000       1.000000       1.000000       2.000000   \n",
       "\n",
       "        PhysActivity         Fruits  ...  AnyHealthcare    NoDocbcCost  \\\n",
       "count  253680.000000  253680.000000  ...  253680.000000  253680.000000   \n",
       "mean        0.756544       0.634256  ...       0.951053       0.084177   \n",
       "std         0.429169       0.481639  ...       0.215759       0.277654   \n",
       "min         0.000000       0.000000  ...       0.000000       0.000000   \n",
       "25%         1.000000       0.000000  ...       1.000000       0.000000   \n",
       "50%         1.000000       1.000000  ...       1.000000       0.000000   \n",
       "75%         1.000000       1.000000  ...       1.000000       0.000000   \n",
       "max         1.000000       1.000000  ...       1.000000       1.000000   \n",
       "\n",
       "             GenHlth       MentHlth       PhysHlth       DiffWalk  \\\n",
       "count  253680.000000  253680.000000  253680.000000  253680.000000   \n",
       "mean        2.511392       3.184772       4.242081       0.168224   \n",
       "std         1.068477       7.412847       8.717951       0.374066   \n",
       "min         1.000000       0.000000       0.000000       0.000000   \n",
       "25%         2.000000       0.000000       0.000000       0.000000   \n",
       "50%         2.000000       0.000000       0.000000       0.000000   \n",
       "75%         3.000000       2.000000       3.000000       0.000000   \n",
       "max         5.000000      30.000000      30.000000       1.000000   \n",
       "\n",
       "                 Sex            Age      Education         Income  \n",
       "count  253680.000000  253680.000000  253680.000000  253680.000000  \n",
       "mean        0.440342       8.032119       5.050434       6.053875  \n",
       "std         0.496429       3.054220       0.985774       2.071148  \n",
       "min         0.000000       1.000000       1.000000       1.000000  \n",
       "25%         0.000000       6.000000       4.000000       5.000000  \n",
       "50%         0.000000       8.000000       5.000000       7.000000  \n",
       "75%         1.000000      10.000000       6.000000       8.000000  \n",
       "max         1.000000      13.000000       6.000000       8.000000  \n",
       "\n",
       "[8 rows x 22 columns]"
      ]
     },
     "execution_count": 7,
     "metadata": {},
     "output_type": "execute_result"
    }
   ],
   "source": [
    "hd.describe()"
   ]
  },
  {
   "cell_type": "code",
   "execution_count": 8,
   "id": "16500430",
   "metadata": {},
   "outputs": [
    {
     "name": "stdout",
     "output_type": "stream",
     "text": [
      "<class 'pandas.core.frame.DataFrame'>\n",
      "RangeIndex: 253680 entries, 0 to 253679\n",
      "Data columns (total 22 columns):\n",
      " #   Column                Non-Null Count   Dtype  \n",
      "---  ------                --------------   -----  \n",
      " 0   HeartDiseaseorAttack  253680 non-null  float64\n",
      " 1   HighBP                253680 non-null  float64\n",
      " 2   HighChol              253680 non-null  float64\n",
      " 3   CholCheck             253680 non-null  float64\n",
      " 4   BMI                   253680 non-null  float64\n",
      " 5   Smoker                253680 non-null  float64\n",
      " 6   Stroke                253680 non-null  float64\n",
      " 7   Diabetes              253680 non-null  float64\n",
      " 8   PhysActivity          253680 non-null  float64\n",
      " 9   Fruits                253680 non-null  float64\n",
      " 10  Veggies               253680 non-null  float64\n",
      " 11  HvyAlcoholConsump     253680 non-null  float64\n",
      " 12  AnyHealthcare         253680 non-null  float64\n",
      " 13  NoDocbcCost           253680 non-null  float64\n",
      " 14  GenHlth               253680 non-null  float64\n",
      " 15  MentHlth              253680 non-null  float64\n",
      " 16  PhysHlth              253680 non-null  float64\n",
      " 17  DiffWalk              253680 non-null  float64\n",
      " 18  Sex                   253680 non-null  float64\n",
      " 19  Age                   253680 non-null  float64\n",
      " 20  Education             253680 non-null  float64\n",
      " 21  Income                253680 non-null  float64\n",
      "dtypes: float64(22)\n",
      "memory usage: 42.6 MB\n"
     ]
    }
   ],
   "source": [
    "hd.info()"
   ]
  },
  {
   "cell_type": "markdown",
   "id": "a6f17f2d",
   "metadata": {},
   "source": [
    "# Cleaning the data"
   ]
  },
  {
   "cell_type": "markdown",
   "id": "a1e42710",
   "metadata": {},
   "source": [
    "# 1. Checking for dtypes"
   ]
  },
  {
   "cell_type": "code",
   "execution_count": 9,
   "id": "ff6aba05",
   "metadata": {
    "scrolled": false
   },
   "outputs": [
    {
     "data": {
      "text/plain": [
       "HeartDiseaseorAttack    float64\n",
       "HighBP                  float64\n",
       "HighChol                float64\n",
       "CholCheck               float64\n",
       "BMI                     float64\n",
       "Smoker                  float64\n",
       "Stroke                  float64\n",
       "Diabetes                float64\n",
       "PhysActivity            float64\n",
       "Fruits                  float64\n",
       "Veggies                 float64\n",
       "HvyAlcoholConsump       float64\n",
       "AnyHealthcare           float64\n",
       "NoDocbcCost             float64\n",
       "GenHlth                 float64\n",
       "MentHlth                float64\n",
       "PhysHlth                float64\n",
       "DiffWalk                float64\n",
       "Sex                     float64\n",
       "Age                     float64\n",
       "Education               float64\n",
       "Income                  float64\n",
       "dtype: object"
      ]
     },
     "execution_count": 9,
     "metadata": {},
     "output_type": "execute_result"
    }
   ],
   "source": [
    "hd.dtypes"
   ]
  },
  {
   "cell_type": "markdown",
   "id": "db26bf5d",
   "metadata": {},
   "source": [
    "# 2.Checkikng for null values"
   ]
  },
  {
   "cell_type": "code",
   "execution_count": 10,
   "id": "754f5d2a",
   "metadata": {
    "scrolled": false
   },
   "outputs": [
    {
     "data": {
      "text/plain": [
       "HeartDiseaseorAttack    0\n",
       "HighBP                  0\n",
       "HighChol                0\n",
       "CholCheck               0\n",
       "BMI                     0\n",
       "Smoker                  0\n",
       "Stroke                  0\n",
       "Diabetes                0\n",
       "PhysActivity            0\n",
       "Fruits                  0\n",
       "Veggies                 0\n",
       "HvyAlcoholConsump       0\n",
       "AnyHealthcare           0\n",
       "NoDocbcCost             0\n",
       "GenHlth                 0\n",
       "MentHlth                0\n",
       "PhysHlth                0\n",
       "DiffWalk                0\n",
       "Sex                     0\n",
       "Age                     0\n",
       "Education               0\n",
       "Income                  0\n",
       "dtype: int64"
      ]
     },
     "execution_count": 10,
     "metadata": {},
     "output_type": "execute_result"
    }
   ],
   "source": [
    "hd.isnull().sum()"
   ]
  },
  {
   "cell_type": "markdown",
   "id": "e6e04a25",
   "metadata": {},
   "source": [
    "# Checking for duplicate Values"
   ]
  },
  {
   "cell_type": "code",
   "execution_count": 11,
   "id": "7060a779",
   "metadata": {
    "scrolled": true
   },
   "outputs": [
    {
     "name": "stdout",
     "output_type": "stream",
     "text": [
      "Duplicate Values = 23899\n"
     ]
    }
   ],
   "source": [
    "print(\"Duplicate Values =\", hd.duplicated().sum())"
   ]
  },
  {
   "cell_type": "raw",
   "id": "42925c66",
   "metadata": {},
   "source": [
    "Removing duplicate Values"
   ]
  },
  {
   "cell_type": "code",
   "execution_count": 12,
   "id": "13cb6a7b",
   "metadata": {},
   "outputs": [],
   "source": [
    "hd.drop_duplicates(inplace=True)"
   ]
  },
  {
   "cell_type": "raw",
   "id": "92d76a24",
   "metadata": {},
   "source": [
    "Checking the number of duplicate values after removing them"
   ]
  },
  {
   "cell_type": "code",
   "execution_count": 13,
   "id": "80dca258",
   "metadata": {
    "scrolled": false
   },
   "outputs": [
    {
     "name": "stdout",
     "output_type": "stream",
     "text": [
      "Duplicate Values = 0\n"
     ]
    }
   ],
   "source": [
    "print(\"Duplicate Values =\", hd.duplicated().sum())"
   ]
  },
  {
   "cell_type": "markdown",
   "id": "e75bd607",
   "metadata": {},
   "source": [
    "# checking the value count of target variable"
   ]
  },
  {
   "cell_type": "code",
   "execution_count": 14,
   "id": "922210ed",
   "metadata": {},
   "outputs": [
    {
     "data": {
      "text/plain": [
       "0.0    206064\n",
       "1.0     23717\n",
       "Name: HeartDiseaseorAttack, dtype: int64"
      ]
     },
     "execution_count": 14,
     "metadata": {},
     "output_type": "execute_result"
    }
   ],
   "source": [
    "hd.HeartDiseaseorAttack.value_counts()"
   ]
  },
  {
   "cell_type": "markdown",
   "id": "b62cae88",
   "metadata": {},
   "source": [
    "# Base Models"
   ]
  },
  {
   "cell_type": "raw",
   "id": "576c0709",
   "metadata": {},
   "source": [
    "Splitting the data"
   ]
  },
  {
   "cell_type": "code",
   "execution_count": 15,
   "id": "0573edf4",
   "metadata": {},
   "outputs": [
    {
     "data": {
      "text/plain": [
       "0    0.0\n",
       "1    0.0\n",
       "Name: HeartDiseaseorAttack, dtype: float64"
      ]
     },
     "execution_count": 15,
     "metadata": {},
     "output_type": "execute_result"
    }
   ],
   "source": [
    "x=hd.iloc[:,1:22]\n",
    "x.head(1)\n",
    "y=hd.iloc[:,0]\n",
    "y.head(2)"
   ]
  },
  {
   "cell_type": "code",
   "execution_count": 16,
   "id": "c3568c84",
   "metadata": {},
   "outputs": [
    {
     "data": {
      "text/plain": [
       "((183824, 21), (183824,), (45957, 21), (45957,))"
      ]
     },
     "execution_count": 16,
     "metadata": {},
     "output_type": "execute_result"
    }
   ],
   "source": [
    "import sklearn\n",
    "from sklearn.model_selection import train_test_split\n",
    "xtrain,xtest,ytrain,ytest=train_test_split(x,y,test_size=0.2,random_state=101)\n",
    "xtrain.shape,ytrain.shape,xtest.shape,ytest.shape"
   ]
  },
  {
   "cell_type": "markdown",
   "id": "869c15b4",
   "metadata": {},
   "source": [
    "# 1. LogisticRegression"
   ]
  },
  {
   "cell_type": "code",
   "execution_count": 17,
   "id": "afb3847b",
   "metadata": {},
   "outputs": [
    {
     "data": {
      "text/plain": [
       "array([0., 0., 0., ..., 0., 0., 0.])"
      ]
     },
     "execution_count": 17,
     "metadata": {},
     "output_type": "execute_result"
    }
   ],
   "source": [
    "from sklearn.linear_model import LogisticRegression\n",
    "lg = LogisticRegression()\n",
    "lg.fit(xtrain,ytrain)\n",
    "p_lg=lg.predict(xtest)\n",
    "p_lg"
   ]
  },
  {
   "cell_type": "code",
   "execution_count": 18,
   "id": "651665a3",
   "metadata": {},
   "outputs": [
    {
     "data": {
      "text/plain": [
       "(array([[40625,  4208],\n",
       "        [  520,   604]], dtype=int64),\n",
       " 89.71212220118807)"
      ]
     },
     "execution_count": 18,
     "metadata": {},
     "output_type": "execute_result"
    }
   ],
   "source": [
    "from sklearn.metrics import confusion_matrix\n",
    "m1=confusion_matrix(p_lg,ytest)\n",
    "acc=m1.diagonal().sum()/m1.sum()*100\n",
    "m1,acc"
   ]
  },
  {
   "cell_type": "code",
   "execution_count": 19,
   "id": "a8499218",
   "metadata": {
    "scrolled": false
   },
   "outputs": [
    {
     "name": "stdout",
     "output_type": "stream",
     "text": [
      "              precision    recall  f1-score   support\n",
      "\n",
      "         0.0       0.99      0.91      0.95     44833\n",
      "         1.0       0.13      0.54      0.20      1124\n",
      "\n",
      "    accuracy                           0.90     45957\n",
      "   macro avg       0.56      0.72      0.57     45957\n",
      "weighted avg       0.97      0.90      0.93     45957\n",
      "\n"
     ]
    }
   ],
   "source": [
    "from sklearn.metrics import classification_report\n",
    "print(classification_report(p_lg,ytest))"
   ]
  },
  {
   "cell_type": "code",
   "execution_count": 20,
   "id": "606278fe",
   "metadata": {},
   "outputs": [
    {
     "data": {
      "text/plain": [
       "(0.5373665480427047, 0.1255195344970906, 0.20350404312668463)"
      ]
     },
     "execution_count": 20,
     "metadata": {},
     "output_type": "execute_result"
    }
   ],
   "source": [
    "precision_lg = precision_score(ytest, p_lg)\n",
    "recall_lg = recall_score(ytest, p_lg)\n",
    "f1_lg = f1_score(ytest, p_lg)\n",
    "precision_lg,recall_lg,f1_lg"
   ]
  },
  {
   "cell_type": "markdown",
   "id": "47f539a3",
   "metadata": {},
   "source": [
    "# 2.Decision Tree"
   ]
  },
  {
   "cell_type": "code",
   "execution_count": 21,
   "id": "e69678f4",
   "metadata": {},
   "outputs": [
    {
     "data": {
      "text/plain": [
       "array([1., 1., 0., ..., 0., 0., 0.])"
      ]
     },
     "execution_count": 21,
     "metadata": {},
     "output_type": "execute_result"
    }
   ],
   "source": [
    "from sklearn.tree import DecisionTreeClassifier\n",
    "dt=DecisionTreeClassifier()\n",
    "dt.fit(xtrain,ytrain)\n",
    "dt_p=dt.predict(xtest)\n",
    "dt_p"
   ]
  },
  {
   "cell_type": "code",
   "execution_count": 22,
   "id": "a8c63214",
   "metadata": {
    "scrolled": true
   },
   "outputs": [
    {
     "data": {
      "text/plain": [
       "array([0.01898957, 0.01583387, 0.00395915, 0.19414438, 0.02821001,\n",
       "       0.02272565, 0.02967703, 0.0335099 , 0.03917497, 0.03035973,\n",
       "       0.01013598, 0.0085901 , 0.01511047, 0.07271147, 0.06498257,\n",
       "       0.08978834, 0.02323632, 0.01932858, 0.090192  , 0.07941832,\n",
       "       0.1099216 ])"
      ]
     },
     "execution_count": 22,
     "metadata": {},
     "output_type": "execute_result"
    }
   ],
   "source": [
    "dt.feature_importances_"
   ]
  },
  {
   "cell_type": "code",
   "execution_count": 23,
   "id": "2975f65c",
   "metadata": {},
   "outputs": [
    {
     "data": {
      "text/plain": [
       "(array([[36983,  3466],\n",
       "        [ 4162,  1346]], dtype=int64),\n",
       " 83.4018756663838)"
      ]
     },
     "execution_count": 23,
     "metadata": {},
     "output_type": "execute_result"
    }
   ],
   "source": [
    "dt_cf=confusion_matrix(dt_p,ytest)\n",
    "dt_acc=dt_cf.diagonal().sum()/dt_cf.sum()*100\n",
    "dt_cf,dt_acc"
   ]
  },
  {
   "cell_type": "code",
   "execution_count": 24,
   "id": "f6fb9c39",
   "metadata": {
    "scrolled": false
   },
   "outputs": [
    {
     "name": "stdout",
     "output_type": "stream",
     "text": [
      "              precision    recall  f1-score   support\n",
      "\n",
      "         0.0       0.90      0.91      0.91     40449\n",
      "         1.0       0.28      0.24      0.26      5508\n",
      "\n",
      "    accuracy                           0.83     45957\n",
      "   macro avg       0.59      0.58      0.58     45957\n",
      "weighted avg       0.82      0.83      0.83     45957\n",
      "\n"
     ]
    }
   ],
   "source": [
    "print(classification_report(dt_p,ytest))"
   ]
  },
  {
   "cell_type": "code",
   "execution_count": 25,
   "id": "7b87ebe5",
   "metadata": {},
   "outputs": [
    {
     "data": {
      "text/plain": [
       "(0.24437182280319536, 0.2797173732335827, 0.26085271317829456)"
      ]
     },
     "execution_count": 25,
     "metadata": {},
     "output_type": "execute_result"
    }
   ],
   "source": [
    "precision_dt = precision_score(ytest,dt_p)\n",
    "recall_dt = recall_score(ytest,dt_p)\n",
    "f1_dt = f1_score(ytest,dt_p)\n",
    "precision_dt, recall_dt, f1_dt"
   ]
  },
  {
   "cell_type": "markdown",
   "id": "99838767",
   "metadata": {},
   "source": [
    "# 3.Random Forest"
   ]
  },
  {
   "cell_type": "code",
   "execution_count": 26,
   "id": "deaedd1d",
   "metadata": {},
   "outputs": [
    {
     "data": {
      "text/plain": [
       "array([0., 1., 0., ..., 0., 0., 0.])"
      ]
     },
     "execution_count": 26,
     "metadata": {},
     "output_type": "execute_result"
    }
   ],
   "source": [
    "from sklearn.ensemble import RandomForestClassifier\n",
    "rf = RandomForestClassifier()\n",
    "rf.fit(xtrain,ytrain)\n",
    "rf_p=rf.predict(xtest)\n",
    "rf_p"
   ]
  },
  {
   "cell_type": "code",
   "execution_count": 27,
   "id": "ca801da7",
   "metadata": {},
   "outputs": [
    {
     "data": {
      "text/plain": [
       "(array([[40375,  4298],\n",
       "        [  770,   514]], dtype=int64),\n",
       " 88.9723001936593)"
      ]
     },
     "execution_count": 27,
     "metadata": {},
     "output_type": "execute_result"
    }
   ],
   "source": [
    "rf_cf=confusion_matrix(rf_p,ytest)\n",
    "rf_acc=rf_cf.diagonal().sum()/rf_cf.sum()*100\n",
    "rf_cf,rf_acc"
   ]
  },
  {
   "cell_type": "code",
   "execution_count": 28,
   "id": "22df6046",
   "metadata": {
    "scrolled": false
   },
   "outputs": [
    {
     "name": "stdout",
     "output_type": "stream",
     "text": [
      "              precision    recall  f1-score   support\n",
      "\n",
      "         0.0       0.98      0.90      0.94     44673\n",
      "         1.0       0.11      0.40      0.17      1284\n",
      "\n",
      "    accuracy                           0.89     45957\n",
      "   macro avg       0.54      0.65      0.55     45957\n",
      "weighted avg       0.96      0.89      0.92     45957\n",
      "\n"
     ]
    }
   ],
   "source": [
    "print(classification_report(rf_p,ytest))"
   ]
  },
  {
   "cell_type": "code",
   "execution_count": 29,
   "id": "6efa5ef9",
   "metadata": {},
   "outputs": [
    {
     "data": {
      "text/plain": [
       "(0.40031152647975077, 0.10681629260182876, 0.16863517060367453)"
      ]
     },
     "execution_count": 29,
     "metadata": {},
     "output_type": "execute_result"
    }
   ],
   "source": [
    "precision_rf = precision_score(ytest,rf_p)\n",
    "recall_rf = recall_score(ytest,rf_p)\n",
    "f1_rf = f1_score(ytest,rf_p)\n",
    "precision_rf,recall_rf,f1_rf"
   ]
  },
  {
   "cell_type": "markdown",
   "id": "de7c89f2",
   "metadata": {},
   "source": [
    "# 4. KNN"
   ]
  },
  {
   "cell_type": "code",
   "execution_count": 30,
   "id": "1f1326b4",
   "metadata": {},
   "outputs": [
    {
     "data": {
      "text/plain": [
       "array([0., 0., 0., ..., 0., 0., 0.])"
      ]
     },
     "execution_count": 30,
     "metadata": {},
     "output_type": "execute_result"
    }
   ],
   "source": [
    "from sklearn.neighbors import KNeighborsClassifier\n",
    "knn=KNeighborsClassifier(n_neighbors=17)\n",
    "knn.fit(xtrain,ytrain)\n",
    "knn_p=knn.predict(xtest)\n",
    "knn_p"
   ]
  },
  {
   "cell_type": "code",
   "execution_count": 31,
   "id": "06710bfb",
   "metadata": {
    "scrolled": true
   },
   "outputs": [
    {
     "data": {
      "text/plain": [
       "(array([[40938,  4622],\n",
       "        [  207,   190]], dtype=int64),\n",
       " 89.4923515460104)"
      ]
     },
     "execution_count": 31,
     "metadata": {},
     "output_type": "execute_result"
    }
   ],
   "source": [
    "knn_cf=confusion_matrix(knn_p,ytest)\n",
    "knn_ac=knn_cf.diagonal().sum()/knn_cf.sum()*100\n",
    "knn_cf,knn_ac"
   ]
  },
  {
   "cell_type": "code",
   "execution_count": 32,
   "id": "ed17de53",
   "metadata": {
    "scrolled": true
   },
   "outputs": [
    {
     "name": "stdout",
     "output_type": "stream",
     "text": [
      "              precision    recall  f1-score   support\n",
      "\n",
      "         0.0       0.99      0.90      0.94     45560\n",
      "         1.0       0.04      0.48      0.07       397\n",
      "\n",
      "    accuracy                           0.89     45957\n",
      "   macro avg       0.52      0.69      0.51     45957\n",
      "weighted avg       0.99      0.89      0.94     45957\n",
      "\n"
     ]
    }
   ],
   "source": [
    "print(classification_report(knn_p,ytest))"
   ]
  },
  {
   "cell_type": "code",
   "execution_count": 33,
   "id": "ec7f0040",
   "metadata": {},
   "outputs": [
    {
     "data": {
      "text/plain": [
       "(0.47858942065491183, 0.03948462177888612, 0.07295066231522365)"
      ]
     },
     "execution_count": 33,
     "metadata": {},
     "output_type": "execute_result"
    }
   ],
   "source": [
    "precision_knn = precision_score(ytest,knn_p)\n",
    "recall_knn = recall_score(ytest,knn_p)\n",
    "f1_knn = f1_score(ytest,knn_p)\n",
    "precision_knn, recall_knn, f1_knn"
   ]
  },
  {
   "cell_type": "markdown",
   "id": "30d05556",
   "metadata": {},
   "source": [
    "# 5. Naive Bayes"
   ]
  },
  {
   "cell_type": "code",
   "execution_count": 34,
   "id": "0853a4fd",
   "metadata": {},
   "outputs": [
    {
     "data": {
      "text/plain": [
       "array([0., 1., 1., ..., 1., 0., 0.])"
      ]
     },
     "execution_count": 34,
     "metadata": {},
     "output_type": "execute_result"
    }
   ],
   "source": [
    "from sklearn.naive_bayes import MultinomialNB\n",
    "nb=MultinomialNB()\n",
    "nb.fit(xtrain,ytrain)\n",
    "nb_p=nb.predict(xtest)\n",
    "nb_p"
   ]
  },
  {
   "cell_type": "code",
   "execution_count": 35,
   "id": "047f82b5",
   "metadata": {},
   "outputs": [
    {
     "data": {
      "text/plain": [
       "(array([[34957,  2941],\n",
       "        [ 6188,  1871]], dtype=int64),\n",
       " 80.13577909785235)"
      ]
     },
     "execution_count": 35,
     "metadata": {},
     "output_type": "execute_result"
    }
   ],
   "source": [
    "nb_m=confusion_matrix(nb_p,ytest)\n",
    "nb_ac=nb_m.diagonal().sum()/nb_m.sum()*100\n",
    "nb_m,nb_ac"
   ]
  },
  {
   "cell_type": "code",
   "execution_count": 36,
   "id": "d8296103",
   "metadata": {
    "scrolled": true
   },
   "outputs": [
    {
     "name": "stdout",
     "output_type": "stream",
     "text": [
      "              precision    recall  f1-score   support\n",
      "\n",
      "         0.0       0.85      0.92      0.88     37898\n",
      "         1.0       0.39      0.23      0.29      8059\n",
      "\n",
      "    accuracy                           0.80     45957\n",
      "   macro avg       0.62      0.58      0.59     45957\n",
      "weighted avg       0.77      0.80      0.78     45957\n",
      "\n"
     ]
    }
   ],
   "source": [
    "print(classification_report(nb_p,ytest))"
   ]
  },
  {
   "cell_type": "code",
   "execution_count": 37,
   "id": "5d09aab8",
   "metadata": {},
   "outputs": [
    {
     "data": {
      "text/plain": [
       "(0.23216279935475864, 0.38881961762261014, 0.29073110092455906)"
      ]
     },
     "execution_count": 37,
     "metadata": {},
     "output_type": "execute_result"
    }
   ],
   "source": [
    "precision_nb = precision_score(ytest,nb_p)\n",
    "recall_nb = recall_score(ytest,nb_p)\n",
    "f1_nb = f1_score(ytest,nb_p)\n",
    "precision_nb,recall_nb,f1_nb"
   ]
  },
  {
   "cell_type": "markdown",
   "id": "f1ac5e9e",
   "metadata": {},
   "source": [
    "# 6. XGBoost"
   ]
  },
  {
   "cell_type": "code",
   "execution_count": 38,
   "id": "a260bc4b",
   "metadata": {},
   "outputs": [
    {
     "data": {
      "text/plain": [
       "array([0, 1, 0, ..., 0, 0, 0])"
      ]
     },
     "execution_count": 38,
     "metadata": {},
     "output_type": "execute_result"
    }
   ],
   "source": [
    "from xgboost import XGBClassifier\n",
    "xgb=XGBClassifier()\n",
    "xgb.fit(xtrain,ytrain)\n",
    "xgb_p=xgb.predict(xtest)\n",
    "xgb_p"
   ]
  },
  {
   "cell_type": "code",
   "execution_count": 39,
   "id": "8d4d0559",
   "metadata": {
    "scrolled": true
   },
   "outputs": [
    {
     "data": {
      "text/plain": [
       "(array([[40689,  4263],\n",
       "        [  456,   549]], dtype=int64),\n",
       " 89.73170572491676)"
      ]
     },
     "execution_count": 39,
     "metadata": {},
     "output_type": "execute_result"
    }
   ],
   "source": [
    "xgb_m=confusion_matrix(xgb_p,ytest)\n",
    "xgb_acc=xgb_m.diagonal().sum()/xgb_m.sum()*100\n",
    "xgb_m,xgb_acc\n"
   ]
  },
  {
   "cell_type": "code",
   "execution_count": 40,
   "id": "13f5f45c",
   "metadata": {
    "scrolled": false
   },
   "outputs": [
    {
     "name": "stdout",
     "output_type": "stream",
     "text": [
      "              precision    recall  f1-score   support\n",
      "\n",
      "           0       0.99      0.91      0.95     44952\n",
      "           1       0.11      0.55      0.19      1005\n",
      "\n",
      "    accuracy                           0.90     45957\n",
      "   macro avg       0.55      0.73      0.57     45957\n",
      "weighted avg       0.97      0.90      0.93     45957\n",
      "\n"
     ]
    }
   ],
   "source": [
    "print(classification_report(xgb_p,ytest))"
   ]
  },
  {
   "cell_type": "code",
   "execution_count": 41,
   "id": "948b18f5",
   "metadata": {},
   "outputs": [
    {
     "data": {
      "text/plain": [
       "(0.5462686567164179, 0.11408977556109726, 0.1887570912841671)"
      ]
     },
     "execution_count": 41,
     "metadata": {},
     "output_type": "execute_result"
    }
   ],
   "source": [
    "precision_xgb = precision_score(ytest, xgb_p)\n",
    "recall_xgb = recall_score(ytest, xgb_p)\n",
    "f1_xgb = f1_score(ytest, xgb_p)\n",
    "precision_xgb,recall_xgb,f1_xgb"
   ]
  },
  {
   "cell_type": "markdown",
   "id": "0daa70d9",
   "metadata": {},
   "source": [
    "# BASEMODEL DATAFRAME"
   ]
  },
  {
   "cell_type": "code",
   "execution_count": 42,
   "id": "aed8be87",
   "metadata": {},
   "outputs": [],
   "source": [
    "l1=[\"LG\",\"DT\",\"RF\",\"KNN\",\"NB\",\"XGB\"]\n",
    "l2=[acc,dt_acc,rf_acc,knn_ac,nb_ac,xgb_acc]\n",
    "l3=[precision_lg,precision_dt,precision_rf,precision_knn,precision_nb,precision_xgb]\n",
    "l4=[recall_lg,recall_dt,recall_dt,recall_rf,recall_nb,recall_xgb]\n",
    "l5=[f1_lg,f1_dt,f1_rf,f1_knn,f1_nb,f1_xgb]"
   ]
  },
  {
   "cell_type": "code",
   "execution_count": 43,
   "id": "d6751d25",
   "metadata": {
    "scrolled": false
   },
   "outputs": [
    {
     "data": {
      "text/html": [
       "<div>\n",
       "<style scoped>\n",
       "    .dataframe tbody tr th:only-of-type {\n",
       "        vertical-align: middle;\n",
       "    }\n",
       "\n",
       "    .dataframe tbody tr th {\n",
       "        vertical-align: top;\n",
       "    }\n",
       "\n",
       "    .dataframe thead th {\n",
       "        text-align: right;\n",
       "    }\n",
       "</style>\n",
       "<table border=\"1\" class=\"dataframe\">\n",
       "  <thead>\n",
       "    <tr style=\"text-align: right;\">\n",
       "      <th></th>\n",
       "      <th>Model Name</th>\n",
       "      <th>Accuracy</th>\n",
       "      <th>Precision</th>\n",
       "      <th>Recall</th>\n",
       "      <th>F1-Score</th>\n",
       "    </tr>\n",
       "  </thead>\n",
       "  <tbody>\n",
       "    <tr>\n",
       "      <th>0</th>\n",
       "      <td>LG</td>\n",
       "      <td>89.712122</td>\n",
       "      <td>0.537367</td>\n",
       "      <td>0.125520</td>\n",
       "      <td>0.203504</td>\n",
       "    </tr>\n",
       "    <tr>\n",
       "      <th>1</th>\n",
       "      <td>DT</td>\n",
       "      <td>83.401876</td>\n",
       "      <td>0.244372</td>\n",
       "      <td>0.279717</td>\n",
       "      <td>0.260853</td>\n",
       "    </tr>\n",
       "    <tr>\n",
       "      <th>2</th>\n",
       "      <td>RF</td>\n",
       "      <td>88.972300</td>\n",
       "      <td>0.400312</td>\n",
       "      <td>0.279717</td>\n",
       "      <td>0.168635</td>\n",
       "    </tr>\n",
       "    <tr>\n",
       "      <th>3</th>\n",
       "      <td>KNN</td>\n",
       "      <td>89.492352</td>\n",
       "      <td>0.478589</td>\n",
       "      <td>0.106816</td>\n",
       "      <td>0.072951</td>\n",
       "    </tr>\n",
       "    <tr>\n",
       "      <th>4</th>\n",
       "      <td>NB</td>\n",
       "      <td>80.135779</td>\n",
       "      <td>0.232163</td>\n",
       "      <td>0.388820</td>\n",
       "      <td>0.290731</td>\n",
       "    </tr>\n",
       "    <tr>\n",
       "      <th>5</th>\n",
       "      <td>XGB</td>\n",
       "      <td>89.731706</td>\n",
       "      <td>0.546269</td>\n",
       "      <td>0.114090</td>\n",
       "      <td>0.188757</td>\n",
       "    </tr>\n",
       "  </tbody>\n",
       "</table>\n",
       "</div>"
      ],
      "text/plain": [
       "  Model Name   Accuracy  Precision    Recall  F1-Score\n",
       "0         LG  89.712122   0.537367  0.125520  0.203504\n",
       "1         DT  83.401876   0.244372  0.279717  0.260853\n",
       "2         RF  88.972300   0.400312  0.279717  0.168635\n",
       "3        KNN  89.492352   0.478589  0.106816  0.072951\n",
       "4         NB  80.135779   0.232163  0.388820  0.290731\n",
       "5        XGB  89.731706   0.546269  0.114090  0.188757"
      ]
     },
     "execution_count": 43,
     "metadata": {},
     "output_type": "execute_result"
    }
   ],
   "source": [
    "BaseModels=pd.DataFrame({\"Model Name\":l1,\"Accuracy\":l2,\"Precision\":l3,\"Recall\":l4,\"F1-Score\":l5})\n",
    "BaseModels"
   ]
  },
  {
   "cell_type": "markdown",
   "id": "930873b2",
   "metadata": {},
   "source": [
    "# BASEMODEL CONCLUSION: \n",
    "   Out of these models,LogisticRegression And XGB is better compared to others though every models are having low precision,recall and f1 score\n",
    "This is due to the Class Imbalance problem in this Dataset."
   ]
  },
  {
   "cell_type": "markdown",
   "id": "3039618e",
   "metadata": {},
   "source": [
    "# Class Imbalance"
   ]
  },
  {
   "cell_type": "raw",
   "id": "93c3d850",
   "metadata": {},
   "source": [
    "Checking for class imbalance"
   ]
  },
  {
   "cell_type": "code",
   "execution_count": 44,
   "id": "d68ebda7",
   "metadata": {},
   "outputs": [
    {
     "data": {
      "text/plain": [
       "0.0    206064\n",
       "1.0     23717\n",
       "Name: HeartDiseaseorAttack, dtype: int64"
      ]
     },
     "execution_count": 44,
     "metadata": {},
     "output_type": "execute_result"
    }
   ],
   "source": [
    "hd['HeartDiseaseorAttack'].value_counts()"
   ]
  },
  {
   "cell_type": "code",
   "execution_count": 45,
   "id": "c25d9521",
   "metadata": {},
   "outputs": [
    {
     "data": {
      "text/plain": [
       "<Axes: xlabel='HeartDiseaseorAttack', ylabel='count'>"
      ]
     },
     "execution_count": 45,
     "metadata": {},
     "output_type": "execute_result"
    },
    {
     "data": {
      "image/png": "[encoded data removed]",
      "text/plain": [
       "<Figure size 640x480 with 1 Axes>"
      ]
     },
     "metadata": {},
     "output_type": "display_data"
    }
   ],
   "source": [
    "sns.set_style('whitegrid')\n",
    "sns.countplot(x='HeartDiseaseorAttack',data=hd,palette='RdBu_r')"
   ]
  },
  {
   "cell_type": "raw",
   "id": "092bff33",
   "metadata": {},
   "source": [
    "This data has strong class imbalance Problem"
   ]
  },
  {
   "cell_type": "markdown",
   "id": "c1673057",
   "metadata": {},
   "source": [
    "# SMOTE - Synthetic Minority Oversampling Technique"
   ]
  },
  {
   "cell_type": "code",
   "execution_count": 46,
   "id": "bd14589f",
   "metadata": {},
   "outputs": [
    {
     "data": {
      "text/plain": [
       "((229781, 21), (229781,))"
      ]
     },
     "execution_count": 46,
     "metadata": {},
     "output_type": "execute_result"
    }
   ],
   "source": [
    "sx=hd.iloc[:,1:22]\n",
    "sy=hd.iloc[:,0]\n",
    "sx.shape,sy.shape"
   ]
  },
  {
   "cell_type": "code",
   "execution_count": 47,
   "id": "eceb83bb",
   "metadata": {},
   "outputs": [],
   "source": [
    "from imblearn.over_sampling import SMOTE\n",
    "smote=SMOTE()\n",
    "x_smote,y_smote=smote.fit_resample(sx,sy)"
   ]
  },
  {
   "cell_type": "code",
   "execution_count": 48,
   "id": "03eba5a7",
   "metadata": {},
   "outputs": [
    {
     "data": {
      "text/plain": [
       "((412128, 21), (412128,))"
      ]
     },
     "execution_count": 48,
     "metadata": {},
     "output_type": "execute_result"
    }
   ],
   "source": [
    "x_smote.shape,y_smote.shape"
   ]
  },
  {
   "cell_type": "code",
   "execution_count": 49,
   "id": "2ffce164",
   "metadata": {},
   "outputs": [
    {
     "data": {
      "text/plain": [
       "0.0    206064\n",
       "1.0    206064\n",
       "Name: HeartDiseaseorAttack, dtype: int64"
      ]
     },
     "execution_count": 49,
     "metadata": {},
     "output_type": "execute_result"
    }
   ],
   "source": [
    "y_smote.value_counts()"
   ]
  },
  {
   "cell_type": "markdown",
   "id": "88e88fdd",
   "metadata": {},
   "source": [
    "# Exploratory Data Analysis"
   ]
  },
  {
   "cell_type": "markdown",
   "id": "0101c7c1",
   "metadata": {},
   "source": [
    "# 1.OUTLIER TREATMENT"
   ]
  },
  {
   "cell_type": "code",
   "execution_count": 50,
   "id": "92c91704",
   "metadata": {},
   "outputs": [
    {
     "data": {
      "image/png": "[encoded data removed]",
      "text/plain": [
       "<Figure size 2000x1000 with 1 Axes>"
      ]
     },
     "metadata": {},
     "output_type": "display_data"
    }
   ],
   "source": [
    "x_smote.boxplot(figsize=(20,10))\n",
    "plt.show()"
   ]
  },
  {
   "cell_type": "code",
   "execution_count": 51,
   "id": "c529814c",
   "metadata": {},
   "outputs": [
    {
     "data": {
      "text/plain": [
       "Index(['HighBP', 'HighChol', 'CholCheck', 'BMI', 'Smoker', 'Stroke',\n",
       "       'Diabetes', 'PhysActivity', 'Fruits', 'Veggies', 'HvyAlcoholConsump',\n",
       "       'AnyHealthcare', 'NoDocbcCost', 'GenHlth', 'MentHlth', 'PhysHlth',\n",
       "       'DiffWalk', 'Sex', 'Age', 'Education', 'Income'],\n",
       "      dtype='object')"
      ]
     },
     "execution_count": 51,
     "metadata": {},
     "output_type": "execute_result"
    }
   ],
   "source": [
    "x_smote.columns"
   ]
  },
  {
   "cell_type": "code",
   "execution_count": 52,
   "id": "92bbe801",
   "metadata": {},
   "outputs": [
    {
     "data": {
      "text/plain": [
       "27.000000    31145\n",
       "26.000000    25112\n",
       "24.000000    22903\n",
       "28.000000    21103\n",
       "25.000000    20308\n",
       "             ...  \n",
       "29.790285        1\n",
       "31.891364        1\n",
       "32.466236        1\n",
       "33.689530        1\n",
       "48.642480        1\n",
       "Name: BMI, Length: 97327, dtype: int64"
      ]
     },
     "execution_count": 52,
     "metadata": {},
     "output_type": "execute_result"
    }
   ],
   "source": [
    "x_smote.BMI.value_counts()"
   ]
  },
  {
   "cell_type": "code",
   "execution_count": 53,
   "id": "a4b0ac46",
   "metadata": {},
   "outputs": [
    {
     "data": {
      "image/png": "[encoded data removed]",
      "text/plain": [
       "<Figure size 1500x500 with 2 Axes>"
      ]
     },
     "metadata": {},
     "output_type": "display_data"
    }
   ],
   "source": [
    "fig, ax = plt.subplots(1, 2, figsize=(15,5))\n",
    "sns.distplot(x_smote['BMI'], ax=ax[0], bins=10)\n",
    "sns.boxplot(x_smote['BMI'], ax=ax[1])\n",
    "ax[1].set_title(\"Box plot of 'BMI' Feature\")\n",
    "ax[0].set_title(\"Distribution plot of 'BMI' Feature\")\n",
    "plt.show()"
   ]
  },
  {
   "cell_type": "code",
   "execution_count": 54,
   "id": "b5d4fdaa",
   "metadata": {},
   "outputs": [
    {
     "data": {
      "text/plain": [
       "(25.0, 32.0, 7.0, 42.5, 14.5)"
      ]
     },
     "execution_count": 54,
     "metadata": {},
     "output_type": "execute_result"
    }
   ],
   "source": [
    "q25,q75=np.percentile(x_smote.BMI,(25,75))\n",
    "qr=q75-q25\n",
    "max=q75+qr*1.5\n",
    "min=q25-qr*1.5\n",
    "x_smote.BMI[x_smote.BMI>max]=max\n",
    "x_smote.BMI[x_smote.BMI<min]=min\n",
    "q25,q75,qr,max,min"
   ]
  },
  {
   "cell_type": "code",
   "execution_count": 55,
   "id": "f0664916",
   "metadata": {},
   "outputs": [
    {
     "data": {
      "image/png": "[encoded data removed]",
      "text/plain": [
       "<Figure size 1500x500 with 2 Axes>"
      ]
     },
     "metadata": {},
     "output_type": "display_data"
    }
   ],
   "source": [
    "fig, ax = plt.subplots(1, 2, figsize=(15,5))\n",
    "sns.distplot(x_smote['BMI'], ax=ax[0], bins=10)\n",
    "sns.boxplot(x_smote['BMI'], ax=ax[1])\n",
    "ax[1].set_title(\"Box plot of 'BMI' Feature\")\n",
    "ax[0].set_title(\"Distribution plot of 'BMI' Feature\")\n",
    "plt.show()"
   ]
  },
  {
   "cell_type": "markdown",
   "id": "efa6880b",
   "metadata": {},
   "source": [
    "# 2.SKEWNESS TREATMENT"
   ]
  },
  {
   "cell_type": "raw",
   "id": "5401ed8c",
   "metadata": {},
   "source": [
    "There are three methods to treat skewness: 1.sqrt , 2.cbrt, 3.log"
   ]
  },
  {
   "cell_type": "code",
   "execution_count": 56,
   "id": "acd1d7a5",
   "metadata": {},
   "outputs": [
    {
     "data": {
      "text/plain": [
       "HighBP              -0.381907\n",
       "HighChol            -0.263247\n",
       "CholCheck           -5.891931\n",
       "BMI                  0.577731\n",
       "Smoker              -0.155270\n",
       "Stroke               2.822627\n",
       "Diabetes             1.210263\n",
       "PhysActivity        -0.863405\n",
       "Fruits              -0.471833\n",
       "Veggies             -1.415729\n",
       "HvyAlcoholConsump    4.310250\n",
       "AnyHealthcare       -4.486912\n",
       "NoDocbcCost          2.735649\n",
       "GenHlth              0.093174\n",
       "MentHlth             2.264734\n",
       "PhysHlth             1.438392\n",
       "DiffWalk             0.967211\n",
       "Sex                 -0.007994\n",
       "Age                 -0.691212\n",
       "Education           -0.567786\n",
       "Income              -0.542691\n",
       "dtype: float64"
      ]
     },
     "execution_count": 56,
     "metadata": {},
     "output_type": "execute_result"
    }
   ],
   "source": [
    "x_smote.skew()"
   ]
  },
  {
   "cell_type": "raw",
   "id": "b4ecddb3",
   "metadata": {},
   "source": [
    "the data dont have any skewness in the numerical columns"
   ]
  },
  {
   "cell_type": "markdown",
   "id": "88923724",
   "metadata": {},
   "source": [
    "# 3.VISUALIZATION"
   ]
  },
  {
   "cell_type": "code",
   "execution_count": 57,
   "id": "4a7fc794",
   "metadata": {},
   "outputs": [
    {
     "data": {
      "text/html": [
       "<div>\n",
       "<style scoped>\n",
       "    .dataframe tbody tr th:only-of-type {\n",
       "        vertical-align: middle;\n",
       "    }\n",
       "\n",
       "    .dataframe tbody tr th {\n",
       "        vertical-align: top;\n",
       "    }\n",
       "\n",
       "    .dataframe thead th {\n",
       "        text-align: right;\n",
       "    }\n",
       "</style>\n",
       "<table border=\"1\" class=\"dataframe\">\n",
       "  <thead>\n",
       "    <tr style=\"text-align: right;\">\n",
       "      <th></th>\n",
       "      <th>HighBP</th>\n",
       "      <th>HighChol</th>\n",
       "      <th>CholCheck</th>\n",
       "      <th>BMI</th>\n",
       "      <th>Smoker</th>\n",
       "      <th>Stroke</th>\n",
       "      <th>Diabetes</th>\n",
       "      <th>PhysActivity</th>\n",
       "      <th>Fruits</th>\n",
       "      <th>Veggies</th>\n",
       "      <th>...</th>\n",
       "      <th>NoDocbcCost</th>\n",
       "      <th>GenHlth</th>\n",
       "      <th>MentHlth</th>\n",
       "      <th>PhysHlth</th>\n",
       "      <th>DiffWalk</th>\n",
       "      <th>Sex</th>\n",
       "      <th>Age</th>\n",
       "      <th>Education</th>\n",
       "      <th>Income</th>\n",
       "      <th>HeartDiseaseorAttack</th>\n",
       "    </tr>\n",
       "  </thead>\n",
       "  <tbody>\n",
       "    <tr>\n",
       "      <th>0</th>\n",
       "      <td>1.000000</td>\n",
       "      <td>1.000000</td>\n",
       "      <td>1.000000</td>\n",
       "      <td>40.000000</td>\n",
       "      <td>1.000000</td>\n",
       "      <td>0.0</td>\n",
       "      <td>0.000000</td>\n",
       "      <td>0.000000</td>\n",
       "      <td>0.000000</td>\n",
       "      <td>1.000000</td>\n",
       "      <td>...</td>\n",
       "      <td>0.000000</td>\n",
       "      <td>5.000000</td>\n",
       "      <td>18.0</td>\n",
       "      <td>15.000000</td>\n",
       "      <td>1.000000</td>\n",
       "      <td>0.000000</td>\n",
       "      <td>9.000000</td>\n",
       "      <td>4.000000</td>\n",
       "      <td>3.000000</td>\n",
       "      <td>0.0</td>\n",
       "    </tr>\n",
       "    <tr>\n",
       "      <th>1</th>\n",
       "      <td>0.000000</td>\n",
       "      <td>0.000000</td>\n",
       "      <td>0.000000</td>\n",
       "      <td>25.000000</td>\n",
       "      <td>1.000000</td>\n",
       "      <td>0.0</td>\n",
       "      <td>0.000000</td>\n",
       "      <td>1.000000</td>\n",
       "      <td>0.000000</td>\n",
       "      <td>0.000000</td>\n",
       "      <td>...</td>\n",
       "      <td>1.000000</td>\n",
       "      <td>3.000000</td>\n",
       "      <td>0.0</td>\n",
       "      <td>0.000000</td>\n",
       "      <td>0.000000</td>\n",
       "      <td>0.000000</td>\n",
       "      <td>7.000000</td>\n",
       "      <td>6.000000</td>\n",
       "      <td>1.000000</td>\n",
       "      <td>0.0</td>\n",
       "    </tr>\n",
       "    <tr>\n",
       "      <th>2</th>\n",
       "      <td>1.000000</td>\n",
       "      <td>1.000000</td>\n",
       "      <td>1.000000</td>\n",
       "      <td>28.000000</td>\n",
       "      <td>0.000000</td>\n",
       "      <td>0.0</td>\n",
       "      <td>0.000000</td>\n",
       "      <td>0.000000</td>\n",
       "      <td>1.000000</td>\n",
       "      <td>0.000000</td>\n",
       "      <td>...</td>\n",
       "      <td>1.000000</td>\n",
       "      <td>5.000000</td>\n",
       "      <td>30.0</td>\n",
       "      <td>30.000000</td>\n",
       "      <td>1.000000</td>\n",
       "      <td>0.000000</td>\n",
       "      <td>9.000000</td>\n",
       "      <td>4.000000</td>\n",
       "      <td>8.000000</td>\n",
       "      <td>0.0</td>\n",
       "    </tr>\n",
       "    <tr>\n",
       "      <th>3</th>\n",
       "      <td>1.000000</td>\n",
       "      <td>0.000000</td>\n",
       "      <td>1.000000</td>\n",
       "      <td>27.000000</td>\n",
       "      <td>0.000000</td>\n",
       "      <td>0.0</td>\n",
       "      <td>0.000000</td>\n",
       "      <td>1.000000</td>\n",
       "      <td>1.000000</td>\n",
       "      <td>1.000000</td>\n",
       "      <td>...</td>\n",
       "      <td>0.000000</td>\n",
       "      <td>2.000000</td>\n",
       "      <td>0.0</td>\n",
       "      <td>0.000000</td>\n",
       "      <td>0.000000</td>\n",
       "      <td>0.000000</td>\n",
       "      <td>11.000000</td>\n",
       "      <td>3.000000</td>\n",
       "      <td>6.000000</td>\n",
       "      <td>0.0</td>\n",
       "    </tr>\n",
       "    <tr>\n",
       "      <th>4</th>\n",
       "      <td>1.000000</td>\n",
       "      <td>1.000000</td>\n",
       "      <td>1.000000</td>\n",
       "      <td>24.000000</td>\n",
       "      <td>0.000000</td>\n",
       "      <td>0.0</td>\n",
       "      <td>0.000000</td>\n",
       "      <td>1.000000</td>\n",
       "      <td>1.000000</td>\n",
       "      <td>1.000000</td>\n",
       "      <td>...</td>\n",
       "      <td>0.000000</td>\n",
       "      <td>2.000000</td>\n",
       "      <td>3.0</td>\n",
       "      <td>0.000000</td>\n",
       "      <td>0.000000</td>\n",
       "      <td>0.000000</td>\n",
       "      <td>11.000000</td>\n",
       "      <td>5.000000</td>\n",
       "      <td>4.000000</td>\n",
       "      <td>0.0</td>\n",
       "    </tr>\n",
       "    <tr>\n",
       "      <th>...</th>\n",
       "      <td>...</td>\n",
       "      <td>...</td>\n",
       "      <td>...</td>\n",
       "      <td>...</td>\n",
       "      <td>...</td>\n",
       "      <td>...</td>\n",
       "      <td>...</td>\n",
       "      <td>...</td>\n",
       "      <td>...</td>\n",
       "      <td>...</td>\n",
       "      <td>...</td>\n",
       "      <td>...</td>\n",
       "      <td>...</td>\n",
       "      <td>...</td>\n",
       "      <td>...</td>\n",
       "      <td>...</td>\n",
       "      <td>...</td>\n",
       "      <td>...</td>\n",
       "      <td>...</td>\n",
       "      <td>...</td>\n",
       "      <td>...</td>\n",
       "    </tr>\n",
       "    <tr>\n",
       "      <th>412123</th>\n",
       "      <td>1.000000</td>\n",
       "      <td>0.000000</td>\n",
       "      <td>1.000000</td>\n",
       "      <td>24.000000</td>\n",
       "      <td>0.000000</td>\n",
       "      <td>0.0</td>\n",
       "      <td>0.000000</td>\n",
       "      <td>0.323681</td>\n",
       "      <td>0.323681</td>\n",
       "      <td>1.000000</td>\n",
       "      <td>...</td>\n",
       "      <td>0.000000</td>\n",
       "      <td>4.323681</td>\n",
       "      <td>0.0</td>\n",
       "      <td>30.000000</td>\n",
       "      <td>1.000000</td>\n",
       "      <td>0.000000</td>\n",
       "      <td>13.000000</td>\n",
       "      <td>4.000000</td>\n",
       "      <td>3.676319</td>\n",
       "      <td>1.0</td>\n",
       "    </tr>\n",
       "    <tr>\n",
       "      <th>412124</th>\n",
       "      <td>0.369755</td>\n",
       "      <td>1.000000</td>\n",
       "      <td>1.000000</td>\n",
       "      <td>30.630245</td>\n",
       "      <td>0.369755</td>\n",
       "      <td>0.0</td>\n",
       "      <td>2.000000</td>\n",
       "      <td>1.000000</td>\n",
       "      <td>1.000000</td>\n",
       "      <td>0.630245</td>\n",
       "      <td>...</td>\n",
       "      <td>0.630245</td>\n",
       "      <td>3.739509</td>\n",
       "      <td>30.0</td>\n",
       "      <td>4.260491</td>\n",
       "      <td>0.000000</td>\n",
       "      <td>0.369755</td>\n",
       "      <td>7.000000</td>\n",
       "      <td>5.630245</td>\n",
       "      <td>8.000000</td>\n",
       "      <td>1.0</td>\n",
       "    </tr>\n",
       "    <tr>\n",
       "      <th>412125</th>\n",
       "      <td>0.937163</td>\n",
       "      <td>0.937163</td>\n",
       "      <td>0.937163</td>\n",
       "      <td>28.937163</td>\n",
       "      <td>1.000000</td>\n",
       "      <td>0.0</td>\n",
       "      <td>0.000000</td>\n",
       "      <td>0.062837</td>\n",
       "      <td>0.062837</td>\n",
       "      <td>0.062837</td>\n",
       "      <td>...</td>\n",
       "      <td>1.000000</td>\n",
       "      <td>3.000000</td>\n",
       "      <td>30.0</td>\n",
       "      <td>0.000000</td>\n",
       "      <td>0.937163</td>\n",
       "      <td>1.000000</td>\n",
       "      <td>8.937163</td>\n",
       "      <td>4.062837</td>\n",
       "      <td>1.937163</td>\n",
       "      <td>1.0</td>\n",
       "    </tr>\n",
       "    <tr>\n",
       "      <th>412126</th>\n",
       "      <td>1.000000</td>\n",
       "      <td>1.000000</td>\n",
       "      <td>0.426692</td>\n",
       "      <td>28.573308</td>\n",
       "      <td>1.000000</td>\n",
       "      <td>0.0</td>\n",
       "      <td>0.573308</td>\n",
       "      <td>0.000000</td>\n",
       "      <td>0.426692</td>\n",
       "      <td>0.000000</td>\n",
       "      <td>...</td>\n",
       "      <td>0.000000</td>\n",
       "      <td>3.000000</td>\n",
       "      <td>0.0</td>\n",
       "      <td>0.000000</td>\n",
       "      <td>0.000000</td>\n",
       "      <td>0.000000</td>\n",
       "      <td>10.000000</td>\n",
       "      <td>4.000000</td>\n",
       "      <td>4.426692</td>\n",
       "      <td>1.0</td>\n",
       "    </tr>\n",
       "    <tr>\n",
       "      <th>412127</th>\n",
       "      <td>1.000000</td>\n",
       "      <td>0.642480</td>\n",
       "      <td>1.000000</td>\n",
       "      <td>42.500000</td>\n",
       "      <td>0.000000</td>\n",
       "      <td>0.0</td>\n",
       "      <td>1.357520</td>\n",
       "      <td>1.000000</td>\n",
       "      <td>0.357520</td>\n",
       "      <td>0.357520</td>\n",
       "      <td>...</td>\n",
       "      <td>0.000000</td>\n",
       "      <td>3.000000</td>\n",
       "      <td>0.0</td>\n",
       "      <td>0.000000</td>\n",
       "      <td>0.000000</td>\n",
       "      <td>0.357520</td>\n",
       "      <td>10.642480</td>\n",
       "      <td>4.642480</td>\n",
       "      <td>6.000000</td>\n",
       "      <td>1.0</td>\n",
       "    </tr>\n",
       "  </tbody>\n",
       "</table>\n",
       "<p>412128 rows × 22 columns</p>\n",
       "</div>"
      ],
      "text/plain": [
       "          HighBP  HighChol  CholCheck        BMI    Smoker  Stroke  Diabetes  \\\n",
       "0       1.000000  1.000000   1.000000  40.000000  1.000000     0.0  0.000000   \n",
       "1       0.000000  0.000000   0.000000  25.000000  1.000000     0.0  0.000000   \n",
       "2       1.000000  1.000000   1.000000  28.000000  0.000000     0.0  0.000000   \n",
       "3       1.000000  0.000000   1.000000  27.000000  0.000000     0.0  0.000000   \n",
       "4       1.000000  1.000000   1.000000  24.000000  0.000000     0.0  0.000000   \n",
       "...          ...       ...        ...        ...       ...     ...       ...   \n",
       "412123  1.000000  0.000000   1.000000  24.000000  0.000000     0.0  0.000000   \n",
       "412124  0.369755  1.000000   1.000000  30.630245  0.369755     0.0  2.000000   \n",
       "412125  0.937163  0.937163   0.937163  28.937163  1.000000     0.0  0.000000   \n",
       "412126  1.000000  1.000000   0.426692  28.573308  1.000000     0.0  0.573308   \n",
       "412127  1.000000  0.642480   1.000000  42.500000  0.000000     0.0  1.357520   \n",
       "\n",
       "        PhysActivity    Fruits   Veggies  ...  NoDocbcCost   GenHlth  \\\n",
       "0           0.000000  0.000000  1.000000  ...     0.000000  5.000000   \n",
       "1           1.000000  0.000000  0.000000  ...     1.000000  3.000000   \n",
       "2           0.000000  1.000000  0.000000  ...     1.000000  5.000000   \n",
       "3           1.000000  1.000000  1.000000  ...     0.000000  2.000000   \n",
       "4           1.000000  1.000000  1.000000  ...     0.000000  2.000000   \n",
       "...              ...       ...       ...  ...          ...       ...   \n",
       "412123      0.323681  0.323681  1.000000  ...     0.000000  4.323681   \n",
       "412124      1.000000  1.000000  0.630245  ...     0.630245  3.739509   \n",
       "412125      0.062837  0.062837  0.062837  ...     1.000000  3.000000   \n",
       "412126      0.000000  0.426692  0.000000  ...     0.000000  3.000000   \n",
       "412127      1.000000  0.357520  0.357520  ...     0.000000  3.000000   \n",
       "\n",
       "        MentHlth   PhysHlth  DiffWalk       Sex        Age  Education  \\\n",
       "0           18.0  15.000000  1.000000  0.000000   9.000000   4.000000   \n",
       "1            0.0   0.000000  0.000000  0.000000   7.000000   6.000000   \n",
       "2           30.0  30.000000  1.000000  0.000000   9.000000   4.000000   \n",
       "3            0.0   0.000000  0.000000  0.000000  11.000000   3.000000   \n",
       "4            3.0   0.000000  0.000000  0.000000  11.000000   5.000000   \n",
       "...          ...        ...       ...       ...        ...        ...   \n",
       "412123       0.0  30.000000  1.000000  0.000000  13.000000   4.000000   \n",
       "412124      30.0   4.260491  0.000000  0.369755   7.000000   5.630245   \n",
       "412125      30.0   0.000000  0.937163  1.000000   8.937163   4.062837   \n",
       "412126       0.0   0.000000  0.000000  0.000000  10.000000   4.000000   \n",
       "412127       0.0   0.000000  0.000000  0.357520  10.642480   4.642480   \n",
       "\n",
       "          Income  HeartDiseaseorAttack  \n",
       "0       3.000000                   0.0  \n",
       "1       1.000000                   0.0  \n",
       "2       8.000000                   0.0  \n",
       "3       6.000000                   0.0  \n",
       "4       4.000000                   0.0  \n",
       "...          ...                   ...  \n",
       "412123  3.676319                   1.0  \n",
       "412124  8.000000                   1.0  \n",
       "412125  1.937163                   1.0  \n",
       "412126  4.426692                   1.0  \n",
       "412127  6.000000                   1.0  \n",
       "\n",
       "[412128 rows x 22 columns]"
      ]
     },
     "execution_count": 57,
     "metadata": {},
     "output_type": "execute_result"
    }
   ],
   "source": [
    "v=pd.concat([x_smote,y_smote],axis=1)\n",
    "v"
   ]
  },
  {
   "cell_type": "markdown",
   "id": "d243de03",
   "metadata": {},
   "source": [
    "# Correlation matrix"
   ]
  },
  {
   "cell_type": "code",
   "execution_count": 58,
   "id": "2ced0cc3",
   "metadata": {
    "scrolled": false
   },
   "outputs": [
    {
     "data": {
      "text/html": [
       "<div>\n",
       "<style scoped>\n",
       "    .dataframe tbody tr th:only-of-type {\n",
       "        vertical-align: middle;\n",
       "    }\n",
       "\n",
       "    .dataframe tbody tr th {\n",
       "        vertical-align: top;\n",
       "    }\n",
       "\n",
       "    .dataframe thead th {\n",
       "        text-align: right;\n",
       "    }\n",
       "</style>\n",
       "<table border=\"1\" class=\"dataframe\">\n",
       "  <thead>\n",
       "    <tr style=\"text-align: right;\">\n",
       "      <th></th>\n",
       "      <th>HighBP</th>\n",
       "      <th>HighChol</th>\n",
       "      <th>CholCheck</th>\n",
       "      <th>BMI</th>\n",
       "      <th>Smoker</th>\n",
       "      <th>Stroke</th>\n",
       "      <th>Diabetes</th>\n",
       "      <th>PhysActivity</th>\n",
       "      <th>Fruits</th>\n",
       "      <th>Veggies</th>\n",
       "      <th>...</th>\n",
       "      <th>NoDocbcCost</th>\n",
       "      <th>GenHlth</th>\n",
       "      <th>MentHlth</th>\n",
       "      <th>PhysHlth</th>\n",
       "      <th>DiffWalk</th>\n",
       "      <th>Sex</th>\n",
       "      <th>Age</th>\n",
       "      <th>Education</th>\n",
       "      <th>Income</th>\n",
       "      <th>HeartDiseaseorAttack</th>\n",
       "    </tr>\n",
       "  </thead>\n",
       "  <tbody>\n",
       "    <tr>\n",
       "      <th>HighBP</th>\n",
       "      <td>1.000000</td>\n",
       "      <td>0.345485</td>\n",
       "      <td>0.123343</td>\n",
       "      <td>0.215762</td>\n",
       "      <td>0.106896</td>\n",
       "      <td>0.150853</td>\n",
       "      <td>0.276907</td>\n",
       "      <td>-0.115622</td>\n",
       "      <td>-0.020447</td>\n",
       "      <td>-0.039780</td>\n",
       "      <td>...</td>\n",
       "      <td>0.009208</td>\n",
       "      <td>0.321930</td>\n",
       "      <td>0.05461</td>\n",
       "      <td>0.173833</td>\n",
       "      <td>0.245324</td>\n",
       "      <td>0.063895</td>\n",
       "      <td>0.355719</td>\n",
       "      <td>-0.130452</td>\n",
       "      <td>-0.172818</td>\n",
       "      <td>0.366206</td>\n",
       "    </tr>\n",
       "    <tr>\n",
       "      <th>HighChol</th>\n",
       "      <td>0.345485</td>\n",
       "      <td>1.000000</td>\n",
       "      <td>0.107532</td>\n",
       "      <td>0.111535</td>\n",
       "      <td>0.110710</td>\n",
       "      <td>0.108703</td>\n",
       "      <td>0.212912</td>\n",
       "      <td>-0.069176</td>\n",
       "      <td>-0.027628</td>\n",
       "      <td>-0.021764</td>\n",
       "      <td>...</td>\n",
       "      <td>0.007580</td>\n",
       "      <td>0.233081</td>\n",
       "      <td>0.05965</td>\n",
       "      <td>0.130915</td>\n",
       "      <td>0.161787</td>\n",
       "      <td>0.060567</td>\n",
       "      <td>0.274936</td>\n",
       "      <td>-0.063712</td>\n",
       "      <td>-0.083682</td>\n",
       "      <td>0.322769</td>\n",
       "    </tr>\n",
       "  </tbody>\n",
       "</table>\n",
       "<p>2 rows × 22 columns</p>\n",
       "</div>"
      ],
      "text/plain": [
       "            HighBP  HighChol  CholCheck       BMI    Smoker    Stroke  \\\n",
       "HighBP    1.000000  0.345485   0.123343  0.215762  0.106896  0.150853   \n",
       "HighChol  0.345485  1.000000   0.107532  0.111535  0.110710  0.108703   \n",
       "\n",
       "          Diabetes  PhysActivity    Fruits   Veggies  ...  NoDocbcCost  \\\n",
       "HighBP    0.276907     -0.115622 -0.020447 -0.039780  ...     0.009208   \n",
       "HighChol  0.212912     -0.069176 -0.027628 -0.021764  ...     0.007580   \n",
       "\n",
       "           GenHlth  MentHlth  PhysHlth  DiffWalk       Sex       Age  \\\n",
       "HighBP    0.321930   0.05461  0.173833  0.245324  0.063895  0.355719   \n",
       "HighChol  0.233081   0.05965  0.130915  0.161787  0.060567  0.274936   \n",
       "\n",
       "          Education    Income  HeartDiseaseorAttack  \n",
       "HighBP    -0.130452 -0.172818              0.366206  \n",
       "HighChol  -0.063712 -0.083682              0.322769  \n",
       "\n",
       "[2 rows x 22 columns]"
      ]
     },
     "execution_count": 58,
     "metadata": {},
     "output_type": "execute_result"
    }
   ],
   "source": [
    "pp = v.corr() \n",
    "pp.head(2)"
   ]
  },
  {
   "cell_type": "markdown",
   "id": "0fe22e94",
   "metadata": {},
   "source": [
    "# HeatMap - Correlation Plot"
   ]
  },
  {
   "cell_type": "code",
   "execution_count": 59,
   "id": "636d8e93",
   "metadata": {
    "scrolled": false
   },
   "outputs": [
    {
     "data": {
      "image/png": "[encoded data removed]",
      "text/plain": [
       "<Figure size 1500x1000 with 2 Axes>"
      ]
     },
     "metadata": {},
     "output_type": "display_data"
    }
   ],
   "source": [
    "plt.figure(figsize = (15,10))\n",
    "heatmap = sns.heatmap(pp,linewidth = 1,annot = True,cmap = 'cividis')\n",
    "plt.title(\"Correlation Between Features\")\n",
    "plt.show()"
   ]
  },
  {
   "cell_type": "raw",
   "id": "4f301ffe",
   "metadata": {},
   "source": [
    "We can see that certain columns such as Income & Education have a strong negative correlation with our target (HeartDiseaseorAttack) column"
   ]
  },
  {
   "cell_type": "code",
   "execution_count": 60,
   "id": "e8c5bf9d",
   "metadata": {},
   "outputs": [
    {
     "data": {
      "text/plain": [
       "Index(['HeartDiseaseorAttack', 'HighBP', 'HighChol', 'CholCheck', 'BMI',\n",
       "       'Smoker', 'Stroke', 'Diabetes', 'PhysActivity', 'Fruits', 'Veggies',\n",
       "       'HvyAlcoholConsump', 'AnyHealthcare', 'NoDocbcCost', 'GenHlth',\n",
       "       'MentHlth', 'PhysHlth', 'DiffWalk', 'Sex', 'Age', 'Education',\n",
       "       'Income'],\n",
       "      dtype='object')"
      ]
     },
     "execution_count": 60,
     "metadata": {},
     "output_type": "execute_result"
    }
   ],
   "source": [
    "hd.columns"
   ]
  },
  {
   "cell_type": "code",
   "execution_count": 61,
   "id": "d3c69cc1",
   "metadata": {
    "scrolled": false
   },
   "outputs": [
    {
     "data": {
      "image/png": "[encoded data removed]",
      "text/plain": [
       "<Figure size 1000x500 with 2 Axes>"
      ]
     },
     "metadata": {},
     "output_type": "display_data"
    }
   ],
   "source": [
    "sns.displot(data=v, x=\"Age\", col=\"HeartDiseaseorAttack\",kde=True,color=\"red\",facecolor=\"blue\",edgecolor=\"black\").set(title='Having Heart disease or not corresponding to the age')\n",
    "plt.show()"
   ]
  },
  {
   "cell_type": "markdown",
   "id": "3f63bed8",
   "metadata": {},
   "source": [
    "Having Heart disease or not corresponding to the age"
   ]
  },
  {
   "cell_type": "code",
   "execution_count": 62,
   "id": "a3ea162c",
   "metadata": {
    "scrolled": false
   },
   "outputs": [
    {
     "data": {
      "image/png": "[encoded data removed]",
      "text/plain": [
       "<Figure size 640x480 with 1 Axes>"
      ]
     },
     "metadata": {},
     "output_type": "display_data"
    }
   ],
   "source": [
    "sns.histplot(data=v,x=\"BMI\",hue=\"HeartDiseaseorAttack\",multiple=\"stack\")\n",
    "plt.show()"
   ]
  },
  {
   "cell_type": "markdown",
   "id": "f2f97904",
   "metadata": {},
   "source": [
    "Having heart disease or not with respect to bmi"
   ]
  },
  {
   "cell_type": "code",
   "execution_count": 63,
   "id": "5cf90c7c",
   "metadata": {
    "scrolled": false
   },
   "outputs": [
    {
     "data": {
      "image/png": "[encoded data removed]",
      "text/plain": [
       "<Figure size 640x480 with 1 Axes>"
      ]
     },
     "metadata": {},
     "output_type": "display_data"
    }
   ],
   "source": [
    "sns.histplot(data=v, x='MentHlth')\n",
    "fig.show()"
   ]
  },
  {
   "cell_type": "code",
   "execution_count": 64,
   "id": "fd5172da",
   "metadata": {
    "scrolled": false
   },
   "outputs": [
    {
     "data": {
      "text/plain": [
       "<Axes: xlabel='PhysHlth', ylabel='Count'>"
      ]
     },
     "execution_count": 64,
     "metadata": {},
     "output_type": "execute_result"
    },
    {
     "data": {
      "image/png": "[encoded data removed]",
      "text/plain": [
       "<Figure size 640x480 with 1 Axes>"
      ]
     },
     "metadata": {},
     "output_type": "display_data"
    }
   ],
   "source": [
    "sns.histplot(data=v, x=\"PhysHlth\")"
   ]
  },
  {
   "cell_type": "code",
   "execution_count": 65,
   "id": "124531e6",
   "metadata": {
    "scrolled": false
   },
   "outputs": [
    {
     "data": {
      "text/plain": [
       "<Axes: xlabel='Income'>"
      ]
     },
     "execution_count": 65,
     "metadata": {},
     "output_type": "execute_result"
    },
    {
     "data": {
      "image/png": "[encoded data removed]",
      "text/plain": [
       "<Figure size 640x480 with 1 Axes>"
      ]
     },
     "metadata": {},
     "output_type": "display_data"
    }
   ],
   "source": [
    "sns.distplot(v['Income'], kde=False, color='Green')"
   ]
  },
  {
   "cell_type": "markdown",
   "id": "a3ef1cf4",
   "metadata": {},
   "source": [
    "# SPLITTING OF DATA"
   ]
  },
  {
   "cell_type": "code",
   "execution_count": 66,
   "id": "a668992c",
   "metadata": {},
   "outputs": [],
   "source": [
    "xs_tr,xs_te,ys_tr,ys_te=train_test_split(x_smote,y_smote,test_size=0.2,random_state=100)"
   ]
  },
  {
   "cell_type": "code",
   "execution_count": 67,
   "id": "6f226f96",
   "metadata": {},
   "outputs": [
    {
     "data": {
      "text/plain": [
       "((329702, 21), (82426, 21), (329702,), (82426,))"
      ]
     },
     "execution_count": 67,
     "metadata": {},
     "output_type": "execute_result"
    }
   ],
   "source": [
    "xs_tr.shape,xs_te.shape,ys_tr.shape,ys_te.shape"
   ]
  },
  {
   "cell_type": "markdown",
   "id": "f8265e27",
   "metadata": {},
   "source": [
    "# 1.Logistic Regression"
   ]
  },
  {
   "cell_type": "code",
   "execution_count": 68,
   "id": "539d1bbe",
   "metadata": {},
   "outputs": [
    {
     "data": {
      "text/plain": [
       "array([1., 0., 1., ..., 0., 0., 1.])"
      ]
     },
     "execution_count": 68,
     "metadata": {},
     "output_type": "execute_result"
    }
   ],
   "source": [
    "lg.fit(xs_tr,ys_tr)\n",
    "sm_p1=lg.predict(xs_te)\n",
    "sm_p1"
   ]
  },
  {
   "cell_type": "code",
   "execution_count": 69,
   "id": "05bcf7e7",
   "metadata": {},
   "outputs": [
    {
     "data": {
      "text/plain": [
       "(76.68575449494092,\n",
       " array([[30383,  8290],\n",
       "        [10927, 32826]], dtype=int64))"
      ]
     },
     "execution_count": 69,
     "metadata": {},
     "output_type": "execute_result"
    }
   ],
   "source": [
    "sm_cf1=confusion_matrix(sm_p1,ys_te)\n",
    "sm_ac1=sm_cf1.diagonal().sum()/sm_cf1.sum()*100\n",
    "sm_ac1,sm_cf1"
   ]
  },
  {
   "cell_type": "code",
   "execution_count": 70,
   "id": "475c9321",
   "metadata": {},
   "outputs": [
    {
     "name": "stdout",
     "output_type": "stream",
     "text": [
      "              precision    recall  f1-score   support\n",
      "\n",
      "         0.0       0.74      0.79      0.76     38673\n",
      "         1.0       0.80      0.75      0.77     43753\n",
      "\n",
      "    accuracy                           0.77     82426\n",
      "   macro avg       0.77      0.77      0.77     82426\n",
      "weighted avg       0.77      0.77      0.77     82426\n",
      "\n"
     ]
    }
   ],
   "source": [
    "print(classification_report(sm_p1,ys_te))"
   ]
  },
  {
   "cell_type": "code",
   "execution_count": 71,
   "id": "ed872ae1",
   "metadata": {},
   "outputs": [
    {
     "data": {
      "text/plain": [
       "(0.7502571252256988, 0.7983753283393327, 0.7735686764307345)"
      ]
     },
     "execution_count": 71,
     "metadata": {},
     "output_type": "execute_result"
    }
   ],
   "source": [
    "precision_smlg = precision_score(ys_te, sm_p1)\n",
    "recall_smlg = recall_score(ys_te, sm_p1)\n",
    "f1_smlg = f1_score(ys_te, sm_p1)\n",
    "precision_smlg, recall_smlg, f1_smlg"
   ]
  },
  {
   "cell_type": "markdown",
   "id": "38c8c43b",
   "metadata": {},
   "source": [
    "# 2. DT"
   ]
  },
  {
   "cell_type": "code",
   "execution_count": 72,
   "id": "332e98d2",
   "metadata": {},
   "outputs": [
    {
     "data": {
      "text/plain": [
       "array([1., 1., 1., ..., 0., 0., 1.])"
      ]
     },
     "execution_count": 72,
     "metadata": {},
     "output_type": "execute_result"
    }
   ],
   "source": [
    "dt.fit(xs_tr,ys_tr)\n",
    "sm_p2=dt.predict(xs_te)\n",
    "sm_p2"
   ]
  },
  {
   "cell_type": "code",
   "execution_count": 73,
   "id": "19fb6bac",
   "metadata": {},
   "outputs": [
    {
     "data": {
      "text/plain": [
       "array([0.27107886, 0.1231299 , 0.00117258, 0.05768817, 0.05423131,\n",
       "       0.03180661, 0.01157446, 0.01551888, 0.01682999, 0.01272386,\n",
       "       0.00408184, 0.00259812, 0.00578154, 0.08536554, 0.01815432,\n",
       "       0.02601876, 0.01789076, 0.07375513, 0.10648538, 0.02815011,\n",
       "       0.03596388])"
      ]
     },
     "execution_count": 73,
     "metadata": {},
     "output_type": "execute_result"
    }
   ],
   "source": [
    "dt.feature_importances_"
   ]
  },
  {
   "cell_type": "code",
   "execution_count": 74,
   "id": "75727b09",
   "metadata": {},
   "outputs": [
    {
     "data": {
      "text/plain": [
       "(90.51998155921676,\n",
       " array([[37028,  3532],\n",
       "        [ 4282, 37584]], dtype=int64))"
      ]
     },
     "execution_count": 74,
     "metadata": {},
     "output_type": "execute_result"
    }
   ],
   "source": [
    "sm_cf2=confusion_matrix(sm_p2,ys_te)\n",
    "dt_acc3=sm_cf2.diagonal().sum()/sm_cf2.sum()*100\n",
    "dt_acc3,sm_cf2"
   ]
  },
  {
   "cell_type": "code",
   "execution_count": 75,
   "id": "af80949d",
   "metadata": {},
   "outputs": [
    {
     "name": "stdout",
     "output_type": "stream",
     "text": [
      "              precision    recall  f1-score   support\n",
      "\n",
      "         0.0       0.90      0.91      0.90     40560\n",
      "         1.0       0.91      0.90      0.91     41866\n",
      "\n",
      "    accuracy                           0.91     82426\n",
      "   macro avg       0.91      0.91      0.91     82426\n",
      "weighted avg       0.91      0.91      0.91     82426\n",
      "\n"
     ]
    }
   ],
   "source": [
    "print(classification_report(sm_p2,ys_te))"
   ]
  },
  {
   "cell_type": "code",
   "execution_count": 76,
   "id": "aeac1f4a",
   "metadata": {},
   "outputs": [
    {
     "data": {
      "text/plain": [
       "(0.8977213012946066, 0.9140967020138145, 0.9058350003615241)"
      ]
     },
     "execution_count": 76,
     "metadata": {},
     "output_type": "execute_result"
    }
   ],
   "source": [
    "sm_dt_pre_score= precision_score(ys_te,sm_p2)\n",
    "sm_dt_re_score= recall_score(ys_te,sm_p2)\n",
    "sm_dt_f1_score= f1_score(ys_te,sm_p2)\n",
    "sm_dt_pre_score,sm_dt_re_score,sm_dt_f1_score"
   ]
  },
  {
   "cell_type": "markdown",
   "id": "20b2622a",
   "metadata": {},
   "source": [
    "# 3. Random Forest"
   ]
  },
  {
   "cell_type": "code",
   "execution_count": 77,
   "id": "6691959b",
   "metadata": {},
   "outputs": [
    {
     "data": {
      "text/plain": [
       "array([0., 1., 1., ..., 0., 0., 1.])"
      ]
     },
     "execution_count": 77,
     "metadata": {},
     "output_type": "execute_result"
    }
   ],
   "source": [
    "rf.fit(xs_tr,ys_tr)\n",
    "sm_p3=rf.predict(xs_te)\n",
    "sm_p3"
   ]
  },
  {
   "cell_type": "code",
   "execution_count": 78,
   "id": "d8828930",
   "metadata": {},
   "outputs": [
    {
     "data": {
      "text/plain": [
       "(94.06983233445757,\n",
       " array([[40254,  3832],\n",
       "        [ 1056, 37284]], dtype=int64))"
      ]
     },
     "execution_count": 78,
     "metadata": {},
     "output_type": "execute_result"
    }
   ],
   "source": [
    "sm_cf3=confusion_matrix(sm_p3,ys_te)\n",
    "sm_ac3=sm_cf3.diagonal().sum()/sm_cf3.sum()*100\n",
    "sm_ac3,sm_cf3"
   ]
  },
  {
   "cell_type": "code",
   "execution_count": 79,
   "id": "813448bb",
   "metadata": {},
   "outputs": [
    {
     "data": {
      "text/plain": [
       "array([0.13316325, 0.10860091, 0.00194832, 0.06011156, 0.06739747,\n",
       "       0.03391437, 0.01713523, 0.03040246, 0.02951397, 0.02150243,\n",
       "       0.0074194 , 0.00396526, 0.0088374 , 0.10543217, 0.02076664,\n",
       "       0.03000601, 0.05625299, 0.073244  , 0.11190854, 0.03490617,\n",
       "       0.04357147])"
      ]
     },
     "execution_count": 79,
     "metadata": {},
     "output_type": "execute_result"
    }
   ],
   "source": [
    "rf.feature_importances_"
   ]
  },
  {
   "cell_type": "code",
   "execution_count": 80,
   "id": "50b7a262",
   "metadata": {},
   "outputs": [
    {
     "name": "stdout",
     "output_type": "stream",
     "text": [
      "              precision    recall  f1-score   support\n",
      "\n",
      "         0.0       0.97      0.91      0.94     44086\n",
      "         1.0       0.91      0.97      0.94     38340\n",
      "\n",
      "    accuracy                           0.94     82426\n",
      "   macro avg       0.94      0.94      0.94     82426\n",
      "weighted avg       0.94      0.94      0.94     82426\n",
      "\n"
     ]
    }
   ],
   "source": [
    "print(classification_report(sm_p3,ys_te))"
   ]
  },
  {
   "cell_type": "code",
   "execution_count": 81,
   "id": "a9e513ab",
   "metadata": {
    "scrolled": true
   },
   "outputs": [
    {
     "data": {
      "text/plain": [
       "(0.9724569640062598, 0.9068002724000389, 0.9384816753926702)"
      ]
     },
     "execution_count": 81,
     "metadata": {},
     "output_type": "execute_result"
    }
   ],
   "source": [
    "precision_smrf = precision_score(ys_te, sm_p3)\n",
    "recall_smrf = recall_score(ys_te, sm_p3)\n",
    "f1_smrf = f1_score(ys_te, sm_p3)\n",
    "precision_smrf, recall_smrf, f1_smrf"
   ]
  },
  {
   "cell_type": "markdown",
   "id": "389d3913",
   "metadata": {},
   "source": [
    "# 4. KNN"
   ]
  },
  {
   "cell_type": "code",
   "execution_count": 82,
   "id": "b28990c2",
   "metadata": {},
   "outputs": [
    {
     "data": {
      "text/plain": [
       "array([1., 1., 0., ..., 0., 0., 1.])"
      ]
     },
     "execution_count": 82,
     "metadata": {},
     "output_type": "execute_result"
    }
   ],
   "source": [
    "knn.fit(xs_tr,ys_tr)\n",
    "sm_p5=knn.predict(xs_te)\n",
    "sm_p5"
   ]
  },
  {
   "cell_type": "code",
   "execution_count": 83,
   "id": "dd1e9c3d",
   "metadata": {},
   "outputs": [
    {
     "data": {
      "text/plain": [
       "(80.49401887753864,\n",
       " array([[26235,  1003],\n",
       "        [15075, 40113]], dtype=int64))"
      ]
     },
     "execution_count": 83,
     "metadata": {},
     "output_type": "execute_result"
    }
   ],
   "source": [
    "knn_cf8=confusion_matrix(sm_p5,ys_te)\n",
    "knn_acc3=knn_cf8.diagonal().sum()/knn_cf8.sum()*100\n",
    "knn_acc3,knn_cf8"
   ]
  },
  {
   "cell_type": "code",
   "execution_count": 84,
   "id": "2a57bd61",
   "metadata": {},
   "outputs": [
    {
     "name": "stdout",
     "output_type": "stream",
     "text": [
      "              precision    recall  f1-score   support\n",
      "\n",
      "         0.0       0.64      0.96      0.77     27238\n",
      "         1.0       0.98      0.73      0.83     55188\n",
      "\n",
      "    accuracy                           0.80     82426\n",
      "   macro avg       0.81      0.85      0.80     82426\n",
      "weighted avg       0.86      0.80      0.81     82426\n",
      "\n"
     ]
    }
   ],
   "source": [
    "print(classification_report(sm_p5,ys_te))"
   ]
  },
  {
   "cell_type": "code",
   "execution_count": 85,
   "id": "dc89d983",
   "metadata": {},
   "outputs": [
    {
     "data": {
      "text/plain": [
       "(0.7268427919112851, 0.9756056036579434, 0.8330495098853631)"
      ]
     },
     "execution_count": 85,
     "metadata": {},
     "output_type": "execute_result"
    }
   ],
   "source": [
    "sm_knn_pre_score= precision_score(ys_te,sm_p5)\n",
    "sm_knn_re_score= recall_score(ys_te,sm_p5)\n",
    "sm_knn_f1_score= f1_score(ys_te,sm_p5)\n",
    "sm_knn_pre_score,sm_knn_re_score,sm_knn_f1_score"
   ]
  },
  {
   "cell_type": "markdown",
   "id": "da667fa5",
   "metadata": {},
   "source": [
    "# 5. NB"
   ]
  },
  {
   "cell_type": "code",
   "execution_count": 86,
   "id": "fd379f7b",
   "metadata": {},
   "outputs": [
    {
     "data": {
      "text/plain": [
       "array([0., 0., 0., ..., 0., 1., 1.])"
      ]
     },
     "execution_count": 86,
     "metadata": {},
     "output_type": "execute_result"
    }
   ],
   "source": [
    "nb.fit(xs_tr,ys_tr)\n",
    "sm_p6=nb.predict(xs_te)\n",
    "sm_p6"
   ]
  },
  {
   "cell_type": "code",
   "execution_count": 87,
   "id": "f3995820",
   "metadata": {},
   "outputs": [
    {
     "data": {
      "text/plain": [
       "(62.282532210710215,\n",
       " array([[33400, 23179],\n",
       "        [ 7910, 17937]], dtype=int64))"
      ]
     },
     "execution_count": 87,
     "metadata": {},
     "output_type": "execute_result"
    }
   ],
   "source": [
    "nb_cf8=confusion_matrix(sm_p6,ys_te)\n",
    "nb_acc3=nb_cf8.diagonal().sum()/nb_cf8.sum()*100\n",
    "nb_acc3,nb_cf8"
   ]
  },
  {
   "cell_type": "code",
   "execution_count": 88,
   "id": "5d50cd0c",
   "metadata": {},
   "outputs": [
    {
     "name": "stdout",
     "output_type": "stream",
     "text": [
      "              precision    recall  f1-score   support\n",
      "\n",
      "         0.0       0.81      0.59      0.68     56579\n",
      "         1.0       0.44      0.69      0.54     25847\n",
      "\n",
      "    accuracy                           0.62     82426\n",
      "   macro avg       0.62      0.64      0.61     82426\n",
      "weighted avg       0.69      0.62      0.64     82426\n",
      "\n"
     ]
    }
   ],
   "source": [
    "print(classification_report(sm_p6,ys_te))"
   ]
  },
  {
   "cell_type": "code",
   "execution_count": 89,
   "id": "87087664",
   "metadata": {},
   "outputs": [
    {
     "data": {
      "text/plain": [
       "(0.6939683522265641, 0.43625352660764666, 0.5357286859907711)"
      ]
     },
     "execution_count": 89,
     "metadata": {},
     "output_type": "execute_result"
    }
   ],
   "source": [
    "sm_nb_pre_score= precision_score(ys_te,sm_p6)\n",
    "sm_nb_re_score= recall_score(ys_te,sm_p6)\n",
    "sm_nb_f1_score= f1_score(ys_te,sm_p6)\n",
    "sm_nb_pre_score,sm_nb_re_score,sm_nb_f1_score"
   ]
  },
  {
   "cell_type": "markdown",
   "id": "6645a7dd",
   "metadata": {},
   "source": [
    "# 6. XGB"
   ]
  },
  {
   "cell_type": "code",
   "execution_count": 90,
   "id": "4120e5e1",
   "metadata": {},
   "outputs": [
    {
     "data": {
      "text/plain": [
       "array([0, 1, 1, ..., 0, 0, 1])"
      ]
     },
     "execution_count": 90,
     "metadata": {},
     "output_type": "execute_result"
    }
   ],
   "source": [
    "xgb.fit(xs_tr,ys_tr)\n",
    "sm_p4=xgb.predict(xs_te)\n",
    "sm_p4"
   ]
  },
  {
   "cell_type": "code",
   "execution_count": 91,
   "id": "ba8cbf89",
   "metadata": {},
   "outputs": [
    {
     "data": {
      "text/plain": [
       "(94.33188557008711,\n",
       " array([[40796,  4158],\n",
       "        [  514, 36958]], dtype=int64))"
      ]
     },
     "execution_count": 91,
     "metadata": {},
     "output_type": "execute_result"
    }
   ],
   "source": [
    "sm_cf4=confusion_matrix(sm_p4,ys_te)\n",
    "sm_ac4=sm_cf4.diagonal().sum()/sm_cf4.sum()*100\n",
    "sm_ac4,sm_cf4"
   ]
  },
  {
   "cell_type": "code",
   "execution_count": 92,
   "id": "e850ae45",
   "metadata": {},
   "outputs": [
    {
     "name": "stdout",
     "output_type": "stream",
     "text": [
      "              precision    recall  f1-score   support\n",
      "\n",
      "           0       0.99      0.91      0.95     44954\n",
      "           1       0.90      0.99      0.94     37472\n",
      "\n",
      "    accuracy                           0.94     82426\n",
      "   macro avg       0.94      0.95      0.94     82426\n",
      "weighted avg       0.95      0.94      0.94     82426\n",
      "\n"
     ]
    }
   ],
   "source": [
    "print(classification_report(sm_p4,ys_te))"
   ]
  },
  {
   "cell_type": "code",
   "execution_count": 93,
   "id": "2af23ef1",
   "metadata": {},
   "outputs": [
    {
     "data": {
      "text/plain": [
       "(0.9862830913748932, 0.8988714855530694, 0.940550720211737)"
      ]
     },
     "execution_count": 93,
     "metadata": {},
     "output_type": "execute_result"
    }
   ],
   "source": [
    "precision_smxgb = precision_score(ys_te, sm_p4)\n",
    "recall_smxgb = recall_score(ys_te, sm_p4)\n",
    "f1_smxgb = f1_score(ys_te, sm_p4)\n",
    "precision_smxgb, recall_smxgb, f1_smxgb"
   ]
  },
  {
   "cell_type": "markdown",
   "id": "240762c9",
   "metadata": {},
   "source": [
    "# Smote DataFrame"
   ]
  },
  {
   "cell_type": "code",
   "execution_count": 94,
   "id": "c345e2ec",
   "metadata": {},
   "outputs": [],
   "source": [
    "l13=[\"LG\",\"DT\",\"RF\",\"KNN\",\"NB\",\"XGB\"]\n",
    "l14=[sm_ac1,dt_acc3,sm_ac3,knn_acc3,nb_acc3,sm_ac4]\n",
    "l15=[precision_smlg,sm_dt_pre_score,precision_smrf,sm_knn_pre_score,sm_nb_pre_score,precision_smxgb]\n",
    "l16=[recall_smlg,sm_dt_re_score,recall_smrf,sm_knn_re_score,sm_nb_re_score,recall_smxgb]\n",
    "l17=[f1_smlg,sm_dt_f1_score,f1_smrf,sm_knn_f1_score,sm_nb_f1_score,f1_smxgb]"
   ]
  },
  {
   "cell_type": "code",
   "execution_count": 95,
   "id": "289fc638",
   "metadata": {
    "scrolled": true
   },
   "outputs": [
    {
     "data": {
      "text/html": [
       "<div>\n",
       "<style scoped>\n",
       "    .dataframe tbody tr th:only-of-type {\n",
       "        vertical-align: middle;\n",
       "    }\n",
       "\n",
       "    .dataframe tbody tr th {\n",
       "        vertical-align: top;\n",
       "    }\n",
       "\n",
       "    .dataframe thead th {\n",
       "        text-align: right;\n",
       "    }\n",
       "</style>\n",
       "<table border=\"1\" class=\"dataframe\">\n",
       "  <thead>\n",
       "    <tr style=\"text-align: right;\">\n",
       "      <th></th>\n",
       "      <th>Model Name</th>\n",
       "      <th>Accuracy</th>\n",
       "      <th>Precision</th>\n",
       "      <th>Recall</th>\n",
       "      <th>F1-Score</th>\n",
       "    </tr>\n",
       "  </thead>\n",
       "  <tbody>\n",
       "    <tr>\n",
       "      <th>0</th>\n",
       "      <td>LG</td>\n",
       "      <td>76.685754</td>\n",
       "      <td>0.750257</td>\n",
       "      <td>0.798375</td>\n",
       "      <td>0.773569</td>\n",
       "    </tr>\n",
       "    <tr>\n",
       "      <th>1</th>\n",
       "      <td>DT</td>\n",
       "      <td>90.519982</td>\n",
       "      <td>0.897721</td>\n",
       "      <td>0.914097</td>\n",
       "      <td>0.905835</td>\n",
       "    </tr>\n",
       "    <tr>\n",
       "      <th>2</th>\n",
       "      <td>RF</td>\n",
       "      <td>94.069832</td>\n",
       "      <td>0.972457</td>\n",
       "      <td>0.906800</td>\n",
       "      <td>0.938482</td>\n",
       "    </tr>\n",
       "    <tr>\n",
       "      <th>3</th>\n",
       "      <td>KNN</td>\n",
       "      <td>80.494019</td>\n",
       "      <td>0.726843</td>\n",
       "      <td>0.975606</td>\n",
       "      <td>0.833050</td>\n",
       "    </tr>\n",
       "    <tr>\n",
       "      <th>4</th>\n",
       "      <td>NB</td>\n",
       "      <td>62.282532</td>\n",
       "      <td>0.693968</td>\n",
       "      <td>0.436254</td>\n",
       "      <td>0.535729</td>\n",
       "    </tr>\n",
       "    <tr>\n",
       "      <th>5</th>\n",
       "      <td>XGB</td>\n",
       "      <td>94.331886</td>\n",
       "      <td>0.986283</td>\n",
       "      <td>0.898871</td>\n",
       "      <td>0.940551</td>\n",
       "    </tr>\n",
       "  </tbody>\n",
       "</table>\n",
       "</div>"
      ],
      "text/plain": [
       "  Model Name   Accuracy  Precision    Recall  F1-Score\n",
       "0         LG  76.685754   0.750257  0.798375  0.773569\n",
       "1         DT  90.519982   0.897721  0.914097  0.905835\n",
       "2         RF  94.069832   0.972457  0.906800  0.938482\n",
       "3        KNN  80.494019   0.726843  0.975606  0.833050\n",
       "4         NB  62.282532   0.693968  0.436254  0.535729\n",
       "5        XGB  94.331886   0.986283  0.898871  0.940551"
      ]
     },
     "execution_count": 95,
     "metadata": {},
     "output_type": "execute_result"
    }
   ],
   "source": [
    "Finall=pd.DataFrame({\"Model Name\":l13,\"Accuracy\":l14,\"Precision\":l15,\"Recall\":l16,\"F1-Score\":l17})\n",
    "Finall"
   ]
  },
  {
   "cell_type": "markdown",
   "id": "f4e19d16",
   "metadata": {},
   "source": [
    "# SMOTE MODELS CONCLUSION:\n",
    " Out of these models,after treating class imbalance with smote oversampling XGBoost is better with good accuracy,precision,recall and f1 score compared to others."
   ]
  },
  {
   "cell_type": "markdown",
   "id": "39ff7f9c",
   "metadata": {},
   "source": [
    "# FEATURE SELECTION "
   ]
  },
  {
   "cell_type": "markdown",
   "id": "dcd991d8",
   "metadata": {},
   "source": [
    "# Random Forest"
   ]
  },
  {
   "cell_type": "code",
   "execution_count": 96,
   "id": "7a627dd7",
   "metadata": {},
   "outputs": [
    {
     "data": {
      "text/html": [
       "<div>\n",
       "<style scoped>\n",
       "    .dataframe tbody tr th:only-of-type {\n",
       "        vertical-align: middle;\n",
       "    }\n",
       "\n",
       "    .dataframe tbody tr th {\n",
       "        vertical-align: top;\n",
       "    }\n",
       "\n",
       "    .dataframe thead th {\n",
       "        text-align: right;\n",
       "    }\n",
       "</style>\n",
       "<table border=\"1\" class=\"dataframe\">\n",
       "  <thead>\n",
       "    <tr style=\"text-align: right;\">\n",
       "      <th></th>\n",
       "      <th>importances</th>\n",
       "      <th>columns</th>\n",
       "    </tr>\n",
       "  </thead>\n",
       "  <tbody>\n",
       "    <tr>\n",
       "      <th>0</th>\n",
       "      <td>0.133163</td>\n",
       "      <td>HighBP</td>\n",
       "    </tr>\n",
       "    <tr>\n",
       "      <th>1</th>\n",
       "      <td>0.108601</td>\n",
       "      <td>HighChol</td>\n",
       "    </tr>\n",
       "    <tr>\n",
       "      <th>2</th>\n",
       "      <td>0.001948</td>\n",
       "      <td>CholCheck</td>\n",
       "    </tr>\n",
       "    <tr>\n",
       "      <th>3</th>\n",
       "      <td>0.060112</td>\n",
       "      <td>BMI</td>\n",
       "    </tr>\n",
       "    <tr>\n",
       "      <th>4</th>\n",
       "      <td>0.067397</td>\n",
       "      <td>Smoker</td>\n",
       "    </tr>\n",
       "    <tr>\n",
       "      <th>5</th>\n",
       "      <td>0.033914</td>\n",
       "      <td>Stroke</td>\n",
       "    </tr>\n",
       "    <tr>\n",
       "      <th>6</th>\n",
       "      <td>0.017135</td>\n",
       "      <td>Diabetes</td>\n",
       "    </tr>\n",
       "    <tr>\n",
       "      <th>7</th>\n",
       "      <td>0.030402</td>\n",
       "      <td>PhysActivity</td>\n",
       "    </tr>\n",
       "    <tr>\n",
       "      <th>8</th>\n",
       "      <td>0.029514</td>\n",
       "      <td>Fruits</td>\n",
       "    </tr>\n",
       "    <tr>\n",
       "      <th>9</th>\n",
       "      <td>0.021502</td>\n",
       "      <td>Veggies</td>\n",
       "    </tr>\n",
       "    <tr>\n",
       "      <th>10</th>\n",
       "      <td>0.007419</td>\n",
       "      <td>HvyAlcoholConsump</td>\n",
       "    </tr>\n",
       "    <tr>\n",
       "      <th>11</th>\n",
       "      <td>0.003965</td>\n",
       "      <td>AnyHealthcare</td>\n",
       "    </tr>\n",
       "    <tr>\n",
       "      <th>12</th>\n",
       "      <td>0.008837</td>\n",
       "      <td>NoDocbcCost</td>\n",
       "    </tr>\n",
       "    <tr>\n",
       "      <th>13</th>\n",
       "      <td>0.105432</td>\n",
       "      <td>GenHlth</td>\n",
       "    </tr>\n",
       "    <tr>\n",
       "      <th>14</th>\n",
       "      <td>0.020767</td>\n",
       "      <td>MentHlth</td>\n",
       "    </tr>\n",
       "    <tr>\n",
       "      <th>15</th>\n",
       "      <td>0.030006</td>\n",
       "      <td>PhysHlth</td>\n",
       "    </tr>\n",
       "    <tr>\n",
       "      <th>16</th>\n",
       "      <td>0.056253</td>\n",
       "      <td>DiffWalk</td>\n",
       "    </tr>\n",
       "    <tr>\n",
       "      <th>17</th>\n",
       "      <td>0.073244</td>\n",
       "      <td>Sex</td>\n",
       "    </tr>\n",
       "    <tr>\n",
       "      <th>18</th>\n",
       "      <td>0.111909</td>\n",
       "      <td>Age</td>\n",
       "    </tr>\n",
       "    <tr>\n",
       "      <th>19</th>\n",
       "      <td>0.034906</td>\n",
       "      <td>Education</td>\n",
       "    </tr>\n",
       "    <tr>\n",
       "      <th>20</th>\n",
       "      <td>0.043571</td>\n",
       "      <td>Income</td>\n",
       "    </tr>\n",
       "  </tbody>\n",
       "</table>\n",
       "</div>"
      ],
      "text/plain": [
       "    importances            columns\n",
       "0      0.133163             HighBP\n",
       "1      0.108601           HighChol\n",
       "2      0.001948          CholCheck\n",
       "3      0.060112                BMI\n",
       "4      0.067397             Smoker\n",
       "5      0.033914             Stroke\n",
       "6      0.017135           Diabetes\n",
       "7      0.030402       PhysActivity\n",
       "8      0.029514             Fruits\n",
       "9      0.021502            Veggies\n",
       "10     0.007419  HvyAlcoholConsump\n",
       "11     0.003965      AnyHealthcare\n",
       "12     0.008837        NoDocbcCost\n",
       "13     0.105432            GenHlth\n",
       "14     0.020767           MentHlth\n",
       "15     0.030006           PhysHlth\n",
       "16     0.056253           DiffWalk\n",
       "17     0.073244                Sex\n",
       "18     0.111909                Age\n",
       "19     0.034906          Education\n",
       "20     0.043571             Income"
      ]
     },
     "execution_count": 96,
     "metadata": {},
     "output_type": "execute_result"
    }
   ],
   "source": [
    "df=pd.DataFrame({\"importances\":list(rf.feature_importances_),\"columns\":list(x_smote)})\n",
    "df"
   ]
  },
  {
   "cell_type": "code",
   "execution_count": 97,
   "id": "c9d0cee0",
   "metadata": {},
   "outputs": [
    {
     "data": {
      "text/html": [
       "<div>\n",
       "<style scoped>\n",
       "    .dataframe tbody tr th:only-of-type {\n",
       "        vertical-align: middle;\n",
       "    }\n",
       "\n",
       "    .dataframe tbody tr th {\n",
       "        vertical-align: top;\n",
       "    }\n",
       "\n",
       "    .dataframe thead th {\n",
       "        text-align: right;\n",
       "    }\n",
       "</style>\n",
       "<table border=\"1\" class=\"dataframe\">\n",
       "  <thead>\n",
       "    <tr style=\"text-align: right;\">\n",
       "      <th></th>\n",
       "      <th>HighBP</th>\n",
       "      <th>HighChol</th>\n",
       "      <th>CholCheck</th>\n",
       "      <th>BMI</th>\n",
       "      <th>Smoker</th>\n",
       "      <th>Stroke</th>\n",
       "      <th>Diabetes</th>\n",
       "      <th>PhysActivity</th>\n",
       "      <th>Fruits</th>\n",
       "      <th>Veggies</th>\n",
       "      <th>HvyAlcoholConsump</th>\n",
       "      <th>AnyHealthcare</th>\n",
       "      <th>NoDocbcCost</th>\n",
       "      <th>GenHlth</th>\n",
       "      <th>MentHlth</th>\n",
       "      <th>PhysHlth</th>\n",
       "      <th>DiffWalk</th>\n",
       "      <th>Sex</th>\n",
       "      <th>Age</th>\n",
       "    </tr>\n",
       "  </thead>\n",
       "  <tbody>\n",
       "    <tr>\n",
       "      <th>0</th>\n",
       "      <td>1.0</td>\n",
       "      <td>1.0</td>\n",
       "      <td>1.0</td>\n",
       "      <td>40.0</td>\n",
       "      <td>1.0</td>\n",
       "      <td>0.0</td>\n",
       "      <td>0.0</td>\n",
       "      <td>0.0</td>\n",
       "      <td>0.0</td>\n",
       "      <td>1.0</td>\n",
       "      <td>0.0</td>\n",
       "      <td>1.0</td>\n",
       "      <td>0.0</td>\n",
       "      <td>5.0</td>\n",
       "      <td>18.0</td>\n",
       "      <td>15.0</td>\n",
       "      <td>1.0</td>\n",
       "      <td>0.0</td>\n",
       "      <td>9.0</td>\n",
       "    </tr>\n",
       "    <tr>\n",
       "      <th>1</th>\n",
       "      <td>0.0</td>\n",
       "      <td>0.0</td>\n",
       "      <td>0.0</td>\n",
       "      <td>25.0</td>\n",
       "      <td>1.0</td>\n",
       "      <td>0.0</td>\n",
       "      <td>0.0</td>\n",
       "      <td>1.0</td>\n",
       "      <td>0.0</td>\n",
       "      <td>0.0</td>\n",
       "      <td>0.0</td>\n",
       "      <td>0.0</td>\n",
       "      <td>1.0</td>\n",
       "      <td>3.0</td>\n",
       "      <td>0.0</td>\n",
       "      <td>0.0</td>\n",
       "      <td>0.0</td>\n",
       "      <td>0.0</td>\n",
       "      <td>7.0</td>\n",
       "    </tr>\n",
       "  </tbody>\n",
       "</table>\n",
       "</div>"
      ],
      "text/plain": [
       "   HighBP  HighChol  CholCheck   BMI  Smoker  Stroke  Diabetes  PhysActivity  \\\n",
       "0     1.0       1.0        1.0  40.0     1.0     0.0       0.0           0.0   \n",
       "1     0.0       0.0        0.0  25.0     1.0     0.0       0.0           1.0   \n",
       "\n",
       "   Fruits  Veggies  HvyAlcoholConsump  AnyHealthcare  NoDocbcCost  GenHlth  \\\n",
       "0     0.0      1.0                0.0            1.0          0.0      5.0   \n",
       "1     0.0      0.0                0.0            0.0          1.0      3.0   \n",
       "\n",
       "   MentHlth  PhysHlth  DiffWalk  Sex  Age  \n",
       "0      18.0      15.0       1.0  0.0  9.0  \n",
       "1       0.0       0.0       0.0  0.0  7.0  "
      ]
     },
     "execution_count": 97,
     "metadata": {},
     "output_type": "execute_result"
    }
   ],
   "source": [
    "newx=x_smote.drop([\"Education\",\"Income\"],axis=1)\n",
    "newx.head(2)"
   ]
  },
  {
   "cell_type": "code",
   "execution_count": 98,
   "id": "e667dc8f",
   "metadata": {},
   "outputs": [
    {
     "data": {
      "text/plain": [
       "0.0    206064\n",
       "1.0    206064\n",
       "Name: HeartDiseaseorAttack, dtype: int64"
      ]
     },
     "execution_count": 98,
     "metadata": {},
     "output_type": "execute_result"
    }
   ],
   "source": [
    "y_smote.value_counts()"
   ]
  },
  {
   "cell_type": "code",
   "execution_count": 99,
   "id": "283250b3",
   "metadata": {},
   "outputs": [
    {
     "data": {
      "text/plain": [
       "((412128, 19), (412128,))"
      ]
     },
     "execution_count": 99,
     "metadata": {},
     "output_type": "execute_result"
    }
   ],
   "source": [
    "newx.shape,y_smote.shape"
   ]
  },
  {
   "cell_type": "code",
   "execution_count": 100,
   "id": "a0407998",
   "metadata": {},
   "outputs": [],
   "source": [
    "nsx_train,nsx_test,nsy_train,nsy_test=train_test_split(newx,y_smote,test_size=0.2,random_state=43)"
   ]
  },
  {
   "cell_type": "code",
   "execution_count": 101,
   "id": "59f3f273",
   "metadata": {},
   "outputs": [
    {
     "data": {
      "text/plain": [
       "((329702, 19), (82426, 19), (329702,), (82426,))"
      ]
     },
     "execution_count": 101,
     "metadata": {},
     "output_type": "execute_result"
    }
   ],
   "source": [
    "nsx_train.shape,nsx_test.shape,nsy_train.shape,nsy_test.shape"
   ]
  },
  {
   "cell_type": "markdown",
   "id": "bed02d93",
   "metadata": {},
   "source": [
    "# 1.Logistic Regression"
   ]
  },
  {
   "cell_type": "code",
   "execution_count": 102,
   "id": "ed7c8bab",
   "metadata": {},
   "outputs": [
    {
     "data": {
      "text/plain": [
       "array([0., 1., 1., ..., 1., 0., 1.])"
      ]
     },
     "execution_count": 102,
     "metadata": {},
     "output_type": "execute_result"
    }
   ],
   "source": [
    "lg.fit(nsx_train,nsy_train)\n",
    "lg_pred = lg.predict(nsx_test)\n",
    "lg_pred"
   ]
  },
  {
   "cell_type": "code",
   "execution_count": 103,
   "id": "02f970c3",
   "metadata": {},
   "outputs": [
    {
     "data": {
      "text/plain": [
       "(76.71487152112198,\n",
       " array([[30669,  8611],\n",
       "        [10582, 32564]], dtype=int64))"
      ]
     },
     "execution_count": 103,
     "metadata": {},
     "output_type": "execute_result"
    }
   ],
   "source": [
    "fs_lg_cm= confusion_matrix(lg_pred,nsy_test)\n",
    "fs_lg_acc=fs_lg_cm.diagonal().sum()/fs_lg_cm.sum()*100\n",
    "fs_lg_acc,fs_lg_cm"
   ]
  },
  {
   "cell_type": "code",
   "execution_count": 104,
   "id": "6de02e43",
   "metadata": {},
   "outputs": [
    {
     "name": "stdout",
     "output_type": "stream",
     "text": [
      "              precision    recall  f1-score   support\n",
      "\n",
      "         0.0       0.74      0.78      0.76     39280\n",
      "         1.0       0.79      0.75      0.77     43146\n",
      "\n",
      "    accuracy                           0.77     82426\n",
      "   macro avg       0.77      0.77      0.77     82426\n",
      "weighted avg       0.77      0.77      0.77     82426\n",
      "\n"
     ]
    }
   ],
   "source": [
    "print(classification_report(lg_pred,nsy_test))"
   ]
  },
  {
   "cell_type": "code",
   "execution_count": 105,
   "id": "4d499652",
   "metadata": {},
   "outputs": [
    {
     "data": {
      "text/plain": [
       "(0.7547397209474807, 0.7908682452944747, 0.7723817317157056)"
      ]
     },
     "execution_count": 105,
     "metadata": {},
     "output_type": "execute_result"
    }
   ],
   "source": [
    "fs_lg_pre_score= precision_score(nsy_test,lg_pred)\n",
    "fs_lg_re_score= recall_score(nsy_test,lg_pred)\n",
    "fs_lg_f1_score= f1_score(nsy_test,lg_pred)\n",
    "fs_lg_pre_score,fs_lg_re_score,fs_lg_f1_score"
   ]
  },
  {
   "cell_type": "markdown",
   "id": "cf2e6ee0",
   "metadata": {},
   "source": [
    "# 2.DT"
   ]
  },
  {
   "cell_type": "code",
   "execution_count": 106,
   "id": "008618cc",
   "metadata": {},
   "outputs": [
    {
     "data": {
      "text/plain": [
       "array([0., 1., 1., ..., 0., 1., 1.])"
      ]
     },
     "execution_count": 106,
     "metadata": {},
     "output_type": "execute_result"
    }
   ],
   "source": [
    "dt.fit(nsx_train,nsy_train)\n",
    "dt_pred = dt.predict(nsx_test)\n",
    "dt_pred"
   ]
  },
  {
   "cell_type": "code",
   "execution_count": 107,
   "id": "be87d036",
   "metadata": {},
   "outputs": [
    {
     "data": {
      "text/plain": [
       "(90.89243685244946,\n",
       " array([[37527,  3783],\n",
       "        [ 3724, 37392]], dtype=int64))"
      ]
     },
     "execution_count": 107,
     "metadata": {},
     "output_type": "execute_result"
    }
   ],
   "source": [
    "fs_dt_cm=confusion_matrix(dt_pred,nsy_test)\n",
    "fs_dt_acc=fs_dt_cm.diagonal().sum()/fs_dt_cm.sum()*100\n",
    "fs_dt_acc,fs_dt_cm"
   ]
  },
  {
   "cell_type": "code",
   "execution_count": 108,
   "id": "a6eb143e",
   "metadata": {},
   "outputs": [
    {
     "name": "stdout",
     "output_type": "stream",
     "text": [
      "              precision    recall  f1-score   support\n",
      "\n",
      "         0.0       0.91      0.91      0.91     41310\n",
      "         1.0       0.91      0.91      0.91     41116\n",
      "\n",
      "    accuracy                           0.91     82426\n",
      "   macro avg       0.91      0.91      0.91     82426\n",
      "weighted avg       0.91      0.91      0.91     82426\n",
      "\n"
     ]
    }
   ],
   "source": [
    "print(classification_report(dt_pred,nsy_test))"
   ]
  },
  {
   "cell_type": "code",
   "execution_count": 109,
   "id": "968f0d23",
   "metadata": {},
   "outputs": [
    {
     "data": {
      "text/plain": [
       "(0.9094269870609981, 0.9081238615664845, 0.9087749571642099)"
      ]
     },
     "execution_count": 109,
     "metadata": {},
     "output_type": "execute_result"
    }
   ],
   "source": [
    "fs_dt_pre_score= precision_score(nsy_test,dt_pred)\n",
    "fs_dt_re_score= recall_score(nsy_test,dt_pred)\n",
    "fs_dt_f1_score= f1_score(nsy_test,dt_pred)\n",
    "fs_dt_pre_score,fs_dt_re_score,fs_dt_f1_score"
   ]
  },
  {
   "cell_type": "markdown",
   "id": "ed745a68",
   "metadata": {},
   "source": [
    "# 3.RF"
   ]
  },
  {
   "cell_type": "code",
   "execution_count": 110,
   "id": "e834c6d2",
   "metadata": {},
   "outputs": [
    {
     "data": {
      "text/plain": [
       "array([0., 1., 1., ..., 1., 1., 1.])"
      ]
     },
     "execution_count": 110,
     "metadata": {},
     "output_type": "execute_result"
    }
   ],
   "source": [
    "rf.fit(nsx_train,nsy_train)\n",
    "rf_pred = rf.predict(nsx_test)\n",
    "rf_pred"
   ]
  },
  {
   "cell_type": "code",
   "execution_count": 111,
   "id": "6d558548",
   "metadata": {},
   "outputs": [
    {
     "data": {
      "text/plain": [
       "(93.48749181083639,\n",
       " array([[39820,  3937],\n",
       "        [ 1431, 37238]], dtype=int64))"
      ]
     },
     "execution_count": 111,
     "metadata": {},
     "output_type": "execute_result"
    }
   ],
   "source": [
    "fs_rf_cm = confusion_matrix(rf_pred,nsy_test)\n",
    "fs_rf_acc=fs_rf_cm.diagonal().sum()/fs_rf_cm.sum()*100\n",
    "fs_rf_acc,fs_rf_cm"
   ]
  },
  {
   "cell_type": "code",
   "execution_count": 112,
   "id": "195aaf30",
   "metadata": {},
   "outputs": [
    {
     "name": "stdout",
     "output_type": "stream",
     "text": [
      "              precision    recall  f1-score   support\n",
      "\n",
      "         0.0       0.97      0.91      0.94     43757\n",
      "         1.0       0.90      0.96      0.93     38669\n",
      "\n",
      "    accuracy                           0.93     82426\n",
      "   macro avg       0.93      0.94      0.93     82426\n",
      "weighted avg       0.94      0.93      0.93     82426\n",
      "\n"
     ]
    }
   ],
   "source": [
    "print(classification_report(rf_pred,nsy_test))"
   ]
  },
  {
   "cell_type": "code",
   "execution_count": 113,
   "id": "c5ecc6b4",
   "metadata": {},
   "outputs": [
    {
     "data": {
      "text/plain": [
       "(0.9629936124544208, 0.9043837279902853, 0.9327688993537397)"
      ]
     },
     "execution_count": 113,
     "metadata": {},
     "output_type": "execute_result"
    }
   ],
   "source": [
    "fs_rf_pre_score= precision_score(nsy_test,rf_pred)\n",
    "fs_rf_re_score= recall_score(nsy_test,rf_pred)\n",
    "fs_rf_f1_score= f1_score(nsy_test,rf_pred)\n",
    "fs_rf_pre_score,fs_rf_re_score,fs_rf_f1_score"
   ]
  },
  {
   "cell_type": "markdown",
   "id": "ddec4d1b",
   "metadata": {},
   "source": [
    "# 4.Xgb"
   ]
  },
  {
   "cell_type": "code",
   "execution_count": 114,
   "id": "8ca7f451",
   "metadata": {},
   "outputs": [
    {
     "data": {
      "text/plain": [
       "array([0, 1, 1, ..., 0, 1, 0])"
      ]
     },
     "execution_count": 114,
     "metadata": {},
     "output_type": "execute_result"
    }
   ],
   "source": [
    "xgb.fit(nsx_train,nsy_train)\n",
    "xgb_pred = xgb.predict(nsx_test)\n",
    "xgb_pred"
   ]
  },
  {
   "cell_type": "code",
   "execution_count": 115,
   "id": "60dca70a",
   "metadata": {},
   "outputs": [
    {
     "data": {
      "text/plain": [
       "(93.95215102030913,\n",
       " array([[40690,  4424],\n",
       "        [  561, 36751]], dtype=int64))"
      ]
     },
     "execution_count": 115,
     "metadata": {},
     "output_type": "execute_result"
    }
   ],
   "source": [
    "fs_xgb_cm = confusion_matrix(xgb_pred,nsy_test)\n",
    "fs_xgb_acc=fs_xgb_cm.diagonal().sum()/fs_xgb_cm.sum()*100\n",
    "fs_xgb_acc,fs_xgb_cm"
   ]
  },
  {
   "cell_type": "code",
   "execution_count": 116,
   "id": "3160be82",
   "metadata": {},
   "outputs": [
    {
     "name": "stdout",
     "output_type": "stream",
     "text": [
      "              precision    recall  f1-score   support\n",
      "\n",
      "           0       0.99      0.90      0.94     45114\n",
      "           1       0.89      0.98      0.94     37312\n",
      "\n",
      "    accuracy                           0.94     82426\n",
      "   macro avg       0.94      0.94      0.94     82426\n",
      "weighted avg       0.94      0.94      0.94     82426\n",
      "\n"
     ]
    }
   ],
   "source": [
    "print(classification_report(xgb_pred,nsy_test))"
   ]
  },
  {
   "cell_type": "code",
   "execution_count": 117,
   "id": "c9509533",
   "metadata": {},
   "outputs": [
    {
     "data": {
      "text/plain": [
       "(0.9849646226415094, 0.8925561627200972, 0.9364862970937863)"
      ]
     },
     "execution_count": 117,
     "metadata": {},
     "output_type": "execute_result"
    }
   ],
   "source": [
    "fs_xgb_pre_score= precision_score(nsy_test,xgb_pred)\n",
    "fs_xgb_re_score= recall_score(nsy_test,xgb_pred)\n",
    "fs_xgb_f1_score= f1_score(nsy_test,xgb_pred)\n",
    "fs_xgb_pre_score,fs_xgb_re_score,fs_xgb_f1_score"
   ]
  },
  {
   "cell_type": "markdown",
   "id": "4a2d2163",
   "metadata": {},
   "source": [
    "# 5.KNN"
   ]
  },
  {
   "cell_type": "code",
   "execution_count": 118,
   "id": "b741711b",
   "metadata": {},
   "outputs": [
    {
     "data": {
      "text/plain": [
       "array([0., 1., 1., ..., 1., 1., 1.])"
      ]
     },
     "execution_count": 118,
     "metadata": {},
     "output_type": "execute_result"
    }
   ],
   "source": [
    "knn.fit(nsx_train,nsy_train)\n",
    "knn_pred = knn.predict(nsx_test)\n",
    "knn_pred"
   ]
  },
  {
   "cell_type": "code",
   "execution_count": 119,
   "id": "f920389a",
   "metadata": {},
   "outputs": [
    {
     "data": {
      "text/plain": [
       "(80.66993424404922,\n",
       " array([[27171,  1853],\n",
       "        [14080, 39322]], dtype=int64))"
      ]
     },
     "execution_count": 119,
     "metadata": {},
     "output_type": "execute_result"
    }
   ],
   "source": [
    "fs_knn_cm = confusion_matrix(knn_pred,nsy_test)\n",
    "fs_knn_acc=fs_knn_cm.diagonal().sum()/fs_knn_cm.sum()*100\n",
    "fs_knn_acc,fs_knn_cm"
   ]
  },
  {
   "cell_type": "code",
   "execution_count": 120,
   "id": "ccd6c976",
   "metadata": {},
   "outputs": [
    {
     "name": "stdout",
     "output_type": "stream",
     "text": [
      "              precision    recall  f1-score   support\n",
      "\n",
      "         0.0       0.66      0.94      0.77     29024\n",
      "         1.0       0.95      0.74      0.83     53402\n",
      "\n",
      "    accuracy                           0.81     82426\n",
      "   macro avg       0.81      0.84      0.80     82426\n",
      "weighted avg       0.85      0.81      0.81     82426\n",
      "\n"
     ]
    }
   ],
   "source": [
    "print(classification_report(knn_pred,nsy_test))"
   ]
  },
  {
   "cell_type": "code",
   "execution_count": 121,
   "id": "2bc1b81a",
   "metadata": {},
   "outputs": [
    {
     "data": {
      "text/plain": [
       "(0.7363394629414629, 0.9549969641772921, 0.8315340939128965)"
      ]
     },
     "execution_count": 121,
     "metadata": {},
     "output_type": "execute_result"
    }
   ],
   "source": [
    "fs_knn_pre_score= precision_score(nsy_test,knn_pred)\n",
    "fs_knn_re_score= recall_score(nsy_test,knn_pred)\n",
    "fs_knn_f1_score= f1_score(nsy_test,knn_pred)\n",
    "fs_knn_pre_score,fs_knn_re_score,fs_knn_f1_score"
   ]
  },
  {
   "cell_type": "markdown",
   "id": "3a7c0f68",
   "metadata": {},
   "source": [
    "# 6. NB"
   ]
  },
  {
   "cell_type": "code",
   "execution_count": 122,
   "id": "84db4af1",
   "metadata": {},
   "outputs": [
    {
     "data": {
      "text/plain": [
       "array([0., 0., 1., ..., 1., 0., 0.])"
      ]
     },
     "execution_count": 122,
     "metadata": {},
     "output_type": "execute_result"
    }
   ],
   "source": [
    "nb.fit(nsx_train,nsy_train)\n",
    "nb_pred = nb.predict(nsx_test)\n",
    "nb_pred"
   ]
  },
  {
   "cell_type": "code",
   "execution_count": 123,
   "id": "ec15b546",
   "metadata": {},
   "outputs": [
    {
     "data": {
      "text/plain": [
       "(61.79118239390483,\n",
       " array([[33630, 23873],\n",
       "        [ 7621, 17302]], dtype=int64))"
      ]
     },
     "execution_count": 123,
     "metadata": {},
     "output_type": "execute_result"
    }
   ],
   "source": [
    "fs_nb_cm = confusion_matrix(nb_pred,nsy_test)\n",
    "fs_nb_acc=fs_nb_cm.diagonal().sum()/fs_nb_cm.sum()*100\n",
    "fs_nb_acc,fs_nb_cm"
   ]
  },
  {
   "cell_type": "code",
   "execution_count": 124,
   "id": "3d2b06d2",
   "metadata": {},
   "outputs": [
    {
     "name": "stdout",
     "output_type": "stream",
     "text": [
      "              precision    recall  f1-score   support\n",
      "\n",
      "         0.0       0.82      0.58      0.68     57503\n",
      "         1.0       0.42      0.69      0.52     24923\n",
      "\n",
      "    accuracy                           0.62     82426\n",
      "   macro avg       0.62      0.64      0.60     82426\n",
      "weighted avg       0.70      0.62      0.63     82426\n",
      "\n"
     ]
    }
   ],
   "source": [
    "print(classification_report(nb_pred,nsy_test))"
   ]
  },
  {
   "cell_type": "code",
   "execution_count": 125,
   "id": "d47f0504",
   "metadata": {},
   "outputs": [
    {
     "data": {
      "text/plain": [
       "(0.6942181920314568, 0.42020643594414087, 0.5235256739992132)"
      ]
     },
     "execution_count": 125,
     "metadata": {},
     "output_type": "execute_result"
    }
   ],
   "source": [
    "fs_nb_pre_score= precision_score(nsy_test,nb_pred)\n",
    "fs_nb_re_score= recall_score(nsy_test,nb_pred)\n",
    "fs_nb_f1_score= f1_score(nsy_test,nb_pred)\n",
    "fs_nb_pre_score,fs_nb_re_score,fs_nb_f1_score"
   ]
  },
  {
   "cell_type": "markdown",
   "id": "af69cb4a",
   "metadata": {},
   "source": [
    "# Feature Selection DataFrame"
   ]
  },
  {
   "cell_type": "code",
   "execution_count": 126,
   "id": "689b885f",
   "metadata": {},
   "outputs": [],
   "source": [
    "list18=[\"LG\",\"DT\",\"RF\",\"KNN\",\"NB\",\"XGB\"]\n",
    "list19=[fs_lg_acc,fs_dt_acc,fs_rf_acc,fs_knn_acc,fs_nb_acc,fs_xgb_acc]\n",
    "list20=[fs_lg_pre_score,fs_dt_pre_score,fs_rf_pre_score,fs_knn_pre_score,fs_nb_pre_score,fs_xgb_pre_score]\n",
    "list21=[fs_lg_re_score,fs_dt_re_score,fs_rf_re_score,fs_knn_re_score,fs_nb_re_score,fs_xgb_re_score]\n",
    "list23=[fs_lg_f1_score,fs_dt_f1_score,fs_rf_f1_score,fs_knn_f1_score,fs_nb_f1_score,fs_xgb_f1_score]"
   ]
  },
  {
   "cell_type": "code",
   "execution_count": 127,
   "id": "582d1ed4",
   "metadata": {},
   "outputs": [
    {
     "data": {
      "text/html": [
       "<div>\n",
       "<style scoped>\n",
       "    .dataframe tbody tr th:only-of-type {\n",
       "        vertical-align: middle;\n",
       "    }\n",
       "\n",
       "    .dataframe tbody tr th {\n",
       "        vertical-align: top;\n",
       "    }\n",
       "\n",
       "    .dataframe thead th {\n",
       "        text-align: right;\n",
       "    }\n",
       "</style>\n",
       "<table border=\"1\" class=\"dataframe\">\n",
       "  <thead>\n",
       "    <tr style=\"text-align: right;\">\n",
       "      <th></th>\n",
       "      <th>Model Name</th>\n",
       "      <th>Accuracy</th>\n",
       "      <th>Precision</th>\n",
       "      <th>Recall</th>\n",
       "      <th>F1-Score</th>\n",
       "    </tr>\n",
       "  </thead>\n",
       "  <tbody>\n",
       "    <tr>\n",
       "      <th>0</th>\n",
       "      <td>LG</td>\n",
       "      <td>76.714872</td>\n",
       "      <td>0.754740</td>\n",
       "      <td>0.790868</td>\n",
       "      <td>0.772382</td>\n",
       "    </tr>\n",
       "    <tr>\n",
       "      <th>1</th>\n",
       "      <td>DT</td>\n",
       "      <td>90.892437</td>\n",
       "      <td>0.909427</td>\n",
       "      <td>0.908124</td>\n",
       "      <td>0.908775</td>\n",
       "    </tr>\n",
       "    <tr>\n",
       "      <th>2</th>\n",
       "      <td>RF</td>\n",
       "      <td>93.487492</td>\n",
       "      <td>0.962994</td>\n",
       "      <td>0.904384</td>\n",
       "      <td>0.932769</td>\n",
       "    </tr>\n",
       "    <tr>\n",
       "      <th>3</th>\n",
       "      <td>KNN</td>\n",
       "      <td>80.669934</td>\n",
       "      <td>0.736339</td>\n",
       "      <td>0.954997</td>\n",
       "      <td>0.831534</td>\n",
       "    </tr>\n",
       "    <tr>\n",
       "      <th>4</th>\n",
       "      <td>NB</td>\n",
       "      <td>61.791182</td>\n",
       "      <td>0.694218</td>\n",
       "      <td>0.420206</td>\n",
       "      <td>0.523526</td>\n",
       "    </tr>\n",
       "    <tr>\n",
       "      <th>5</th>\n",
       "      <td>XGB</td>\n",
       "      <td>93.952151</td>\n",
       "      <td>0.984965</td>\n",
       "      <td>0.892556</td>\n",
       "      <td>0.936486</td>\n",
       "    </tr>\n",
       "  </tbody>\n",
       "</table>\n",
       "</div>"
      ],
      "text/plain": [
       "  Model Name   Accuracy  Precision    Recall  F1-Score\n",
       "0         LG  76.714872   0.754740  0.790868  0.772382\n",
       "1         DT  90.892437   0.909427  0.908124  0.908775\n",
       "2         RF  93.487492   0.962994  0.904384  0.932769\n",
       "3        KNN  80.669934   0.736339  0.954997  0.831534\n",
       "4         NB  61.791182   0.694218  0.420206  0.523526\n",
       "5        XGB  93.952151   0.984965  0.892556  0.936486"
      ]
     },
     "execution_count": 127,
     "metadata": {},
     "output_type": "execute_result"
    }
   ],
   "source": [
    "FINAL66= pd.DataFrame({\"Model Name\":list18,\"Accuracy\":list19,\"Precision\":list20,\"Recall\":list21,\"F1-Score\":list23})\n",
    "FINAL66"
   ]
  },
  {
   "cell_type": "markdown",
   "id": "69f017ec",
   "metadata": {},
   "source": [
    "# FINAL MODEL CONCLUSION:\n",
    "Out of these models,after feature selection \"XGBoost\" And \"RF\" is better  but there is not much difference after feature selection also."
   ]
  },
  {
   "cell_type": "markdown",
   "id": "a4b500d8",
   "metadata": {},
   "source": [
    "# AUC-ROC CURVE"
   ]
  },
  {
   "cell_type": "code",
   "execution_count": 128,
   "id": "bff2d75b",
   "metadata": {},
   "outputs": [
    {
     "data": {
      "text/html": [
       "<div>\n",
       "<style scoped>\n",
       "    .dataframe tbody tr th:only-of-type {\n",
       "        vertical-align: middle;\n",
       "    }\n",
       "\n",
       "    .dataframe tbody tr th {\n",
       "        vertical-align: top;\n",
       "    }\n",
       "\n",
       "    .dataframe thead th {\n",
       "        text-align: right;\n",
       "    }\n",
       "</style>\n",
       "<table border=\"1\" class=\"dataframe\">\n",
       "  <thead>\n",
       "    <tr style=\"text-align: right;\">\n",
       "      <th></th>\n",
       "      <th>0</th>\n",
       "      <th>1</th>\n",
       "    </tr>\n",
       "  </thead>\n",
       "  <tbody>\n",
       "    <tr>\n",
       "      <th>0</th>\n",
       "      <td>0.844408</td>\n",
       "      <td>0.155592</td>\n",
       "    </tr>\n",
       "    <tr>\n",
       "      <th>1</th>\n",
       "      <td>0.020417</td>\n",
       "      <td>0.979583</td>\n",
       "    </tr>\n",
       "    <tr>\n",
       "      <th>2</th>\n",
       "      <td>0.000000</td>\n",
       "      <td>1.000000</td>\n",
       "    </tr>\n",
       "    <tr>\n",
       "      <th>3</th>\n",
       "      <td>0.000000</td>\n",
       "      <td>1.000000</td>\n",
       "    </tr>\n",
       "    <tr>\n",
       "      <th>4</th>\n",
       "      <td>0.988503</td>\n",
       "      <td>0.011497</td>\n",
       "    </tr>\n",
       "    <tr>\n",
       "      <th>...</th>\n",
       "      <td>...</td>\n",
       "      <td>...</td>\n",
       "    </tr>\n",
       "    <tr>\n",
       "      <th>82421</th>\n",
       "      <td>0.000000</td>\n",
       "      <td>1.000000</td>\n",
       "    </tr>\n",
       "    <tr>\n",
       "      <th>82422</th>\n",
       "      <td>0.861261</td>\n",
       "      <td>0.138739</td>\n",
       "    </tr>\n",
       "    <tr>\n",
       "      <th>82423</th>\n",
       "      <td>0.617304</td>\n",
       "      <td>0.382696</td>\n",
       "    </tr>\n",
       "    <tr>\n",
       "      <th>82424</th>\n",
       "      <td>0.003179</td>\n",
       "      <td>0.996821</td>\n",
       "    </tr>\n",
       "    <tr>\n",
       "      <th>82425</th>\n",
       "      <td>0.790891</td>\n",
       "      <td>0.209109</td>\n",
       "    </tr>\n",
       "  </tbody>\n",
       "</table>\n",
       "<p>82426 rows × 2 columns</p>\n",
       "</div>"
      ],
      "text/plain": [
       "              0         1\n",
       "0      0.844408  0.155592\n",
       "1      0.020417  0.979583\n",
       "2      0.000000  1.000000\n",
       "3      0.000000  1.000000\n",
       "4      0.988503  0.011497\n",
       "...         ...       ...\n",
       "82421  0.000000  1.000000\n",
       "82422  0.861261  0.138739\n",
       "82423  0.617304  0.382696\n",
       "82424  0.003179  0.996821\n",
       "82425  0.790891  0.209109\n",
       "\n",
       "[82426 rows x 2 columns]"
      ]
     },
     "execution_count": 128,
     "metadata": {},
     "output_type": "execute_result"
    }
   ],
   "source": [
    "prob=xgb.predict_proba(nsx_test)\n",
    "df1=pd.DataFrame(prob)\n",
    "df1"
   ]
  },
  {
   "cell_type": "code",
   "execution_count": 129,
   "id": "dd4ef07a",
   "metadata": {},
   "outputs": [
    {
     "data": {
      "text/plain": [
       "0.9434509685003442"
      ]
     },
     "execution_count": 129,
     "metadata": {},
     "output_type": "execute_result"
    }
   ],
   "source": [
    "from sklearn.metrics import roc_auc_score\n",
    "from sklearn.metrics import roc_curve\n",
    "score=roc_auc_score(xgb_pred,nsy_test)\n",
    "score"
   ]
  },
  {
   "cell_type": "code",
   "execution_count": 130,
   "id": "b661304c",
   "metadata": {},
   "outputs": [
    {
     "data": {
      "image/png": "[encoded data removed]",
      "text/plain": [
       "<Figure size 640x480 with 1 Axes>"
      ]
     },
     "metadata": {},
     "output_type": "display_data"
    }
   ],
   "source": [
    "fpr,tpr,threshold=roc_curve(nsy_test,df1.iloc[:,1])\n",
    "plt.plot(fpr,tpr,color=\"blue\")\n",
    "plt.xlabel(\"Fpr\",color=\"black\")\n",
    "plt.ylabel(\"Tpr\",color=\"black\")\n",
    "plt.title(\"AUC-ROC CURVE\",color=\"Green\")\n",
    "plt.show()"
   ]
  },
  {
   "cell_type": "markdown",
   "id": "b9bf20ad",
   "metadata": {},
   "source": [
    "# AUC_ROC CURVE CONCLUSION:\n",
    "A high roc auc score indicated that the binary classification model is doing an excellent job of distinguishing between \n",
    "positive and negative instances.\n",
    "In conclusion,a ROC AUC score of 0.95 suggests that the model is performing very well and well suited for the classification."
   ]
  },
  {
   "cell_type": "markdown",
   "id": "3f575ce5",
   "metadata": {},
   "source": [
    "# COMPARISON OF ALL MODELS"
   ]
  },
  {
   "cell_type": "code",
   "execution_count": 131,
   "id": "adf82ea9",
   "metadata": {},
   "outputs": [
    {
     "data": {
      "text/html": [
       "<div>\n",
       "<style scoped>\n",
       "    .dataframe tbody tr th:only-of-type {\n",
       "        vertical-align: middle;\n",
       "    }\n",
       "\n",
       "    .dataframe tbody tr th {\n",
       "        vertical-align: top;\n",
       "    }\n",
       "\n",
       "    .dataframe thead th {\n",
       "        text-align: right;\n",
       "    }\n",
       "</style>\n",
       "<table border=\"1\" class=\"dataframe\">\n",
       "  <thead>\n",
       "    <tr style=\"text-align: right;\">\n",
       "      <th></th>\n",
       "      <th>Model Name</th>\n",
       "      <th>Accuracy</th>\n",
       "      <th>Precision</th>\n",
       "      <th>Recall</th>\n",
       "      <th>F1-Score</th>\n",
       "    </tr>\n",
       "  </thead>\n",
       "  <tbody>\n",
       "    <tr>\n",
       "      <th>0</th>\n",
       "      <td>LG</td>\n",
       "      <td>89.712122</td>\n",
       "      <td>0.537367</td>\n",
       "      <td>0.125520</td>\n",
       "      <td>0.203504</td>\n",
       "    </tr>\n",
       "    <tr>\n",
       "      <th>1</th>\n",
       "      <td>DT</td>\n",
       "      <td>83.401876</td>\n",
       "      <td>0.244372</td>\n",
       "      <td>0.279717</td>\n",
       "      <td>0.260853</td>\n",
       "    </tr>\n",
       "    <tr>\n",
       "      <th>2</th>\n",
       "      <td>RF</td>\n",
       "      <td>88.972300</td>\n",
       "      <td>0.400312</td>\n",
       "      <td>0.279717</td>\n",
       "      <td>0.168635</td>\n",
       "    </tr>\n",
       "    <tr>\n",
       "      <th>3</th>\n",
       "      <td>KNN</td>\n",
       "      <td>89.492352</td>\n",
       "      <td>0.478589</td>\n",
       "      <td>0.106816</td>\n",
       "      <td>0.072951</td>\n",
       "    </tr>\n",
       "    <tr>\n",
       "      <th>4</th>\n",
       "      <td>NB</td>\n",
       "      <td>80.135779</td>\n",
       "      <td>0.232163</td>\n",
       "      <td>0.388820</td>\n",
       "      <td>0.290731</td>\n",
       "    </tr>\n",
       "    <tr>\n",
       "      <th>5</th>\n",
       "      <td>XGB</td>\n",
       "      <td>89.731706</td>\n",
       "      <td>0.546269</td>\n",
       "      <td>0.114090</td>\n",
       "      <td>0.188757</td>\n",
       "    </tr>\n",
       "  </tbody>\n",
       "</table>\n",
       "</div>"
      ],
      "text/plain": [
       "  Model Name   Accuracy  Precision    Recall  F1-Score\n",
       "0         LG  89.712122   0.537367  0.125520  0.203504\n",
       "1         DT  83.401876   0.244372  0.279717  0.260853\n",
       "2         RF  88.972300   0.400312  0.279717  0.168635\n",
       "3        KNN  89.492352   0.478589  0.106816  0.072951\n",
       "4         NB  80.135779   0.232163  0.388820  0.290731\n",
       "5        XGB  89.731706   0.546269  0.114090  0.188757"
      ]
     },
     "metadata": {},
     "output_type": "display_data"
    },
    {
     "data": {
      "text/html": [
       "<div>\n",
       "<style scoped>\n",
       "    .dataframe tbody tr th:only-of-type {\n",
       "        vertical-align: middle;\n",
       "    }\n",
       "\n",
       "    .dataframe tbody tr th {\n",
       "        vertical-align: top;\n",
       "    }\n",
       "\n",
       "    .dataframe thead th {\n",
       "        text-align: right;\n",
       "    }\n",
       "</style>\n",
       "<table border=\"1\" class=\"dataframe\">\n",
       "  <thead>\n",
       "    <tr style=\"text-align: right;\">\n",
       "      <th></th>\n",
       "      <th>Model Name</th>\n",
       "      <th>Accuracy</th>\n",
       "      <th>Precision</th>\n",
       "      <th>Recall</th>\n",
       "      <th>F1-Score</th>\n",
       "    </tr>\n",
       "  </thead>\n",
       "  <tbody>\n",
       "    <tr>\n",
       "      <th>0</th>\n",
       "      <td>LG</td>\n",
       "      <td>76.685754</td>\n",
       "      <td>0.750257</td>\n",
       "      <td>0.798375</td>\n",
       "      <td>0.773569</td>\n",
       "    </tr>\n",
       "    <tr>\n",
       "      <th>1</th>\n",
       "      <td>DT</td>\n",
       "      <td>90.519982</td>\n",
       "      <td>0.897721</td>\n",
       "      <td>0.914097</td>\n",
       "      <td>0.905835</td>\n",
       "    </tr>\n",
       "    <tr>\n",
       "      <th>2</th>\n",
       "      <td>RF</td>\n",
       "      <td>94.069832</td>\n",
       "      <td>0.972457</td>\n",
       "      <td>0.906800</td>\n",
       "      <td>0.938482</td>\n",
       "    </tr>\n",
       "    <tr>\n",
       "      <th>3</th>\n",
       "      <td>KNN</td>\n",
       "      <td>80.494019</td>\n",
       "      <td>0.726843</td>\n",
       "      <td>0.975606</td>\n",
       "      <td>0.833050</td>\n",
       "    </tr>\n",
       "    <tr>\n",
       "      <th>4</th>\n",
       "      <td>NB</td>\n",
       "      <td>62.282532</td>\n",
       "      <td>0.693968</td>\n",
       "      <td>0.436254</td>\n",
       "      <td>0.535729</td>\n",
       "    </tr>\n",
       "    <tr>\n",
       "      <th>5</th>\n",
       "      <td>XGB</td>\n",
       "      <td>94.331886</td>\n",
       "      <td>0.986283</td>\n",
       "      <td>0.898871</td>\n",
       "      <td>0.940551</td>\n",
       "    </tr>\n",
       "  </tbody>\n",
       "</table>\n",
       "</div>"
      ],
      "text/plain": [
       "  Model Name   Accuracy  Precision    Recall  F1-Score\n",
       "0         LG  76.685754   0.750257  0.798375  0.773569\n",
       "1         DT  90.519982   0.897721  0.914097  0.905835\n",
       "2         RF  94.069832   0.972457  0.906800  0.938482\n",
       "3        KNN  80.494019   0.726843  0.975606  0.833050\n",
       "4         NB  62.282532   0.693968  0.436254  0.535729\n",
       "5        XGB  94.331886   0.986283  0.898871  0.940551"
      ]
     },
     "metadata": {},
     "output_type": "display_data"
    },
    {
     "data": {
      "text/html": [
       "<div>\n",
       "<style scoped>\n",
       "    .dataframe tbody tr th:only-of-type {\n",
       "        vertical-align: middle;\n",
       "    }\n",
       "\n",
       "    .dataframe tbody tr th {\n",
       "        vertical-align: top;\n",
       "    }\n",
       "\n",
       "    .dataframe thead th {\n",
       "        text-align: right;\n",
       "    }\n",
       "</style>\n",
       "<table border=\"1\" class=\"dataframe\">\n",
       "  <thead>\n",
       "    <tr style=\"text-align: right;\">\n",
       "      <th></th>\n",
       "      <th>Model Name</th>\n",
       "      <th>Accuracy</th>\n",
       "      <th>Precision</th>\n",
       "      <th>Recall</th>\n",
       "      <th>F1-Score</th>\n",
       "    </tr>\n",
       "  </thead>\n",
       "  <tbody>\n",
       "    <tr>\n",
       "      <th>0</th>\n",
       "      <td>LG</td>\n",
       "      <td>76.714872</td>\n",
       "      <td>0.754740</td>\n",
       "      <td>0.790868</td>\n",
       "      <td>0.772382</td>\n",
       "    </tr>\n",
       "    <tr>\n",
       "      <th>1</th>\n",
       "      <td>DT</td>\n",
       "      <td>90.892437</td>\n",
       "      <td>0.909427</td>\n",
       "      <td>0.908124</td>\n",
       "      <td>0.908775</td>\n",
       "    </tr>\n",
       "    <tr>\n",
       "      <th>2</th>\n",
       "      <td>RF</td>\n",
       "      <td>93.487492</td>\n",
       "      <td>0.962994</td>\n",
       "      <td>0.904384</td>\n",
       "      <td>0.932769</td>\n",
       "    </tr>\n",
       "    <tr>\n",
       "      <th>3</th>\n",
       "      <td>KNN</td>\n",
       "      <td>80.669934</td>\n",
       "      <td>0.736339</td>\n",
       "      <td>0.954997</td>\n",
       "      <td>0.831534</td>\n",
       "    </tr>\n",
       "    <tr>\n",
       "      <th>4</th>\n",
       "      <td>NB</td>\n",
       "      <td>61.791182</td>\n",
       "      <td>0.694218</td>\n",
       "      <td>0.420206</td>\n",
       "      <td>0.523526</td>\n",
       "    </tr>\n",
       "    <tr>\n",
       "      <th>5</th>\n",
       "      <td>XGB</td>\n",
       "      <td>93.952151</td>\n",
       "      <td>0.984965</td>\n",
       "      <td>0.892556</td>\n",
       "      <td>0.936486</td>\n",
       "    </tr>\n",
       "  </tbody>\n",
       "</table>\n",
       "</div>"
      ],
      "text/plain": [
       "  Model Name   Accuracy  Precision    Recall  F1-Score\n",
       "0         LG  76.714872   0.754740  0.790868  0.772382\n",
       "1         DT  90.892437   0.909427  0.908124  0.908775\n",
       "2         RF  93.487492   0.962994  0.904384  0.932769\n",
       "3        KNN  80.669934   0.736339  0.954997  0.831534\n",
       "4         NB  61.791182   0.694218  0.420206  0.523526\n",
       "5        XGB  93.952151   0.984965  0.892556  0.936486"
      ]
     },
     "metadata": {},
     "output_type": "display_data"
    }
   ],
   "source": [
    "display(BaseModels,Finall,FINAL66)"
   ]
  },
  {
   "cell_type": "markdown",
   "id": "d6b83ae8",
   "metadata": {},
   "source": [
    "# CROSS VALIDATION"
   ]
  },
  {
   "cell_type": "code",
   "execution_count": 132,
   "id": "37b0d524",
   "metadata": {},
   "outputs": [],
   "source": [
    "from sklearn.model_selection import cross_val_score,KFold\n",
    "from sklearn.metrics import  accuracy_score,make_scorer\n",
    "import xgboost as xgb"
   ]
  },
  {
   "cell_type": "code",
   "execution_count": 133,
   "id": "207571cd",
   "metadata": {},
   "outputs": [],
   "source": [
    "model=xgb.XGBClassifier()\n",
    "num_folds=5\n",
    "kf=KFold(n_splits=num_folds)\n",
    "scores=cross_val_score(model,newx,y_smote,cv=kf,scoring=\"accuracy\")"
   ]
  },
  {
   "cell_type": "code",
   "execution_count": 134,
   "id": "41d0f511",
   "metadata": {},
   "outputs": [
    {
     "name": "stdout",
     "output_type": "stream",
     "text": [
      "Fold1:Accuracy=0.90\n",
      "Fold2:Accuracy=0.90\n",
      "Fold3:Accuracy=0.91\n",
      "Fold4:Accuracy=0.99\n",
      "Fold5:Accuracy=0.99\n"
     ]
    }
   ],
   "source": [
    "for fold,score in enumerate(scores):\n",
    "    print(f\"Fold{fold+1}:Accuracy={score:.2f}\")"
   ]
  },
  {
   "cell_type": "code",
   "execution_count": 135,
   "id": "f2eea143",
   "metadata": {},
   "outputs": [
    {
     "name": "stdout",
     "output_type": "stream",
     "text": [
      "Mean Accuracy=0.94\n"
     ]
    }
   ],
   "source": [
    "print(f\"Mean Accuracy={scores.mean():.2f}\")"
   ]
  },
  {
   "cell_type": "code",
   "execution_count": 136,
   "id": "538785db",
   "metadata": {},
   "outputs": [],
   "source": [
    "from sklearn.model_selection import cross_val_predict\n",
    "predicted_labels=cross_val_predict(model,newx,y_smote,cv=5)"
   ]
  },
  {
   "cell_type": "code",
   "execution_count": 137,
   "id": "4399f1da",
   "metadata": {},
   "outputs": [],
   "source": [
    "precision=precision_score(y_smote,predicted_labels)\n",
    "recall=recall_score(y_smote,predicted_labels)\n",
    "f1=f1_score(y_smote,predicted_labels)\n",
    "accuracy=accuracy_score(y_smote,predicted_labels)"
   ]
  },
  {
   "cell_type": "code",
   "execution_count": 138,
   "id": "88ae0724",
   "metadata": {},
   "outputs": [],
   "source": [
    "l1=[accuracy]\n",
    "l2=[precision]\n",
    "l3=[recall]\n",
    "l4=[f1]"
   ]
  },
  {
   "cell_type": "code",
   "execution_count": 139,
   "id": "18c48887",
   "metadata": {},
   "outputs": [
    {
     "name": "stdout",
     "output_type": "stream",
     "text": [
      "Precision: 0.98\n",
      "Recall: 0.88\n",
      "F1-score: 0.93\n"
     ]
    }
   ],
   "source": [
    "print(f\"Precision: {precision:.2f}\")\n",
    "print(f\"Recall: {recall:.2f}\")\n",
    "print(f\"F1-score: {f1:.2f}\")"
   ]
  },
  {
   "cell_type": "code",
   "execution_count": 140,
   "id": "3db3c239",
   "metadata": {
    "scrolled": true
   },
   "outputs": [
    {
     "data": {
      "text/html": [
       "<div>\n",
       "<style scoped>\n",
       "    .dataframe tbody tr th:only-of-type {\n",
       "        vertical-align: middle;\n",
       "    }\n",
       "\n",
       "    .dataframe tbody tr th {\n",
       "        vertical-align: top;\n",
       "    }\n",
       "\n",
       "    .dataframe thead th {\n",
       "        text-align: right;\n",
       "    }\n",
       "</style>\n",
       "<table border=\"1\" class=\"dataframe\">\n",
       "  <thead>\n",
       "    <tr style=\"text-align: right;\">\n",
       "      <th></th>\n",
       "      <th>ModelName</th>\n",
       "      <th>Accuracy</th>\n",
       "      <th>Precision</th>\n",
       "      <th>Recall</th>\n",
       "      <th>F1-score</th>\n",
       "    </tr>\n",
       "  </thead>\n",
       "  <tbody>\n",
       "    <tr>\n",
       "      <th>0</th>\n",
       "      <td>KFold</td>\n",
       "      <td>0.930815</td>\n",
       "      <td>0.98014</td>\n",
       "      <td>0.87945</td>\n",
       "      <td>0.927069</td>\n",
       "    </tr>\n",
       "  </tbody>\n",
       "</table>\n",
       "</div>"
      ],
      "text/plain": [
       "  ModelName  Accuracy  Precision   Recall  F1-score\n",
       "0     KFold  0.930815    0.98014  0.87945  0.927069"
      ]
     },
     "execution_count": 140,
     "metadata": {},
     "output_type": "execute_result"
    }
   ],
   "source": [
    "cross_val=pd.DataFrame({\"ModelName\":\"KFold\",\"Accuracy\":l1,\"Precision\":l2,\"Recall\":l3,\"F1-score\":l4})\n",
    "cross_val "
   ]
  },
  {
   "cell_type": "markdown",
   "id": "81e73a08",
   "metadata": {},
   "source": [
    "# CONCLUSION:\n",
    "After this cross validation, the accuracy,precision,recall,f1score are good.\n",
    "we can conclude that the model is accurate and reliable in making predictions and it is likely a\n",
    "good choice for the problem to be solved."
   ]
  },
  {
   "cell_type": "code",
   "execution_count": null,
   "id": "825e9f16",
   "metadata": {},
   "outputs": [],
   "source": []
  },
  {
   "cell_type": "code",
   "execution_count": null,
   "id": "77f66c47",
   "metadata": {},
   "outputs": [],
   "source": []
  }
 ],
 "metadata": {
  "kernelspec": {
   "display_name": "Python 3 (ipykernel)",
   "language": "python",
   "name": "python3"
  },
  "language_info": {
   "codemirror_mode": {
    "name": "ipython",
    "version": 3
   },
   "file_extension": ".py",
   "mimetype": "text/x-python",
   "name": "python",
   "nbconvert_exporter": "python",
   "pygments_lexer": "ipython3",
   "version": "3.10.9"
  }
 },
 "nbformat": 4,
 "nbformat_minor": 5
}
